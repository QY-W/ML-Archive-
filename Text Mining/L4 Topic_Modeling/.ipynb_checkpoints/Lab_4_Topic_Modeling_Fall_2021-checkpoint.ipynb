{
 "cells": [
  {
   "cell_type": "markdown",
   "metadata": {},
   "source": [
    "# LAB 4. TOPIC MODELING - ANSWERS\n",
    "\n",
    "### **<font color=green>INSTRUCTIONS:</font>** <br> \n",
    "\n",
    "**<font color=green> 1. Look for EXERCISES in the script (3 in total).</font>** <br>\n",
    "\n",
    "**<font color=green> 2. Each student INDIVIDUALLY uploads this script with their answers embedded to Canvas by the end of the lab session or by Wednesday, 11:59pm CT (St. Louis time).</font>** \n",
    "\n",
    "### Lab Objectives\n",
    "\n",
    "1. Learn how to estimate a topic model in Python (using the sklearn package)\n",
    "2. Get familiar with the output of a topic model\n",
    "3. Visualize topics in a text corpus\n",
    "4. Evaluate and discriminate between topic models\n",
    "\n",
    "### Session Prep\n",
    "Below we install the modules we need and define the text normalization function we used in Lab 3, as well as two addtional function we need for today only.\n",
    "\n",
    "**Important:** Make sure Text_Normalization_Function.ipynb file is in the same directory as the current notebook"
   ]
  },
  {
   "cell_type": "code",
   "execution_count": 1,
   "metadata": {},
   "outputs": [
    {
     "name": "stdout",
     "output_type": "stream",
     "text": [
      "Requirement already satisfied: numpy in c:\\users\\willi\\appdata\\local\\programs\\python\\python38\\lib\\site-packages (1.20.2)\n"
     ]
    },
    {
     "name": "stderr",
     "output_type": "stream",
     "text": [
      "WARNING: Value for scheme.headers does not match. Please report this to <https://github.com/pypa/pip/issues/9617>\n",
      "distutils: c:\\users\\willi\\appdata\\local\\programs\\python\\python38\\Include\\UNKNOWN\n",
      "sysconfig: c:\\users\\willi\\appdata\\local\\programs\\python\\python38\\Include\n",
      "WARNING: Additional context:\n",
      "user = False\n",
      "home = None\n",
      "root = None\n",
      "prefix = None\n",
      "WARNING: Value for scheme.headers does not match. Please report this to <https://github.com/pypa/pip/issues/9617>\n",
      "distutils: c:\\users\\willi\\appdata\\local\\programs\\python\\python38\\Include\\UNKNOWN\n",
      "sysconfig: c:\\users\\willi\\appdata\\local\\programs\\python\\python38\\Include\n",
      "WARNING: Additional context:\n",
      "user = False\n",
      "home = None\n",
      "root = None\n",
      "prefix = None\n",
      "WARNING: You are using pip version 21.1; however, version 21.3.1 is available.\n",
      "You should consider upgrading via the 'c:\\users\\willi\\appdata\\local\\programs\\python\\python38\\python.exe -m pip install --upgrade pip' command.\n",
      "WARNING: Value for scheme.headers does not match. Please report this to <https://github.com/pypa/pip/issues/9617>\n",
      "distutils: c:\\users\\willi\\appdata\\local\\programs\\python\\python38\\Include\\UNKNOWN\n",
      "sysconfig: c:\\users\\willi\\appdata\\local\\programs\\python\\python38\\Include\n",
      "WARNING: Additional context:\n",
      "user = False\n",
      "home = None\n",
      "root = None\n",
      "prefix = None\n",
      "WARNING: Value for scheme.headers does not match. Please report this to <https://github.com/pypa/pip/issues/9617>\n",
      "distutils: c:\\users\\willi\\appdata\\local\\programs\\python\\python38\\Include\\UNKNOWN\n",
      "sysconfig: c:\\users\\willi\\appdata\\local\\programs\\python\\python38\\Include\n",
      "WARNING: Additional context:\n",
      "user = False\n",
      "home = None\n",
      "root = None\n",
      "prefix = None\n",
      "WARNING: You are using pip version 21.1; however, version 21.3.1 is available.\n",
      "You should consider upgrading via the 'c:\\users\\willi\\appdata\\local\\programs\\python\\python38\\python.exe -m pip install --upgrade pip' command.\n"
     ]
    },
    {
     "name": "stdout",
     "output_type": "stream",
     "text": [
      "Requirement already satisfied: pandas in c:\\users\\willi\\appdata\\local\\programs\\python\\python38\\lib\\site-packages (1.2.4)\n",
      "Requirement already satisfied: numpy>=1.16.5 in c:\\users\\willi\\appdata\\local\\programs\\python\\python38\\lib\\site-packages (from pandas) (1.20.2)\n",
      "Requirement already satisfied: python-dateutil>=2.7.3 in c:\\users\\willi\\appdata\\local\\programs\\python\\python38\\lib\\site-packages (from pandas) (2.8.1)\n",
      "Requirement already satisfied: pytz>=2017.3 in c:\\users\\willi\\appdata\\local\\programs\\python\\python38\\lib\\site-packages (from pandas) (2021.1)\n",
      "Requirement already satisfied: six>=1.5 in c:\\users\\willi\\appdata\\local\\programs\\python\\python38\\lib\\site-packages (from python-dateutil>=2.7.3->pandas) (1.15.0)\n"
     ]
    },
    {
     "name": "stderr",
     "output_type": "stream",
     "text": [
      "WARNING: Value for scheme.headers does not match. Please report this to <https://github.com/pypa/pip/issues/9617>\n",
      "distutils: c:\\users\\willi\\appdata\\local\\programs\\python\\python38\\Include\\UNKNOWN\n",
      "sysconfig: c:\\users\\willi\\appdata\\local\\programs\\python\\python38\\Include\n",
      "WARNING: Additional context:\n",
      "user = False\n",
      "home = None\n",
      "root = None\n",
      "prefix = None\n",
      "WARNING: Value for scheme.headers does not match. Please report this to <https://github.com/pypa/pip/issues/9617>\n",
      "distutils: c:\\users\\willi\\appdata\\local\\programs\\python\\python38\\Include\\UNKNOWN\n",
      "sysconfig: c:\\users\\willi\\appdata\\local\\programs\\python\\python38\\Include\n",
      "WARNING: Additional context:\n",
      "user = False\n",
      "home = None\n",
      "root = None\n",
      "prefix = None\n",
      "WARNING: You are using pip version 21.1; however, version 21.3.1 is available.\n",
      "You should consider upgrading via the 'c:\\users\\willi\\appdata\\local\\programs\\python\\python38\\python.exe -m pip install --upgrade pip' command.\n"
     ]
    },
    {
     "name": "stdout",
     "output_type": "stream",
     "text": [
      "Requirement already satisfied: nltk in c:\\users\\willi\\appdata\\local\\programs\\python\\python38\\lib\\site-packages (3.6.5)\n",
      "Requirement already satisfied: joblib in c:\\users\\willi\\appdata\\local\\programs\\python\\python38\\lib\\site-packages (from nltk) (1.1.0)\n",
      "Requirement already satisfied: regex>=2021.8.3 in c:\\users\\willi\\appdata\\local\\programs\\python\\python38\\lib\\site-packages (from nltk) (2021.11.2)\n",
      "Requirement already satisfied: click in c:\\users\\willi\\appdata\\local\\programs\\python\\python38\\lib\\site-packages (from nltk) (8.0.1)\n",
      "Requirement already satisfied: tqdm in c:\\users\\willi\\appdata\\local\\programs\\python\\python38\\lib\\site-packages (from nltk) (4.62.2)\n",
      "Requirement already satisfied: colorama in c:\\users\\willi\\appdata\\local\\programs\\python\\python38\\lib\\site-packages (from click->nltk) (0.4.4)\n",
      "Requirement already satisfied: sklearn in c:\\users\\willi\\appdata\\local\\programs\\python\\python38\\lib\\site-packages (0.0)\n",
      "Requirement already satisfied: scikit-learn in c:\\users\\willi\\appdata\\local\\programs\\python\\python38\\lib\\site-packages (from sklearn) (1.0.1)\n",
      "Requirement already satisfied: joblib>=0.11 in c:\\users\\willi\\appdata\\local\\programs\\python\\python38\\lib\\site-packages (from scikit-learn->sklearn) (1.1.0)\n",
      "Requirement already satisfied: scipy>=1.1.0 in c:\\users\\willi\\appdata\\local\\programs\\python\\python38\\lib\\site-packages (from scikit-learn->sklearn) (1.6.3)\n",
      "Requirement already satisfied: threadpoolctl>=2.0.0 in c:\\users\\willi\\appdata\\local\\programs\\python\\python38\\lib\\site-packages (from scikit-learn->sklearn) (3.0.0)\n",
      "Requirement already satisfied: numpy>=1.14.6 in c:\\users\\willi\\appdata\\local\\programs\\python\\python38\\lib\\site-packages (from scikit-learn->sklearn) (1.20.2)\n"
     ]
    },
    {
     "name": "stderr",
     "output_type": "stream",
     "text": [
      "WARNING: Value for scheme.headers does not match. Please report this to <https://github.com/pypa/pip/issues/9617>\n",
      "distutils: c:\\users\\willi\\appdata\\local\\programs\\python\\python38\\Include\\UNKNOWN\n",
      "sysconfig: c:\\users\\willi\\appdata\\local\\programs\\python\\python38\\Include\n",
      "WARNING: Additional context:\n",
      "user = False\n",
      "home = None\n",
      "root = None\n",
      "prefix = None\n",
      "WARNING: Value for scheme.headers does not match. Please report this to <https://github.com/pypa/pip/issues/9617>\n",
      "distutils: c:\\users\\willi\\appdata\\local\\programs\\python\\python38\\Include\\UNKNOWN\n",
      "sysconfig: c:\\users\\willi\\appdata\\local\\programs\\python\\python38\\Include\n",
      "WARNING: Additional context:\n",
      "user = False\n",
      "home = None\n",
      "root = None\n",
      "prefix = None\n",
      "WARNING: You are using pip version 21.1; however, version 21.3.1 is available.\n",
      "You should consider upgrading via the 'c:\\users\\willi\\appdata\\local\\programs\\python\\python38\\python.exe -m pip install --upgrade pip' command.\n",
      "WARNING: Value for scheme.headers does not match. Please report this to <https://github.com/pypa/pip/issues/9617>\n",
      "distutils: c:\\users\\willi\\appdata\\local\\programs\\python\\python38\\Include\\UNKNOWN\n",
      "sysconfig: c:\\users\\willi\\appdata\\local\\programs\\python\\python38\\Include\n",
      "WARNING: Additional context:\n",
      "user = False\n",
      "home = None\n",
      "root = None\n",
      "prefix = None\n",
      "ERROR: Invalid requirement: '#visualizing'\n",
      "WARNING: You are using pip version 21.1; however, version 21.3.1 is available.\n",
      "You should consider upgrading via the 'c:\\users\\willi\\appdata\\local\\programs\\python\\python38\\python.exe -m pip install --upgrade pip' command.\n"
     ]
    },
    {
     "name": "stdout",
     "output_type": "stream",
     "text": [
      "Requirement already satisfied: html.parser in c:\\users\\willi\\appdata\\local\\programs\\python\\python38\\lib\\site-packages (0.2)\n",
      "Requirement already satisfied: ply in c:\\users\\willi\\appdata\\local\\programs\\python\\python38\\lib\\site-packages (from html.parser) (3.11)\n"
     ]
    },
    {
     "name": "stderr",
     "output_type": "stream",
     "text": [
      "WARNING: Value for scheme.headers does not match. Please report this to <https://github.com/pypa/pip/issues/9617>\n",
      "distutils: c:\\users\\willi\\appdata\\local\\programs\\python\\python38\\Include\\UNKNOWN\n",
      "sysconfig: c:\\users\\willi\\appdata\\local\\programs\\python\\python38\\Include\n",
      "WARNING: Additional context:\n",
      "user = False\n",
      "home = None\n",
      "root = None\n",
      "prefix = None\n",
      "WARNING: Value for scheme.headers does not match. Please report this to <https://github.com/pypa/pip/issues/9617>\n",
      "distutils: c:\\users\\willi\\appdata\\local\\programs\\python\\python38\\Include\\UNKNOWN\n",
      "sysconfig: c:\\users\\willi\\appdata\\local\\programs\\python\\python38\\Include\n",
      "WARNING: Additional context:\n",
      "user = False\n",
      "home = None\n",
      "root = None\n",
      "prefix = None\n",
      "WARNING: You are using pip version 21.1; however, version 21.3.1 is available.\n",
      "You should consider upgrading via the 'c:\\users\\willi\\appdata\\local\\programs\\python\\python38\\python.exe -m pip install --upgrade pip' command.\n"
     ]
    },
    {
     "name": "stdout",
     "output_type": "stream",
     "text": [
      "Requirement already satisfied: pattern3 in c:\\users\\willi\\appdata\\local\\programs\\python\\python38\\lib\\site-packages (3.0.0)\n",
      "Requirement already satisfied: beautifulsoup4 in c:\\users\\willi\\appdata\\local\\programs\\python\\python38\\lib\\site-packages (from pattern3) (4.10.0)\n",
      "Requirement already satisfied: cherrypy in c:\\users\\willi\\appdata\\local\\programs\\python\\python38\\lib\\site-packages (from pattern3) (18.6.1)\n",
      "Requirement already satisfied: docx in c:\\users\\willi\\appdata\\local\\programs\\python\\python38\\lib\\site-packages (from pattern3) (0.2.4)\n",
      "Requirement already satisfied: feedparser in c:\\users\\willi\\appdata\\local\\programs\\python\\python38\\lib\\site-packages (from pattern3) (6.0.8)\n",
      "Requirement already satisfied: pdfminer3k in c:\\users\\willi\\appdata\\local\\programs\\python\\python38\\lib\\site-packages (from pattern3) (1.3.4)\n",
      "Requirement already satisfied: simplejson in c:\\users\\willi\\appdata\\local\\programs\\python\\python38\\lib\\site-packages (from pattern3) (3.17.5)\n",
      "Requirement already satisfied: pdfminer.six in c:\\users\\willi\\appdata\\local\\programs\\python\\python38\\lib\\site-packages (from pattern3) (20211012)\n",
      "Requirement already satisfied: soupsieve>1.2 in c:\\users\\willi\\appdata\\local\\programs\\python\\python38\\lib\\site-packages (from beautifulsoup4->pattern3) (2.2.1)\n",
      "Requirement already satisfied: pywin32>=227 in c:\\users\\willi\\appdata\\local\\programs\\python\\python38\\lib\\site-packages (from cherrypy->pattern3) (300)\n",
      "Requirement already satisfied: cheroot>=8.2.1 in c:\\users\\willi\\appdata\\local\\programs\\python\\python38\\lib\\site-packages (from cherrypy->pattern3) (8.5.2)\n",
      "Requirement already satisfied: jaraco.collections in c:\\users\\willi\\appdata\\local\\programs\\python\\python38\\lib\\site-packages (from cherrypy->pattern3) (3.4.0)\n",
      "Requirement already satisfied: zc.lockfile in c:\\users\\willi\\appdata\\local\\programs\\python\\python38\\lib\\site-packages (from cherrypy->pattern3) (2.0)\n",
      "Requirement already satisfied: portend>=2.1.1 in c:\\users\\willi\\appdata\\local\\programs\\python\\python38\\lib\\site-packages (from cherrypy->pattern3) (3.0.0)\n",
      "Requirement already satisfied: more-itertools in c:\\users\\willi\\appdata\\local\\programs\\python\\python38\\lib\\site-packages (from cherrypy->pattern3) (8.10.0)\n",
      "Requirement already satisfied: jaraco.functools in c:\\users\\willi\\appdata\\local\\programs\\python\\python38\\lib\\site-packages (from cheroot>=8.2.1->cherrypy->pattern3) (3.4.0)\n",
      "Requirement already satisfied: six>=1.11.0 in c:\\users\\willi\\appdata\\local\\programs\\python\\python38\\lib\\site-packages (from cheroot>=8.2.1->cherrypy->pattern3) (1.15.0)\n",
      "Requirement already satisfied: tempora>=1.8 in c:\\users\\willi\\appdata\\local\\programs\\python\\python38\\lib\\site-packages (from portend>=2.1.1->cherrypy->pattern3) (4.1.2)\n",
      "Requirement already satisfied: pytz in c:\\users\\willi\\appdata\\local\\programs\\python\\python38\\lib\\site-packages (from tempora>=1.8->portend>=2.1.1->cherrypy->pattern3) (2021.1)\n",
      "Requirement already satisfied: lxml in c:\\users\\willi\\appdata\\local\\programs\\python\\python38\\lib\\site-packages (from docx->pattern3) (4.6.4)\n",
      "Requirement already satisfied: Pillow>=2.0 in c:\\users\\willi\\appdata\\local\\programs\\python\\python38\\lib\\site-packages (from docx->pattern3) (8.3.2)\n",
      "Requirement already satisfied: sgmllib3k in c:\\users\\willi\\appdata\\local\\programs\\python\\python38\\lib\\site-packages (from feedparser->pattern3) (1.0.0)\n",
      "Requirement already satisfied: jaraco.classes in c:\\users\\willi\\appdata\\local\\programs\\python\\python38\\lib\\site-packages (from jaraco.collections->cherrypy->pattern3) (3.2.1)\n",
      "Requirement already satisfied: jaraco.text in c:\\users\\willi\\appdata\\local\\programs\\python\\python38\\lib\\site-packages (from jaraco.collections->cherrypy->pattern3) (3.6.0)\n",
      "Requirement already satisfied: importlib-resources in c:\\users\\willi\\appdata\\local\\programs\\python\\python38\\lib\\site-packages (from jaraco.text->jaraco.collections->cherrypy->pattern3) (5.4.0)\n",
      "Requirement already satisfied: zipp>=3.1.0 in c:\\users\\willi\\appdata\\local\\programs\\python\\python38\\lib\\site-packages (from importlib-resources->jaraco.text->jaraco.collections->cherrypy->pattern3) (3.6.0)\n",
      "Requirement already satisfied: chardet in c:\\users\\willi\\appdata\\local\\programs\\python\\python38\\lib\\site-packages (from pdfminer.six->pattern3) (4.0.0)\n",
      "Requirement already satisfied: cryptography in c:\\users\\willi\\appdata\\local\\programs\\python\\python38\\lib\\site-packages (from pdfminer.six->pattern3) (35.0.0)\n",
      "Requirement already satisfied: cffi>=1.12 in c:\\users\\willi\\appdata\\local\\programs\\python\\python38\\lib\\site-packages (from cryptography->pdfminer.six->pattern3) (1.14.5)\n",
      "Requirement already satisfied: pycparser in c:\\users\\willi\\appdata\\local\\programs\\python\\python38\\lib\\site-packages (from cffi>=1.12->cryptography->pdfminer.six->pattern3) (2.20)\n",
      "Requirement already satisfied: ply in c:\\users\\willi\\appdata\\local\\programs\\python\\python38\\lib\\site-packages (from pdfminer3k->pattern3) (3.11)\n",
      "Requirement already satisfied: setuptools in c:\\users\\willi\\appdata\\local\\programs\\python\\python38\\lib\\site-packages (from zc.lockfile->cherrypy->pattern3) (49.2.1)\n"
     ]
    },
    {
     "name": "stderr",
     "output_type": "stream",
     "text": [
      "WARNING: Value for scheme.headers does not match. Please report this to <https://github.com/pypa/pip/issues/9617>\n",
      "distutils: c:\\users\\willi\\appdata\\local\\programs\\python\\python38\\Include\\UNKNOWN\n",
      "sysconfig: c:\\users\\willi\\appdata\\local\\programs\\python\\python38\\Include\n",
      "WARNING: Additional context:\n",
      "user = False\n",
      "home = None\n",
      "root = None\n",
      "prefix = None\n",
      "WARNING: Value for scheme.headers does not match. Please report this to <https://github.com/pypa/pip/issues/9617>\n",
      "distutils: c:\\users\\willi\\appdata\\local\\programs\\python\\python38\\Include\\UNKNOWN\n",
      "sysconfig: c:\\users\\willi\\appdata\\local\\programs\\python\\python38\\Include\n",
      "WARNING: Additional context:\n",
      "user = False\n",
      "home = None\n",
      "root = None\n",
      "prefix = None\n",
      "WARNING: You are using pip version 21.1; however, version 21.3.1 is available.\n",
      "You should consider upgrading via the 'c:\\users\\willi\\appdata\\local\\programs\\python\\python38\\python.exe -m pip install --upgrade pip' command.\n"
     ]
    },
    {
     "name": "stdout",
     "output_type": "stream",
     "text": [
      "Requirement already satisfied: pyLDAvis in c:\\users\\willi\\appdata\\local\\programs\\python\\python38\\lib\\site-packages (3.3.1)\n",
      "Requirement already satisfied: jinja2 in c:\\users\\willi\\appdata\\local\\programs\\python\\python38\\lib\\site-packages (from pyLDAvis) (2.11.3)\n",
      "Requirement already satisfied: gensim in c:\\users\\willi\\appdata\\local\\programs\\python\\python38\\lib\\site-packages (from pyLDAvis) (4.1.2)\n",
      "Requirement already satisfied: setuptools in c:\\users\\willi\\appdata\\local\\programs\\python\\python38\\lib\\site-packages (from pyLDAvis) (49.2.1)\n",
      "Requirement already satisfied: funcy in c:\\users\\willi\\appdata\\local\\programs\\python\\python38\\lib\\site-packages (from pyLDAvis) (1.16)\n",
      "Requirement already satisfied: sklearn in c:\\users\\willi\\appdata\\local\\programs\\python\\python38\\lib\\site-packages (from pyLDAvis) (0.0)\n",
      "Requirement already satisfied: numexpr in c:\\users\\willi\\appdata\\local\\programs\\python\\python38\\lib\\site-packages (from pyLDAvis) (2.7.3)\n",
      "Requirement already satisfied: pandas>=1.2.0 in c:\\users\\willi\\appdata\\local\\programs\\python\\python38\\lib\\site-packages (from pyLDAvis) (1.2.4)\n",
      "Requirement already satisfied: scipy in c:\\users\\willi\\appdata\\local\\programs\\python\\python38\\lib\\site-packages (from pyLDAvis) (1.6.3)\n",
      "Requirement already satisfied: scikit-learn in c:\\users\\willi\\appdata\\local\\programs\\python\\python38\\lib\\site-packages (from pyLDAvis) (1.0.1)\n",
      "Requirement already satisfied: numpy>=1.20.0 in c:\\users\\willi\\appdata\\local\\programs\\python\\python38\\lib\\site-packages (from pyLDAvis) (1.20.2)\n",
      "Requirement already satisfied: joblib in c:\\users\\willi\\appdata\\local\\programs\\python\\python38\\lib\\site-packages (from pyLDAvis) (1.1.0)\n",
      "Requirement already satisfied: future in c:\\users\\willi\\appdata\\local\\programs\\python\\python38\\lib\\site-packages (from pyLDAvis) (0.18.2)\n",
      "Requirement already satisfied: python-dateutil>=2.7.3 in c:\\users\\willi\\appdata\\local\\programs\\python\\python38\\lib\\site-packages (from pandas>=1.2.0->pyLDAvis) (2.8.1)\n",
      "Requirement already satisfied: pytz>=2017.3 in c:\\users\\willi\\appdata\\local\\programs\\python\\python38\\lib\\site-packages (from pandas>=1.2.0->pyLDAvis) (2021.1)\n",
      "Requirement already satisfied: six>=1.5 in c:\\users\\willi\\appdata\\local\\programs\\python\\python38\\lib\\site-packages (from python-dateutil>=2.7.3->pandas>=1.2.0->pyLDAvis) (1.15.0)\n",
      "Requirement already satisfied: smart-open>=1.8.1 in c:\\users\\willi\\appdata\\local\\programs\\python\\python38\\lib\\site-packages (from gensim->pyLDAvis) (5.2.1)\n",
      "Requirement already satisfied: Cython==0.29.23 in c:\\users\\willi\\appdata\\local\\programs\\python\\python38\\lib\\site-packages (from gensim->pyLDAvis) (0.29.23)\n",
      "Requirement already satisfied: MarkupSafe>=0.23 in c:\\users\\willi\\appdata\\local\\programs\\python\\python38\\lib\\site-packages (from jinja2->pyLDAvis) (1.1.1)\n",
      "Requirement already satisfied: threadpoolctl>=2.0.0 in c:\\users\\willi\\appdata\\local\\programs\\python\\python38\\lib\\site-packages (from scikit-learn->pyLDAvis) (3.0.0)\n"
     ]
    },
    {
     "name": "stderr",
     "output_type": "stream",
     "text": [
      "WARNING: Value for scheme.headers does not match. Please report this to <https://github.com/pypa/pip/issues/9617>\n",
      "distutils: c:\\users\\willi\\appdata\\local\\programs\\python\\python38\\Include\\UNKNOWN\n",
      "sysconfig: c:\\users\\willi\\appdata\\local\\programs\\python\\python38\\Include\n",
      "WARNING: Additional context:\n",
      "user = False\n",
      "home = None\n",
      "root = None\n",
      "prefix = None\n",
      "WARNING: Value for scheme.headers does not match. Please report this to <https://github.com/pypa/pip/issues/9617>\n",
      "distutils: c:\\users\\willi\\appdata\\local\\programs\\python\\python38\\Include\\UNKNOWN\n",
      "sysconfig: c:\\users\\willi\\appdata\\local\\programs\\python\\python38\\Include\n",
      "WARNING: Additional context:\n",
      "user = False\n",
      "home = None\n",
      "root = None\n",
      "prefix = None\n",
      "WARNING: You are using pip version 21.1; however, version 21.3.1 is available.\n",
      "You should consider upgrading via the 'c:\\users\\willi\\appdata\\local\\programs\\python\\python38\\python.exe -m pip install --upgrade pip' command.\n",
      "[nltk_data] Downloading package stopwords to\n",
      "[nltk_data]     C:\\Users\\Willi\\AppData\\Roaming\\nltk_data...\n",
      "[nltk_data]   Package stopwords is already up-to-date!\n",
      "[nltk_data] Downloading package punkt to\n",
      "[nltk_data]     C:\\Users\\Willi\\AppData\\Roaming\\nltk_data...\n",
      "[nltk_data]   Package punkt is already up-to-date!\n",
      "[nltk_data] Downloading package averaged_perceptron_tagger to\n",
      "[nltk_data]     C:\\Users\\Willi\\AppData\\Roaming\\nltk_data...\n",
      "[nltk_data]   Package averaged_perceptron_tagger is already up-to-\n",
      "[nltk_data]       date!\n",
      "[nltk_data] Downloading package wordnet to\n",
      "[nltk_data]     C:\\Users\\Willi\\AppData\\Roaming\\nltk_data...\n",
      "[nltk_data]   Package wordnet is already up-to-date!\n"
     ]
    },
    {
     "name": "stdout",
     "output_type": "stream",
     "text": [
      "Original:   <p>The circus dog in a plissé skirt jumped over Python who wasn't that large, just 3 feet long.</p>\n",
      "Processed:  ['<', 'p', '>', 'The', 'circus', 'dog', 'in', 'a', 'plissé', 'skirt', 'jumped', 'over', 'Python', 'who', 'was', \"n't\", 'that', 'large', ',', 'just', '3', 'feet', 'long.', '<', '/p', '>']\n",
      "Original:   <p>The circus dog in a plissé skirt jumped over Python who wasn't that large, just 3 feet long.</p>\n",
      "Processed:  <p>The circus dog in a plissé skirt jumped over Python who was not that large, just 3 feet long.</p>\n",
      "Original:   <p>The circus dog in a plissé skirt jumped over Python who wasn't that large, just 3 feet long.</p>\n",
      "Processed:  [('<', 'a'), ('p', 'n'), ('>', 'v'), ('the', None), ('circus', 'n'), ('dog', 'n'), ('in', None), ('a', None), ('plissé', 'n'), ('skirt', 'n'), ('jumped', 'v'), ('over', None), ('python', 'n'), ('who', None), ('was', 'v'), (\"n't\", 'r'), ('that', None), ('large', 'a'), (',', None), ('just', 'r'), ('3', None), ('feet', 'n'), ('long.', 'a'), ('<', 'n'), ('/p', 'n'), ('>', 'n')]\n",
      "Original:   <p>The circus dog in a plissé skirt jumped over Python who wasn't that large, just 3 feet long.</p>\n",
      "Processed:  < p > the circus dog in a plissé skirt jump over python who be n't that large , just 3 foot long. < /p >\n",
      "Original:   <p>The circus dog in a plissé skirt jumped over Python who wasn't that large, just 3 feet long.</p>\n",
      "Processed:    p   The circus dog in a plissé skirt jumped over Python who was n t that large   just 3 feet long     p  \n",
      "Original:   <p>The circus dog in a plissé skirt jumped over Python who wasn't that large, just 3 feet long.</p>\n",
      "Processed:  < p > The circus dog plissé skirt jumped Python n't large , 3 feet long. < /p >\n",
      "Original:   <p>The circus dog in a plissé skirt jumped over Python who wasn't that large, just 3 feet long.</p>\n",
      "Processed:  p The circus dog in a plissé skirt jumped over Python who was n't that large just feet long. /p\n",
      "Original:   <p>The circus dog in a plissé skirt jumped over Python who wasn't that large, just 3 feet long.</p>\n",
      "Processed:  The circus dog in a plissé skirt jumped over Python who wasn't that large, just 3 feet long.\n",
      "Original:   <p>The circus dog in a plissé skirt jumped over Python who wasn't that large, just 3 feet long.</p>\n",
      "Processed:  <p>The circus dog in a plisse skirt jumped over Python who wasn't that large, just 3 feet long.</p>\n"
     ]
    }
   ],
   "source": [
    "#the module 'sys' allows istalling module from inside Jupyter\n",
    "import sys\n",
    "\n",
    "!{sys.executable} -m pip install numpy\n",
    "import numpy as np\n",
    "\n",
    "!{sys.executable} -m pip install pandas\n",
    "import pandas as pd\n",
    "\n",
    "#Natrual Language ToolKit (NLTK)\n",
    "!{sys.executable} -m pip install nltk\n",
    "import nltk\n",
    "\n",
    "!{sys.executable} -m pip install sklearn\n",
    "from sklearn import metrics\n",
    "#from sklearn.model_selection import GridSearchCV\n",
    "from sklearn.feature_extraction.text import  CountVectorizer #bag-of-words vectorizer \n",
    "from sklearn.decomposition import LatentDirichletAllocation #package for LDA\n",
    "\n",
    "# Plotting tools\n",
    "\n",
    "from pprint import pprint\n",
    "!{sys.executable} -m pip install pyLDAvis #visualizing LDA\n",
    "import pyLDAvis\n",
    "import pyLDAvis.sklearn\n",
    "\n",
    "import matplotlib.pyplot as plt\n",
    "%matplotlib inline\n",
    "\n",
    "#define text normalization function\n",
    "%run ./Text_Normalization_Function.ipynb #defining text normalization function\n",
    "\n",
    "#ignore warnings about future changes in functions as they take too much space\n",
    "import warnings\n",
    "warnings.simplefilter(action='ignore', category=FutureWarning)\n",
    "warnings.filterwarnings(\"ignore\", category=DeprecationWarning)"
   ]
  },
  {
   "cell_type": "markdown",
   "metadata": {},
   "source": [
    "Below we define two functions that will display the results of fitting a topic model, to be used later:\n",
    "\n",
    "*Note: these functions are not the focus of the lab, therefore we'll not be discussing them, but you are welcome to explore and dig into them later if you prefer*"
   ]
  },
  {
   "cell_type": "code",
   "execution_count": 2,
   "metadata": {},
   "outputs": [],
   "source": [
    "def display_topics(model, feature_names, no_top_words):\n",
    "    for topic_idx, topic in enumerate(model.components_):\n",
    "        print(\"Topic %d:\" % (topic_idx))\n",
    "        print(\" \".join([feature_names[i]\n",
    "                        for i in topic.argsort()[:-no_top_words - 1:-1]]))\n",
    "        \n",
    "def get_topic_words(vectorizer, lda_model, n_words):\n",
    "    keywords = np.array(vectorizer.get_feature_names())\n",
    "    topic_words = []\n",
    "    for topic_weights in lda_model.components_:\n",
    "        top_word_locs = (-topic_weights).argsort()[:n_words]\n",
    "        topic_words.append(keywords.take(top_word_locs).tolist())\n",
    "    return topic_words"
   ]
  },
  {
   "cell_type": "markdown",
   "metadata": {},
   "source": [
    "### Toy Data Example\n",
    "We'll start with working on a toy dataset. It will allow us to grasp the full results of a topic model before moving to high-dimensional realistic data.\n",
    "\n",
    "#### Define and Prep Toy Data\n",
    "Let's use the toy corpus on animals and programming similar to one in the lecture. Let's define it:"
   ]
  },
  {
   "cell_type": "code",
   "execution_count": 3,
   "metadata": {},
   "outputs": [],
   "source": [
    "toy_corpus = [\"The fox jumps over the dog\", \n",
    "              \"The fox is very clever and quick\", \n",
    "              \"The dog is slow and lazy\", \n",
    "              \"The cat is smarter than the fox and the dog but it can never learn Java\", \n",
    "              \"Python is an excellent programming language\", \n",
    "              \"Java and Ruby are other programming languages\", \n",
    "              \"Python and Java are very popular programming languages\", \n",
    "              \"Python programs are smaller than Java programs\"]"
   ]
  },
  {
   "cell_type": "markdown",
   "metadata": {},
   "source": [
    "Let's **normalize** our toy_corpus and call the normalized corpus **normalized_toy_corpus**:"
   ]
  },
  {
   "cell_type": "code",
   "execution_count": 4,
   "metadata": {},
   "outputs": [],
   "source": [
    "normalized_toy_corpus = normalize_corpus(toy_corpus) "
   ]
  },
  {
   "cell_type": "markdown",
   "metadata": {},
   "source": [
    "Since for topic modeling we need text data in the **Bag-of-Words** representation, let's **vectorize** our normalized_toy_corpus and call it **bow_toy_corpus**:"
   ]
  },
  {
   "cell_type": "code",
   "execution_count": 5,
   "metadata": {},
   "outputs": [],
   "source": [
    "#define the bag-of-words vectorizer:\n",
    "bow_vectorizer = CountVectorizer()\n",
    "\n",
    "#vectorize the normalized data:\n",
    "bow_toy_corpus = bow_vectorizer.fit_transform(normalized_toy_corpus)"
   ]
  },
  {
   "cell_type": "markdown",
   "metadata": {},
   "source": [
    "Have a look at the Bag-of-Words representation of our corpus: **It never hurts to know how you data look like :)** Note absence of stopwords and other differences with the raw data:"
   ]
  },
  {
   "cell_type": "code",
   "execution_count": 6,
   "metadata": {},
   "outputs": [
    {
     "data": {
      "text/html": [
       "<div>\n",
       "<style scoped>\n",
       "    .dataframe tbody tr th:only-of-type {\n",
       "        vertical-align: middle;\n",
       "    }\n",
       "\n",
       "    .dataframe tbody tr th {\n",
       "        vertical-align: top;\n",
       "    }\n",
       "\n",
       "    .dataframe thead th {\n",
       "        text-align: right;\n",
       "    }\n",
       "</style>\n",
       "<table border=\"1\" class=\"dataframe\">\n",
       "  <thead>\n",
       "    <tr style=\"text-align: right;\">\n",
       "      <th></th>\n",
       "      <th>cat</th>\n",
       "      <th>clever</th>\n",
       "      <th>dog</th>\n",
       "      <th>excellent</th>\n",
       "      <th>fox</th>\n",
       "      <th>java</th>\n",
       "      <th>jump</th>\n",
       "      <th>language</th>\n",
       "      <th>lazy</th>\n",
       "      <th>learn</th>\n",
       "      <th>never</th>\n",
       "      <th>popular</th>\n",
       "      <th>program</th>\n",
       "      <th>programming</th>\n",
       "      <th>python</th>\n",
       "      <th>quick</th>\n",
       "      <th>ruby</th>\n",
       "      <th>slow</th>\n",
       "      <th>small</th>\n",
       "      <th>smarter</th>\n",
       "    </tr>\n",
       "  </thead>\n",
       "  <tbody>\n",
       "    <tr>\n",
       "      <th>0</th>\n",
       "      <td>0</td>\n",
       "      <td>0</td>\n",
       "      <td>1</td>\n",
       "      <td>0</td>\n",
       "      <td>1</td>\n",
       "      <td>0</td>\n",
       "      <td>1</td>\n",
       "      <td>0</td>\n",
       "      <td>0</td>\n",
       "      <td>0</td>\n",
       "      <td>0</td>\n",
       "      <td>0</td>\n",
       "      <td>0</td>\n",
       "      <td>0</td>\n",
       "      <td>0</td>\n",
       "      <td>0</td>\n",
       "      <td>0</td>\n",
       "      <td>0</td>\n",
       "      <td>0</td>\n",
       "      <td>0</td>\n",
       "    </tr>\n",
       "    <tr>\n",
       "      <th>1</th>\n",
       "      <td>0</td>\n",
       "      <td>1</td>\n",
       "      <td>0</td>\n",
       "      <td>0</td>\n",
       "      <td>1</td>\n",
       "      <td>0</td>\n",
       "      <td>0</td>\n",
       "      <td>0</td>\n",
       "      <td>0</td>\n",
       "      <td>0</td>\n",
       "      <td>0</td>\n",
       "      <td>0</td>\n",
       "      <td>0</td>\n",
       "      <td>0</td>\n",
       "      <td>0</td>\n",
       "      <td>1</td>\n",
       "      <td>0</td>\n",
       "      <td>0</td>\n",
       "      <td>0</td>\n",
       "      <td>0</td>\n",
       "    </tr>\n",
       "    <tr>\n",
       "      <th>2</th>\n",
       "      <td>0</td>\n",
       "      <td>0</td>\n",
       "      <td>1</td>\n",
       "      <td>0</td>\n",
       "      <td>0</td>\n",
       "      <td>0</td>\n",
       "      <td>0</td>\n",
       "      <td>0</td>\n",
       "      <td>1</td>\n",
       "      <td>0</td>\n",
       "      <td>0</td>\n",
       "      <td>0</td>\n",
       "      <td>0</td>\n",
       "      <td>0</td>\n",
       "      <td>0</td>\n",
       "      <td>0</td>\n",
       "      <td>0</td>\n",
       "      <td>1</td>\n",
       "      <td>0</td>\n",
       "      <td>0</td>\n",
       "    </tr>\n",
       "    <tr>\n",
       "      <th>3</th>\n",
       "      <td>1</td>\n",
       "      <td>0</td>\n",
       "      <td>1</td>\n",
       "      <td>0</td>\n",
       "      <td>1</td>\n",
       "      <td>1</td>\n",
       "      <td>0</td>\n",
       "      <td>0</td>\n",
       "      <td>0</td>\n",
       "      <td>1</td>\n",
       "      <td>1</td>\n",
       "      <td>0</td>\n",
       "      <td>0</td>\n",
       "      <td>0</td>\n",
       "      <td>0</td>\n",
       "      <td>0</td>\n",
       "      <td>0</td>\n",
       "      <td>0</td>\n",
       "      <td>0</td>\n",
       "      <td>1</td>\n",
       "    </tr>\n",
       "    <tr>\n",
       "      <th>4</th>\n",
       "      <td>0</td>\n",
       "      <td>0</td>\n",
       "      <td>0</td>\n",
       "      <td>1</td>\n",
       "      <td>0</td>\n",
       "      <td>0</td>\n",
       "      <td>0</td>\n",
       "      <td>1</td>\n",
       "      <td>0</td>\n",
       "      <td>0</td>\n",
       "      <td>0</td>\n",
       "      <td>0</td>\n",
       "      <td>0</td>\n",
       "      <td>1</td>\n",
       "      <td>1</td>\n",
       "      <td>0</td>\n",
       "      <td>0</td>\n",
       "      <td>0</td>\n",
       "      <td>0</td>\n",
       "      <td>0</td>\n",
       "    </tr>\n",
       "    <tr>\n",
       "      <th>5</th>\n",
       "      <td>0</td>\n",
       "      <td>0</td>\n",
       "      <td>0</td>\n",
       "      <td>0</td>\n",
       "      <td>0</td>\n",
       "      <td>1</td>\n",
       "      <td>0</td>\n",
       "      <td>1</td>\n",
       "      <td>0</td>\n",
       "      <td>0</td>\n",
       "      <td>0</td>\n",
       "      <td>0</td>\n",
       "      <td>0</td>\n",
       "      <td>1</td>\n",
       "      <td>0</td>\n",
       "      <td>0</td>\n",
       "      <td>1</td>\n",
       "      <td>0</td>\n",
       "      <td>0</td>\n",
       "      <td>0</td>\n",
       "    </tr>\n",
       "    <tr>\n",
       "      <th>6</th>\n",
       "      <td>0</td>\n",
       "      <td>0</td>\n",
       "      <td>0</td>\n",
       "      <td>0</td>\n",
       "      <td>0</td>\n",
       "      <td>1</td>\n",
       "      <td>0</td>\n",
       "      <td>1</td>\n",
       "      <td>0</td>\n",
       "      <td>0</td>\n",
       "      <td>0</td>\n",
       "      <td>1</td>\n",
       "      <td>0</td>\n",
       "      <td>1</td>\n",
       "      <td>1</td>\n",
       "      <td>0</td>\n",
       "      <td>0</td>\n",
       "      <td>0</td>\n",
       "      <td>0</td>\n",
       "      <td>0</td>\n",
       "    </tr>\n",
       "    <tr>\n",
       "      <th>7</th>\n",
       "      <td>0</td>\n",
       "      <td>0</td>\n",
       "      <td>0</td>\n",
       "      <td>0</td>\n",
       "      <td>0</td>\n",
       "      <td>1</td>\n",
       "      <td>0</td>\n",
       "      <td>0</td>\n",
       "      <td>0</td>\n",
       "      <td>0</td>\n",
       "      <td>0</td>\n",
       "      <td>0</td>\n",
       "      <td>2</td>\n",
       "      <td>0</td>\n",
       "      <td>1</td>\n",
       "      <td>0</td>\n",
       "      <td>0</td>\n",
       "      <td>0</td>\n",
       "      <td>1</td>\n",
       "      <td>0</td>\n",
       "    </tr>\n",
       "  </tbody>\n",
       "</table>\n",
       "</div>"
      ],
      "text/plain": [
       "   cat  clever  dog  excellent  fox  java  jump  language  lazy  learn  never  \\\n",
       "0    0       0    1          0    1     0     1         0     0      0      0   \n",
       "1    0       1    0          0    1     0     0         0     0      0      0   \n",
       "2    0       0    1          0    0     0     0         0     1      0      0   \n",
       "3    1       0    1          0    1     1     0         0     0      1      1   \n",
       "4    0       0    0          1    0     0     0         1     0      0      0   \n",
       "5    0       0    0          0    0     1     0         1     0      0      0   \n",
       "6    0       0    0          0    0     1     0         1     0      0      0   \n",
       "7    0       0    0          0    0     1     0         0     0      0      0   \n",
       "\n",
       "   popular  program  programming  python  quick  ruby  slow  small  smarter  \n",
       "0        0        0            0       0      0     0     0      0        0  \n",
       "1        0        0            0       0      1     0     0      0        0  \n",
       "2        0        0            0       0      0     0     1      0        0  \n",
       "3        0        0            0       0      0     0     0      0        1  \n",
       "4        0        0            1       1      0     0     0      0        0  \n",
       "5        0        0            1       0      0     1     0      0        0  \n",
       "6        1        0            1       1      0     0     0      0        0  \n",
       "7        0        2            0       1      0     0     0      1        0  "
      ]
     },
     "execution_count": 6,
     "metadata": {},
     "output_type": "execute_result"
    }
   ],
   "source": [
    "pd.DataFrame(data = bow_toy_corpus.todense(), columns = bow_vectorizer.get_feature_names())"
   ]
  },
  {
   "cell_type": "markdown",
   "metadata": {},
   "source": [
    "#### Topic Model (via Latent Dirichlet Allocation) on Toy Data\n",
    "Now let's **model topics** in our toy data. Given that the toy corpus is so small, we know all \"topics\" it contains (**what are they?**) and it will be easy for us:<br> 1) to check if the topic model results make sense; <br>2) see all the results that the topic model produces.  <br><br>\n",
    "We will be using the **LatentDirichletAllocation** function which we already imported earlier (see Session Prep). The function has the following **parameters** to be set:\n",
    "1. Number of topics to model: **n_components**\n",
    "2. Parameter vector for the Dirichlet distribution for *topics*: **doc_topic_prior**\n",
    "3. Parameter vector for the Dirichlet distribution for *words* in a topic: **topic_word_prior**\n",
    "\n",
    "Notes on **parameter vectors for the Dirichlet distributions**: <br>\n",
    "1. Although the Dirichlet distribution parameters are represented by a **vector**, for simplicity we provide one number for each parameter vector. For example, if we set the number of topics to 2 (n_components=2), the parameter vector for the Dirichlet distribution for *topics* should be a two-dimensional vector. We set doc_topic_prior=0.5 and the LatentDirichletAllocation function internally creates a two-dimensional vector (0.5,0.5). Similar logic applies to the parameter vector for the Dirichlet distribution for *words*.<br><br>\n",
    "2. Remember, that we need **sparsity** in the distribution of topics across documents (i.e., some documents have a zero probability of containing some of the topics) and *sparsity* in the distribution of words in topics (i.e., some words have zero probability to be present in some topics). To induce sparsity, we need to set doc_topic_prior and doc_topic_prior between 0 and 1.\n",
    "\n",
    "Now, let's set the parameters and estimate the topic model:"
   ]
  },
  {
   "cell_type": "code",
   "execution_count": 7,
   "metadata": {},
   "outputs": [],
   "source": [
    "lda_toy_corpus = LatentDirichletAllocation(n_components=2, max_iter=500,\n",
    "                                           doc_topic_prior = 0.9,\n",
    "                                           topic_word_prior = 0.9).fit(bow_toy_corpus)"
   ]
  },
  {
   "cell_type": "markdown",
   "metadata": {},
   "source": [
    "Display results by showing 15 **most frequent (top)** words for each topic (we use **function display_topics** defined in Session Prep):"
   ]
  },
  {
   "cell_type": "code",
   "execution_count": 8,
   "metadata": {},
   "outputs": [
    {
     "name": "stdout",
     "output_type": "stream",
     "text": [
      "Topic 0:\n",
      "dog fox smarter never learn cat jump lazy slow quick clever java programming language python\n",
      "Topic 1:\n",
      "java python language programming program popular small excellent ruby fox dog clever quick lazy slow\n"
     ]
    }
   ],
   "source": [
    "no_top_words = 15\n",
    "display_topics(lda_toy_corpus, bow_vectorizer.get_feature_names(), no_top_words)"
   ]
  },
  {
   "cell_type": "markdown",
   "metadata": {},
   "source": [
    "Note that topics do not have names or labels. **Topics are just collections of words**, following the definition of a topic in text mining. <br><br> To be precise, topics are **word vectors**, where each vector element is the **weight** (relative frequency) of the word in a topic. Let's have a look at those \"word vectors\". Can you see below that each word vector (topic) is a **simplex**?"
   ]
  },
  {
   "cell_type": "code",
   "execution_count": 9,
   "metadata": {},
   "outputs": [
    {
     "data": {
      "text/html": [
       "<div>\n",
       "<style scoped>\n",
       "    .dataframe tbody tr th:only-of-type {\n",
       "        vertical-align: middle;\n",
       "    }\n",
       "\n",
       "    .dataframe tbody tr th {\n",
       "        vertical-align: top;\n",
       "    }\n",
       "\n",
       "    .dataframe thead th {\n",
       "        text-align: right;\n",
       "    }\n",
       "</style>\n",
       "<table border=\"1\" class=\"dataframe\">\n",
       "  <thead>\n",
       "    <tr style=\"text-align: right;\">\n",
       "      <th></th>\n",
       "      <th>cat</th>\n",
       "      <th>clever</th>\n",
       "      <th>dog</th>\n",
       "      <th>excellent</th>\n",
       "      <th>fox</th>\n",
       "      <th>java</th>\n",
       "      <th>jump</th>\n",
       "      <th>language</th>\n",
       "      <th>lazy</th>\n",
       "      <th>learn</th>\n",
       "      <th>never</th>\n",
       "      <th>popular</th>\n",
       "      <th>program</th>\n",
       "      <th>programming</th>\n",
       "      <th>python</th>\n",
       "      <th>quick</th>\n",
       "      <th>ruby</th>\n",
       "      <th>slow</th>\n",
       "      <th>small</th>\n",
       "      <th>smarter</th>\n",
       "    </tr>\n",
       "  </thead>\n",
       "  <tbody>\n",
       "    <tr>\n",
       "      <th>0</th>\n",
       "      <td>0.055089</td>\n",
       "      <td>0.054436</td>\n",
       "      <td>0.113486</td>\n",
       "      <td>0.028201</td>\n",
       "      <td>0.113486</td>\n",
       "      <td>0.053815</td>\n",
       "      <td>0.054604</td>\n",
       "      <td>0.028622</td>\n",
       "      <td>0.054436</td>\n",
       "      <td>0.055089</td>\n",
       "      <td>0.055089</td>\n",
       "      <td>0.027959</td>\n",
       "      <td>0.028292</td>\n",
       "      <td>0.028622</td>\n",
       "      <td>0.028475</td>\n",
       "      <td>0.054436</td>\n",
       "      <td>0.028333</td>\n",
       "      <td>0.054436</td>\n",
       "      <td>0.028007</td>\n",
       "      <td>0.055089</td>\n",
       "    </tr>\n",
       "    <tr>\n",
       "      <th>1</th>\n",
       "      <td>0.025956</td>\n",
       "      <td>0.026564</td>\n",
       "      <td>0.026766</td>\n",
       "      <td>0.050982</td>\n",
       "      <td>0.026766</td>\n",
       "      <td>0.109889</td>\n",
       "      <td>0.026407</td>\n",
       "      <td>0.105755</td>\n",
       "      <td>0.026564</td>\n",
       "      <td>0.025956</td>\n",
       "      <td>0.025956</td>\n",
       "      <td>0.051208</td>\n",
       "      <td>0.078480</td>\n",
       "      <td>0.105755</td>\n",
       "      <td>0.105892</td>\n",
       "      <td>0.026564</td>\n",
       "      <td>0.050859</td>\n",
       "      <td>0.026564</td>\n",
       "      <td>0.051163</td>\n",
       "      <td>0.025956</td>\n",
       "    </tr>\n",
       "  </tbody>\n",
       "</table>\n",
       "</div>"
      ],
      "text/plain": [
       "        cat    clever       dog  excellent       fox      java      jump  \\\n",
       "0  0.055089  0.054436  0.113486   0.028201  0.113486  0.053815  0.054604   \n",
       "1  0.025956  0.026564  0.026766   0.050982  0.026766  0.109889  0.026407   \n",
       "\n",
       "   language      lazy     learn     never   popular   program  programming  \\\n",
       "0  0.028622  0.054436  0.055089  0.055089  0.027959  0.028292     0.028622   \n",
       "1  0.105755  0.026564  0.025956  0.025956  0.051208  0.078480     0.105755   \n",
       "\n",
       "     python     quick      ruby      slow     small   smarter  \n",
       "0  0.028475  0.054436  0.028333  0.054436  0.028007  0.055089  \n",
       "1  0.105892  0.026564  0.050859  0.026564  0.051163  0.025956  "
      ]
     },
     "execution_count": 9,
     "metadata": {},
     "output_type": "execute_result"
    }
   ],
   "source": [
    "word_weights = lda_toy_corpus.components_ / lda_toy_corpus.components_.sum(axis=1)[:, np.newaxis]\n",
    "pd.DataFrame(word_weights.T, index = bow_vectorizer.get_feature_names()).T"
   ]
  },
  {
   "cell_type": "markdown",
   "metadata": {},
   "source": [
    "### **<font color=green>EXERCISE 1:</font>**\n",
    "\n",
    "**<font color=green>1.1. Adjust doc_topic_prior (alpha) and topic_word_prior (beta) and observe the changes in topic representation.</font>** \n",
    "\n",
    "**<font color=green>1.2. You are likely to be not 100% satisfied with the model performance, even after all the adjustments. The word \"java\" might still be appearing among the top words in the \"animals\" topic. Why? Looking at the text corpus might help to find the answer.</font>**\n",
    "\n",
    "**Answer 1.1:** <br>\n",
    "\n",
    "Code:"
   ]
  },
  {
   "cell_type": "code",
   "execution_count": 12,
   "metadata": {},
   "outputs": [
    {
     "name": "stdout",
     "output_type": "stream",
     "text": [
      "Topic 0:\n",
      "fox dog program java smarter never learn cat quick clever jump small python lazy slow\n",
      "Topic 1:\n",
      "language programming python java popular excellent ruby lazy slow dog program small jump quick clever\n"
     ]
    }
   ],
   "source": [
    "lda_toy_corpus = LatentDirichletAllocation(n_components=2, max_iter=500,\n",
    "                                           doc_topic_prior = 0.5,\n",
    "                                           topic_word_prior = 0.5).fit(bow_toy_corpus)\n",
    "no_top_words = 15\n",
    "display_topics(lda_toy_corpus, bow_vectorizer.get_feature_names(), no_top_words)"
   ]
  },
  {
   "cell_type": "markdown",
   "metadata": {},
   "source": [
    "Discussion: \n",
    "adjust alpha, beta in about cell"
   ]
  },
  {
   "cell_type": "markdown",
   "metadata": {},
   "source": []
  },
  {
   "cell_type": "markdown",
   "metadata": {},
   "source": [
    "**Answer 1.2:**"
   ]
  },
  {
   "cell_type": "markdown",
   "metadata": {},
   "source": [
    "Discussion:Java is a island. And there can be text talking about animal living on java island."
   ]
  },
  {
   "cell_type": "markdown",
   "metadata": {},
   "source": []
  },
  {
   "cell_type": "markdown",
   "metadata": {},
   "source": [
    "### Topic Modeling on Real Data\n",
    "\n",
    "The dataset here is the one we used for doing Text Classification in Lab 3. The newspaper blog posts have 4 topics: **atheism, religion, computer graphics, and space science**. Of course, we will *not use* class label information for topic modeling.\n",
    "\n",
    "Download the data and set up the data (**news_corpus**):"
   ]
  },
  {
   "cell_type": "code",
   "execution_count": 13,
   "metadata": {},
   "outputs": [],
   "source": [
    "from sklearn.datasets import fetch_20newsgroups\n",
    "categories = ['alt.atheism', 'talk.religion.misc', 'comp.graphics', 'sci.space']\n",
    "dataset = fetch_20newsgroups(shuffle=True, \n",
    "                             random_state=1, \n",
    "                             categories = categories, \n",
    "                             remove=('headers', 'footers', 'quotes'))\n",
    "news_corpus = dataset.data"
   ]
  },
  {
   "cell_type": "markdown",
   "metadata": {},
   "source": [
    "Now, let's normalize the corpus and create the Bag-of-Words representation of the data. We'll limit the number of features to **1000 most frequent features** to compute the topic model faster. "
   ]
  },
  {
   "cell_type": "code",
   "execution_count": 14,
   "metadata": {},
   "outputs": [],
   "source": [
    "#normalize data\n",
    "normalized_corpus_news = normalize_corpus(news_corpus)\n",
    "\n",
    "#define a Bag-of-Words vecgtorizer\n",
    "bow_vectorizer_news = CountVectorizer(max_features=1000)\n",
    "\n",
    "#vectorize data\n",
    "bow_news_corpus = bow_vectorizer_news.fit_transform(normalized_corpus_news)"
   ]
  },
  {
   "cell_type": "markdown",
   "metadata": {},
   "source": [
    "Now let's fit the topic model. We need to **set the number of topics** first. We are *lucky to know* that there are **4 topics** (atheism, religion, computer graphics, and space science) and it will allow us to judge the performance of the topic model better.\n",
    "\n",
    "**Note**: It will take a couple of minutes for the estimation to finish. The larger the number of iterations (max_iter) you allow for, the longer it takes."
   ]
  },
  {
   "cell_type": "code",
   "execution_count": 15,
   "metadata": {},
   "outputs": [],
   "source": [
    "lda_news = LatentDirichletAllocation(n_components=4, max_iter=100,\n",
    "                                     doc_topic_prior = 0.25,\n",
    "                                     topic_word_prior = 0.25).fit(bow_news_corpus)"
   ]
  },
  {
   "cell_type": "markdown",
   "metadata": {},
   "source": [
    "Display results with top 10 words for each topic:"
   ]
  },
  {
   "cell_type": "code",
   "execution_count": 16,
   "metadata": {},
   "outputs": [
    {
     "name": "stdout",
     "output_type": "stream",
     "text": [
      "Topic 0:\n",
      "like think know could time good people use point thing\n",
      "Topic 1:\n",
      "god people jesus christian believe think religion know bible many\n",
      "Topic 2:\n",
      "image file use edu program software graphic format jpeg ftp\n",
      "Topic 3:\n",
      "space nasa launch satellite orbit mission system earth shuttle data\n"
     ]
    }
   ],
   "source": [
    "no_top_words_news = 10\n",
    "display_topics(lda_news, bow_vectorizer_news.get_feature_names(), no_top_words_news)"
   ]
  },
  {
   "cell_type": "markdown",
   "metadata": {},
   "source": [
    "Display **word vectors** (words are in alphabetical order) for each topic. Each column is a topic:"
   ]
  },
  {
   "cell_type": "code",
   "execution_count": 17,
   "metadata": {},
   "outputs": [
    {
     "data": {
      "text/html": [
       "<div>\n",
       "<style scoped>\n",
       "    .dataframe tbody tr th:only-of-type {\n",
       "        vertical-align: middle;\n",
       "    }\n",
       "\n",
       "    .dataframe tbody tr th {\n",
       "        vertical-align: top;\n",
       "    }\n",
       "\n",
       "    .dataframe thead th {\n",
       "        text-align: right;\n",
       "    }\n",
       "</style>\n",
       "<table border=\"1\" class=\"dataframe\">\n",
       "  <thead>\n",
       "    <tr style=\"text-align: right;\">\n",
       "      <th></th>\n",
       "      <th>Topic_0</th>\n",
       "      <th>Topic_1</th>\n",
       "      <th>Topic_2</th>\n",
       "      <th>Topic_3</th>\n",
       "    </tr>\n",
       "  </thead>\n",
       "  <tbody>\n",
       "    <tr>\n",
       "      <th>3d</th>\n",
       "      <td>0.000009</td>\n",
       "      <td>0.000006</td>\n",
       "      <td>0.005367</td>\n",
       "      <td>0.000011</td>\n",
       "    </tr>\n",
       "    <tr>\n",
       "      <th>able</th>\n",
       "      <td>0.002911</td>\n",
       "      <td>0.000312</td>\n",
       "      <td>0.001140</td>\n",
       "      <td>0.000012</td>\n",
       "    </tr>\n",
       "    <tr>\n",
       "      <th>ac</th>\n",
       "      <td>0.000010</td>\n",
       "      <td>0.000033</td>\n",
       "      <td>0.001313</td>\n",
       "      <td>0.000425</td>\n",
       "    </tr>\n",
       "    <tr>\n",
       "      <th>accept</th>\n",
       "      <td>0.000010</td>\n",
       "      <td>0.003035</td>\n",
       "      <td>0.000514</td>\n",
       "      <td>0.000011</td>\n",
       "    </tr>\n",
       "    <tr>\n",
       "      <th>acceptable</th>\n",
       "      <td>0.000500</td>\n",
       "      <td>0.000439</td>\n",
       "      <td>0.000118</td>\n",
       "      <td>0.000325</td>\n",
       "    </tr>\n",
       "    <tr>\n",
       "      <th>access</th>\n",
       "      <td>0.000010</td>\n",
       "      <td>0.000171</td>\n",
       "      <td>0.001995</td>\n",
       "      <td>0.001117</td>\n",
       "    </tr>\n",
       "    <tr>\n",
       "      <th>accord</th>\n",
       "      <td>0.000470</td>\n",
       "      <td>0.001484</td>\n",
       "      <td>0.000010</td>\n",
       "      <td>0.000379</td>\n",
       "    </tr>\n",
       "    <tr>\n",
       "      <th>account</th>\n",
       "      <td>0.000443</td>\n",
       "      <td>0.000755</td>\n",
       "      <td>0.000056</td>\n",
       "      <td>0.000097</td>\n",
       "    </tr>\n",
       "    <tr>\n",
       "      <th>act</th>\n",
       "      <td>0.000009</td>\n",
       "      <td>0.002451</td>\n",
       "      <td>0.000010</td>\n",
       "      <td>0.001037</td>\n",
       "    </tr>\n",
       "    <tr>\n",
       "      <th>action</th>\n",
       "      <td>0.000799</td>\n",
       "      <td>0.001741</td>\n",
       "      <td>0.000030</td>\n",
       "      <td>0.000255</td>\n",
       "    </tr>\n",
       "  </tbody>\n",
       "</table>\n",
       "</div>"
      ],
      "text/plain": [
       "             Topic_0   Topic_1   Topic_2   Topic_3\n",
       "3d          0.000009  0.000006  0.005367  0.000011\n",
       "able        0.002911  0.000312  0.001140  0.000012\n",
       "ac          0.000010  0.000033  0.001313  0.000425\n",
       "accept      0.000010  0.003035  0.000514  0.000011\n",
       "acceptable  0.000500  0.000439  0.000118  0.000325\n",
       "access      0.000010  0.000171  0.001995  0.001117\n",
       "accord      0.000470  0.001484  0.000010  0.000379\n",
       "account     0.000443  0.000755  0.000056  0.000097\n",
       "act         0.000009  0.002451  0.000010  0.001037\n",
       "action      0.000799  0.001741  0.000030  0.000255"
      ]
     },
     "execution_count": 17,
     "metadata": {},
     "output_type": "execute_result"
    }
   ],
   "source": [
    "word_weights = lda_news.components_ / lda_news.components_.sum(axis=1)[:, np.newaxis]\n",
    "word_weights_df = pd.DataFrame(word_weights.T, \n",
    "                               index = bow_vectorizer_news.get_feature_names(), \n",
    "                               columns = [\"Topic_\" + str(i) for i in range(4)])\n",
    "word_weights_df.head(10)"
   ]
  },
  {
   "cell_type": "markdown",
   "metadata": {},
   "source": [
    "Now, **sort by word weights in Topic 0** (descending order) and see the weights by 10 most frequent words in Topic 0:"
   ]
  },
  {
   "cell_type": "code",
   "execution_count": 18,
   "metadata": {},
   "outputs": [
    {
     "data": {
      "text/html": [
       "<div>\n",
       "<style scoped>\n",
       "    .dataframe tbody tr th:only-of-type {\n",
       "        vertical-align: middle;\n",
       "    }\n",
       "\n",
       "    .dataframe tbody tr th {\n",
       "        vertical-align: top;\n",
       "    }\n",
       "\n",
       "    .dataframe thead th {\n",
       "        text-align: right;\n",
       "    }\n",
       "</style>\n",
       "<table border=\"1\" class=\"dataframe\">\n",
       "  <thead>\n",
       "    <tr style=\"text-align: right;\">\n",
       "      <th></th>\n",
       "      <th>Topic_0</th>\n",
       "      <th>Topic_1</th>\n",
       "      <th>Topic_2</th>\n",
       "      <th>Topic_3</th>\n",
       "    </tr>\n",
       "  </thead>\n",
       "  <tbody>\n",
       "    <tr>\n",
       "      <th>like</th>\n",
       "      <td>0.016361</td>\n",
       "      <td>0.003710</td>\n",
       "      <td>0.003471</td>\n",
       "      <td>0.000012</td>\n",
       "    </tr>\n",
       "    <tr>\n",
       "      <th>think</th>\n",
       "      <td>0.015827</td>\n",
       "      <td>0.007894</td>\n",
       "      <td>0.000255</td>\n",
       "      <td>0.000124</td>\n",
       "    </tr>\n",
       "    <tr>\n",
       "      <th>know</th>\n",
       "      <td>0.014500</td>\n",
       "      <td>0.007237</td>\n",
       "      <td>0.004836</td>\n",
       "      <td>0.000160</td>\n",
       "    </tr>\n",
       "    <tr>\n",
       "      <th>could</th>\n",
       "      <td>0.012480</td>\n",
       "      <td>0.003345</td>\n",
       "      <td>0.001356</td>\n",
       "      <td>0.000573</td>\n",
       "    </tr>\n",
       "    <tr>\n",
       "      <th>time</th>\n",
       "      <td>0.010405</td>\n",
       "      <td>0.004638</td>\n",
       "      <td>0.002799</td>\n",
       "      <td>0.004788</td>\n",
       "    </tr>\n",
       "    <tr>\n",
       "      <th>good</th>\n",
       "      <td>0.010279</td>\n",
       "      <td>0.005112</td>\n",
       "      <td>0.003334</td>\n",
       "      <td>0.001269</td>\n",
       "    </tr>\n",
       "    <tr>\n",
       "      <th>people</th>\n",
       "      <td>0.009791</td>\n",
       "      <td>0.012362</td>\n",
       "      <td>0.001174</td>\n",
       "      <td>0.000105</td>\n",
       "    </tr>\n",
       "    <tr>\n",
       "      <th>use</th>\n",
       "      <td>0.009481</td>\n",
       "      <td>0.005810</td>\n",
       "      <td>0.015994</td>\n",
       "      <td>0.007366</td>\n",
       "    </tr>\n",
       "    <tr>\n",
       "      <th>point</th>\n",
       "      <td>0.009338</td>\n",
       "      <td>0.004526</td>\n",
       "      <td>0.001853</td>\n",
       "      <td>0.000337</td>\n",
       "    </tr>\n",
       "    <tr>\n",
       "      <th>thing</th>\n",
       "      <td>0.009296</td>\n",
       "      <td>0.005126</td>\n",
       "      <td>0.000980</td>\n",
       "      <td>0.000249</td>\n",
       "    </tr>\n",
       "  </tbody>\n",
       "</table>\n",
       "</div>"
      ],
      "text/plain": [
       "         Topic_0   Topic_1   Topic_2   Topic_3\n",
       "like    0.016361  0.003710  0.003471  0.000012\n",
       "think   0.015827  0.007894  0.000255  0.000124\n",
       "know    0.014500  0.007237  0.004836  0.000160\n",
       "could   0.012480  0.003345  0.001356  0.000573\n",
       "time    0.010405  0.004638  0.002799  0.004788\n",
       "good    0.010279  0.005112  0.003334  0.001269\n",
       "people  0.009791  0.012362  0.001174  0.000105\n",
       "use     0.009481  0.005810  0.015994  0.007366\n",
       "point   0.009338  0.004526  0.001853  0.000337\n",
       "thing   0.009296  0.005126  0.000980  0.000249"
      ]
     },
     "execution_count": 18,
     "metadata": {},
     "output_type": "execute_result"
    }
   ],
   "source": [
    "word_weights_df.sort_values(by='Topic_0',ascending=False).head(10)"
   ]
  },
  {
   "cell_type": "markdown",
   "metadata": {},
   "source": [
    "### Topic Model Visualization\n",
    "\n",
    "You can **visualize** the topics: topic size, frequency of words in a topic and so on.\n",
    "\n",
    "In this visualization, you can rank words in a topic by **relevancy**: do you want rare and exclusive terms (i.e. found mostly in that topic) or terms that are used frequently in that topic, but not always exclusive to that topic? Relevancy parameter is λ (0 ≤ λ ≤ 1). You can adjust it:\n",
    "\n",
    "* small λ highlights potentially rare, but exclusive terms for the selected topic;\n",
    "* large values of λ (near 1) highlight frequent, but not necessarily exclusive, terms for the selected topic;\n",
    "\n",
    "Relevancy is measured as: \n",
    "\n",
    "    Relevancy = λ log[p(term | topic)] + (1 - λ) log[p(term | topic)/p(term)], \n",
    "   \n",
    "   where p(term | topic) stands for word weight in a topic and p(term) stands for word's weight in a corpus.\n",
    "\n",
    "Additional information on how to use this visualization:\n",
    "* http://www.kennyshirley.com/LDAvis/\n",
    "* https://nlp.stanford.edu/events/illvi2014/papers/sievert-illvi2014.pdf\n",
    "\n",
    "We installed all the **pyLDAvis** module required for this visualization in Session Prep. Now let's use it:"
   ]
  },
  {
   "cell_type": "code",
   "execution_count": 21,
   "metadata": {},
   "outputs": [
    {
     "data": {
      "text/html": [
       "\n",
       "<link rel=\"stylesheet\" type=\"text/css\" href=\"https://cdn.jsdelivr.net/gh/bmabey/pyLDAvis@3.3.1/pyLDAvis/js/ldavis.v1.0.0.css\">\n",
       "\n",
       "\n",
       "<div id=\"ldavis_el1476823741953757925196141033\"></div>\n",
       "<script type=\"text/javascript\">\n",
       "\n",
       "var ldavis_el1476823741953757925196141033_data = {\"mdsDat\": {\"x\": [269.5624084472656, 1.782994270324707, 220.81143188476562, 50.533992767333984], \"y\": [-124.80339813232422, -295.0796813964844, -343.8321228027344, -76.05093383789062], \"topics\": [1, 2, 3, 4], \"cluster\": [1, 1, 1, 1], \"Freq\": [33.753753748976415, 23.328828476603842, 23.01838380644534, 19.899033967974404]}, \"tinfo\": {\"Term\": [\"space\", \"image\", \"god\", \"file\", \"nasa\", \"launch\", \"edu\", \"think\", \"satellite\", \"jesus\", \"software\", \"program\", \"graphic\", \"format\", \"orbit\", \"like\", \"christian\", \"jpeg\", \"mission\", \"ftp\", \"data\", \"color\", \"year\", \"shuttle\", \"religion\", \"people\", \"bible\", \"available\", \"mail\", \"lunar\", \"jesus\", \"christian\", \"god\", \"religion\", \"bible\", \"atheist\", \"argument\", \"belief\", \"atheism\", \"moral\", \"religious\", \"child\", \"faith\", \"morality\", \"islam\", \"church\", \"christ\", \"muslim\", \"christianity\", \"interpretation\", \"koresh\", \"verse\", \"gay\", \"fallacy\", \"evil\", \"false\", \"mormon\", \"jew\", \"quran\", \"islamic\", \"law\", \"evidence\", \"truth\", \"conclusion\", \"matthew\", \"ra\", \"existence\", \"statement\", \"believe\", \"death\", \"context\", \"word\", \"people\", \"exist\", \"true\", \"claim\", \"life\", \"mean\", \"many\", \"must\", \"even\", \"think\", \"know\", \"example\", \"way\", \"take\", \"may\", \"well\", \"thing\", \"use\", \"good\", \"gun\", \"tax\", \"cview\", \"guy\", \"ago\", \"normal\", \"buy\", \"eat\", \"sphere\", \"maybe\", \"hundred\", \"plane\", \"spend\", \"mary\", \"forget\", \"cut\", \"mine\", \"fire\", \"gas\", \"big\", \"pretty\", \"million\", \"goal\", \"hole\", \"stay\", \"money\", \"basically\", \"enough\", \"face\", \"oh\", \"problem\", \"sure\", \"lot\", \"like\", \"could\", \"idea\", \"little\", \"think\", \"much\", \"long\", \"hear\", \"year\", \"right\", \"know\", \"actually\", \"might\", \"point\", \"thing\", \"really\", \"good\", \"want\", \"look\", \"time\", \"take\", \"well\", \"still\", \"give\", \"people\", \"way\", \"even\", \"work\", \"use\", \"need\", \"seem\", \"format\", \"jpeg\", \"ftp\", \"color\", \"gif\", \"pub\", \"file\", \"graphics\", \"3d\", \"directory\", \"software\", \"graphic\", \"pc\", \"screen\", \"unix\", \"hi\", \"driver\", \"pixel\", \"sgi\", \"comp\", \"amiga\", \"display\", \"viewer\", \"tiff\", \"internet\", \"animation\", \"output\", \"postscript\", \"tar\", \"input\", \"edu\", \"image\", \"server\", \"package\", \"window\", \"mac\", \"email\", \"mail\", \"available\", \"thanks\", \"version\", \"code\", \"program\", \"info\", \"user\", \"send\", \"data\", \"use\", \"computer\", \"bit\", \"information\", \"system\", \"please\", \"write\", \"include\", \"nasa\", \"launch\", \"satellite\", \"orbit\", \"shuttle\", \"lunar\", \"rocket\", \"flight\", \"probe\", \"spacecraft\", \"solar\", \"dc\", \"vehicle\", \"planetary\", \"orbital\", \"payload\", \"telescope\", \"orbiter\", \"propulsion\", \"astronaut\", \"venus\", \"km\", \"radio\", \"p2\", \"den\", \"p3\", \"saturn\", \"titan\", \"sky\", \"jupiter\", \"space\", \"mission\", \"station\", \"national\", \"development\", \"mar\", \"technology\", \"sci\", \"earth\", \"report\", \"center\", \"moon\", \"service\", \"research\", \"science\", \"system\", \"data\", \"year\", \"program\", \"first\", \"include\", \"use\", \"new\", \"high\"], \"Freq\": [1044.0, 846.0, 785.0, 546.0, 413.0, 399.0, 435.0, 751.0, 284.0, 408.0, 293.0, 532.0, 292.0, 281.0, 253.0, 684.0, 365.0, 264.0, 242.0, 256.0, 443.0, 247.0, 439.0, 201.0, 301.0, 787.0, 285.0, 316.0, 242.0, 182.0, 407.74183008886615, 365.1036735656892, 783.4557911115779, 300.65717558959943, 284.79721211352415, 255.05023152384177, 246.98510603438427, 206.46783203837288, 198.52319281734418, 171.7616868871373, 156.89504967723278, 160.82619042655944, 138.05874804018103, 122.1940415179263, 120.21473902811377, 112.26365147932175, 98.40139011687064, 86.50189913663387, 85.50800508517769, 85.4808134097833, 75.5825757179634, 72.61999609026279, 72.61610516671678, 69.65038446578573, 69.63706345078458, 68.65413378308234, 67.66567713550403, 67.65662378803992, 65.6813489416777, 63.69319813070828, 210.55746733327368, 192.8728809621608, 117.02030759313905, 109.11997999067395, 122.14915995830401, 94.10637343824598, 90.9993543369087, 129.08987884260978, 361.83151384202165, 93.24908453825033, 99.9775963626557, 223.4597532779588, 486.8316031101157, 192.35427076274132, 214.42382265578553, 180.28246663705718, 210.87596357114307, 233.15590831029618, 278.06162309731695, 194.34504683353103, 240.86339398988667, 310.8703096051114, 284.99808424860083, 170.00401569167906, 207.56434215792163, 214.809365422735, 211.62289602524945, 207.48857457374632, 201.89293742617062, 228.8271686390981, 201.32483999605302, 45.50437895796799, 43.51903130882387, 39.59385439000718, 57.0460017587015, 88.0607491972025, 38.38789813176489, 68.3140714617608, 38.12644318698223, 37.90453424073982, 109.9377320500621, 44.7194939117917, 77.24240935853958, 71.90830503181922, 36.264511145979114, 46.25987958937434, 52.69511151924409, 43.10134486508014, 47.24558773062463, 42.746467902951494, 124.55325730174378, 79.82111242534678, 56.94466999993992, 47.82913022175392, 38.281396878888486, 42.8144610741682, 92.96788425997707, 43.293315021140735, 121.72056738204948, 84.552407802708, 44.49471253952787, 228.03375636811955, 134.73990492583764, 141.3874201481587, 445.3250449073821, 339.69655860888514, 146.64794144960476, 138.54133155751322, 430.7951701059509, 250.665218199501, 161.7839312788256, 107.67745818232684, 248.43657915219603, 177.15943867814312, 394.6773766810181, 125.92041042166893, 166.35261730658985, 254.18413176424778, 253.02623549917035, 154.0822277035346, 279.7746698652311, 197.62827212663035, 212.74543940075458, 283.22133629327004, 222.88876692862743, 225.62442324305027, 142.5395416562188, 193.71307822703554, 266.51100849278123, 183.95504585169152, 187.29953904899997, 179.71605641315807, 258.06958539168085, 152.53523537389358, 139.91321546057281, 281.10651993919635, 264.23434726223434, 255.29780675521687, 246.34024885554751, 196.74321939267028, 196.73936050136444, 544.409132034878, 143.15756605187073, 144.14464014037983, 121.32031199251512, 291.9524201528561, 290.85594557995995, 113.36865991490042, 92.52247490841829, 88.5647284014882, 83.59211042339243, 81.5910624252688, 79.62504423824493, 75.65850054634285, 73.68216225715769, 73.68181516164205, 183.68299553526742, 70.70375911569757, 68.71819931428038, 66.71742813673991, 64.75133121204485, 57.79374262577014, 56.8084429171323, 55.82319236902069, 55.79321621427487, 421.76191424733264, 811.9399959355952, 109.89485811984768, 178.93786373825847, 104.0542422459476, 111.106022399281, 136.9896578644086, 228.24132949219052, 251.3989176230464, 157.56261040294123, 197.38573593295027, 158.10207001910587, 354.88005055631805, 118.16854520509185, 140.21889463284745, 187.1466785402618, 254.73459573178914, 429.5619615951225, 148.42223768754653, 173.5487227187291, 174.4753628449298, 228.5501745871763, 160.2963571618329, 157.68699080993576, 157.40618449791407, 412.8164439212872, 398.84837127081994, 283.96255781034887, 252.99269055029697, 201.03812135263178, 182.06383766540432, 154.08929715992207, 136.10218755895175, 123.1198008279896, 115.12773892791304, 110.1325550577084, 110.13012058149944, 107.12895737722458, 88.130820461079, 77.16236935155675, 72.16636544858936, 69.14733553714399, 65.18016681324141, 63.178808572637934, 62.18181012380852, 61.17826881685554, 59.18113826856217, 59.16565064613621, 53.193463906588036, 52.19823200819999, 51.198700949432336, 51.193731504521395, 51.19358959031843, 52.162541342370154, 50.18663574790009, 1018.9763714043359, 237.54348540096024, 128.0917048733002, 124.15543259662172, 114.19647743593525, 105.91744344861803, 157.90892981275417, 93.92346053190482, 219.79789624030676, 112.98735508232673, 168.84826936536174, 146.03382491801736, 101.49039453413718, 135.18852802191805, 138.67732996211578, 228.75399838015005, 186.12534967681518, 175.77411439372068, 166.50140267378546, 144.47099522533043, 140.07290718407532, 171.02003672866644, 130.8573958944255, 113.68948561030462], \"Total\": [1044.0, 846.0, 785.0, 546.0, 413.0, 399.0, 435.0, 751.0, 284.0, 408.0, 293.0, 532.0, 292.0, 281.0, 253.0, 684.0, 365.0, 264.0, 242.0, 256.0, 443.0, 247.0, 439.0, 201.0, 301.0, 787.0, 285.0, 316.0, 242.0, 182.0, 408.48943539933987, 365.85586450497254, 785.2522824932317, 301.4097426917837, 285.54610456783024, 255.80174344186153, 247.8699937172807, 207.21931871507294, 199.28749169367387, 172.51753129615176, 157.6453763229858, 161.61122838153088, 138.80729562509964, 122.94362752243418, 120.96069399141082, 113.02880905554673, 99.14816220731252, 87.25040572525917, 86.258921246262, 86.25903112716674, 76.34405757794651, 73.36972713471981, 73.36969608542246, 70.39529743083081, 70.395260821307, 69.40378872828765, 68.41233238612075, 68.41226311207173, 66.42937437193211, 64.44638060379661, 213.18222509514504, 196.33324975750858, 118.98687862616995, 111.05483514091486, 124.94199382980135, 96.18357965285621, 93.18885059935752, 135.80150481675452, 413.3139504720544, 96.1901492687169, 104.11400767382607, 275.86013455251157, 787.3178071743577, 243.942607420763, 281.2868544532258, 227.7786726470294, 292.12307772302324, 363.34313535440447, 477.63232065416685, 291.3323368064491, 455.7310587065126, 751.3941104476588, 813.2568087644505, 265.5747086945851, 433.07258621800975, 481.44799613685143, 467.19936049238237, 519.1615397739694, 487.018572654889, 1087.4787523545679, 600.092472931768, 46.269003541691916, 44.30060685246179, 40.36331800637528, 59.07510305298281, 94.54338888059168, 41.36595814991235, 73.86843367156226, 41.36552722690131, 41.37001906297932, 120.16039086565439, 50.24543893954675, 89.75053796710931, 83.78905618865859, 42.393572945602635, 54.22004274824352, 62.08864296412936, 51.299904369120334, 56.23308080182136, 51.3054790581314, 149.80249779719287, 96.58357750145323, 69.0615263919378, 58.222409589144476, 47.33995398264343, 53.23860080525852, 116.40716548231335, 54.22404908264163, 155.7941618950274, 108.50549797898131, 57.195978243553, 311.7172956325084, 181.46512603045068, 191.34342274671627, 684.9239516993108, 521.1534670936687, 203.3173771480383, 194.37691448693337, 751.3941104476588, 400.7653833041726, 240.04842685709175, 150.91718253587163, 439.7285813226058, 290.2290137706967, 813.2568087644505, 189.45272458423136, 272.44757840186406, 490.02298446751763, 487.018572654889, 253.6857582154844, 600.092472931768, 373.41305210922485, 421.0190008504248, 652.2273874487661, 481.44799613685143, 519.1615397739694, 245.97173333538353, 427.0926505898131, 787.3178071743577, 433.07258621800975, 455.7310587065126, 416.62632457643184, 1087.4787523545679, 366.05953729276496, 324.20295215468747, 281.8557010882575, 264.98401663674156, 256.05200006567156, 247.11991994895936, 197.4973082744786, 197.49735567876255, 546.8386700388163, 143.9048676712906, 144.89728079676448, 122.07095047116469, 293.7641417776756, 292.7802749000674, 114.13139271807196, 93.28973403463375, 89.32006973538681, 84.35765798431741, 82.37285215005616, 80.38802568414646, 76.4180697804944, 74.43320966407107, 74.43324794780811, 185.58673232975036, 71.45589723706931, 69.47092856720072, 67.48619865975469, 65.50115340886174, 58.553995720744446, 57.56150299295696, 56.56911909608284, 56.569251024058325, 435.6728421264679, 846.7594786194564, 112.15623342921627, 184.62789270325646, 106.20061700863775, 114.11276149705522, 141.91595652679908, 242.16696050656444, 316.0192011014535, 185.43349005624248, 249.11438840908954, 191.51038800473407, 532.9558255218568, 132.97378630376608, 170.88651352792226, 264.3072940799021, 443.85371342351283, 1087.4787523545679, 192.52865757352887, 284.15408238507604, 294.37609887096755, 634.1254346964338, 291.2734211218868, 346.1137213907116, 381.9385768017095, 413.5896828889552, 399.6034314761687, 284.7153755372265, 253.74550861490576, 201.79608482882364, 182.8146137813746, 154.84182426038652, 136.8593021240405, 123.87202903440881, 115.87977867211022, 110.88465550232996, 110.88461560024716, 107.88747430426692, 88.90585457397454, 77.91674597345252, 72.92160213171569, 69.92441498272578, 65.9284845888625, 63.930425149331974, 62.93138927251407, 61.932325378407945, 59.93425443186609, 59.93414080516549, 53.94017673016094, 52.94120142319194, 51.942166969245406, 51.94211516496539, 51.942098589476004, 52.94073216833997, 50.94302448746327, 1044.8087145997024, 242.7225050639717, 130.83552001336804, 129.83351344700418, 119.84343408930492, 111.84933679382677, 173.7235503519688, 101.84587795960563, 280.0202887154389, 129.74800672312392, 213.3252609696209, 183.2671837369018, 117.77206117333618, 192.41242720889204, 238.0167161322829, 634.1254346964338, 443.85371342351283, 439.7285813226058, 532.9558255218568, 411.6979680682954, 381.9385768017095, 1087.4787523545679, 377.09220600575674, 246.40025023265449], \"Category\": [\"Default\", \"Default\", \"Default\", \"Default\", \"Default\", \"Default\", \"Default\", \"Default\", \"Default\", \"Default\", \"Default\", \"Default\", \"Default\", \"Default\", \"Default\", \"Default\", \"Default\", \"Default\", \"Default\", \"Default\", \"Default\", \"Default\", \"Default\", \"Default\", \"Default\", \"Default\", \"Default\", \"Default\", \"Default\", \"Default\", \"Topic1\", \"Topic1\", \"Topic1\", \"Topic1\", \"Topic1\", \"Topic1\", \"Topic1\", \"Topic1\", \"Topic1\", \"Topic1\", \"Topic1\", \"Topic1\", \"Topic1\", \"Topic1\", \"Topic1\", \"Topic1\", \"Topic1\", \"Topic1\", \"Topic1\", \"Topic1\", \"Topic1\", \"Topic1\", \"Topic1\", \"Topic1\", \"Topic1\", \"Topic1\", \"Topic1\", \"Topic1\", \"Topic1\", \"Topic1\", \"Topic1\", \"Topic1\", \"Topic1\", \"Topic1\", \"Topic1\", \"Topic1\", \"Topic1\", \"Topic1\", \"Topic1\", \"Topic1\", \"Topic1\", \"Topic1\", \"Topic1\", \"Topic1\", \"Topic1\", \"Topic1\", \"Topic1\", \"Topic1\", \"Topic1\", \"Topic1\", \"Topic1\", \"Topic1\", \"Topic1\", \"Topic1\", \"Topic1\", \"Topic1\", \"Topic1\", \"Topic1\", \"Topic1\", \"Topic1\", \"Topic1\", \"Topic2\", \"Topic2\", \"Topic2\", \"Topic2\", \"Topic2\", \"Topic2\", \"Topic2\", \"Topic2\", \"Topic2\", \"Topic2\", \"Topic2\", \"Topic2\", \"Topic2\", \"Topic2\", \"Topic2\", \"Topic2\", \"Topic2\", \"Topic2\", \"Topic2\", \"Topic2\", \"Topic2\", \"Topic2\", \"Topic2\", \"Topic2\", \"Topic2\", \"Topic2\", \"Topic2\", \"Topic2\", \"Topic2\", \"Topic2\", \"Topic2\", \"Topic2\", \"Topic2\", \"Topic2\", \"Topic2\", \"Topic2\", \"Topic2\", \"Topic2\", \"Topic2\", \"Topic2\", \"Topic2\", \"Topic2\", \"Topic2\", \"Topic2\", \"Topic2\", \"Topic2\", \"Topic2\", \"Topic2\", \"Topic2\", \"Topic2\", \"Topic2\", \"Topic2\", \"Topic2\", \"Topic2\", \"Topic2\", \"Topic2\", \"Topic2\", \"Topic2\", \"Topic2\", \"Topic2\", \"Topic2\", \"Topic2\", \"Topic2\", \"Topic2\", \"Topic3\", \"Topic3\", \"Topic3\", \"Topic3\", \"Topic3\", \"Topic3\", \"Topic3\", \"Topic3\", \"Topic3\", \"Topic3\", \"Topic3\", \"Topic3\", \"Topic3\", \"Topic3\", \"Topic3\", \"Topic3\", \"Topic3\", \"Topic3\", \"Topic3\", \"Topic3\", \"Topic3\", \"Topic3\", \"Topic3\", \"Topic3\", \"Topic3\", \"Topic3\", \"Topic3\", \"Topic3\", \"Topic3\", \"Topic3\", \"Topic3\", \"Topic3\", \"Topic3\", \"Topic3\", \"Topic3\", \"Topic3\", \"Topic3\", \"Topic3\", \"Topic3\", \"Topic3\", \"Topic3\", \"Topic3\", \"Topic3\", \"Topic3\", \"Topic3\", \"Topic3\", \"Topic3\", \"Topic3\", \"Topic3\", \"Topic3\", \"Topic3\", \"Topic3\", \"Topic3\", \"Topic3\", \"Topic3\", \"Topic4\", \"Topic4\", \"Topic4\", \"Topic4\", \"Topic4\", \"Topic4\", \"Topic4\", \"Topic4\", \"Topic4\", \"Topic4\", \"Topic4\", \"Topic4\", \"Topic4\", \"Topic4\", \"Topic4\", \"Topic4\", \"Topic4\", \"Topic4\", \"Topic4\", \"Topic4\", \"Topic4\", \"Topic4\", \"Topic4\", \"Topic4\", \"Topic4\", \"Topic4\", \"Topic4\", \"Topic4\", \"Topic4\", \"Topic4\", \"Topic4\", \"Topic4\", \"Topic4\", \"Topic4\", \"Topic4\", \"Topic4\", \"Topic4\", \"Topic4\", \"Topic4\", \"Topic4\", \"Topic4\", \"Topic4\", \"Topic4\", \"Topic4\", \"Topic4\", \"Topic4\", \"Topic4\", \"Topic4\", \"Topic4\", \"Topic4\", \"Topic4\", \"Topic4\", \"Topic4\", \"Topic4\"], \"logprob\": [30.0, 29.0, 28.0, 27.0, 26.0, 25.0, 24.0, 23.0, 22.0, 21.0, 20.0, 19.0, 18.0, 17.0, 16.0, 15.0, 14.0, 13.0, 12.0, 11.0, 10.0, 9.0, 8.0, 7.0, 6.0, 5.0, 4.0, 3.0, 2.0, 1.0, -4.5704, -4.6809, -3.9174, -4.8751, -4.9293, -5.0396, -5.0717, -5.2509, -5.2902, -5.435, -5.5255, -5.5008, -5.6534, -5.7755, -5.7918, -5.8602, -5.992, -6.1209, -6.1325, -6.1328, -6.2559, -6.2958, -6.2959, -6.3376, -6.3378, -6.352, -6.3665, -6.3666, -6.3963, -6.427, -5.2313, -5.319, -5.8187, -5.8886, -5.7758, -6.0367, -6.0702, -5.7206, -4.6899, -6.0458, -5.9761, -5.1718, -4.3932, -5.3217, -5.2131, -5.3866, -5.2298, -5.1294, -4.9532, -5.3114, -5.0968, -4.8417, -4.9286, -5.4453, -5.2456, -5.2113, -5.2263, -5.246, -5.2733, -5.1481, -5.2762, -6.3939, -6.4385, -6.533, -6.1678, -5.7336, -6.5639, -5.9876, -6.5708, -6.5766, -5.5118, -6.4113, -5.8647, -5.9363, -6.6208, -6.3774, -6.2472, -6.4481, -6.3563, -6.4564, -5.3869, -5.8319, -6.1696, -6.344, -6.5667, -6.4548, -5.6794, -6.4437, -5.4099, -5.7743, -6.4163, -4.7822, -5.3083, -5.2602, -4.1129, -4.3836, -5.2236, -5.2805, -4.146, -4.6876, -5.1254, -5.5325, -4.6965, -5.0346, -4.2336, -5.376, -5.0976, -4.6736, -4.6782, -5.1742, -4.5777, -4.9253, -4.8516, -4.5654, -4.805, -4.7928, -5.2521, -4.9453, -4.6263, -4.997, -4.979, -5.0203, -4.6584, -5.1843, -5.2707, -4.5595, -4.6214, -4.6558, -4.6916, -4.9164, -4.9164, -3.8986, -5.2343, -5.2275, -5.3998, -4.5217, -4.5255, -5.4676, -5.6708, -5.7145, -5.7723, -5.7966, -5.821, -5.872, -5.8985, -5.8985, -4.9851, -5.9398, -5.9683, -5.9978, -6.0277, -6.1414, -6.1586, -6.1761, -6.1766, -4.1538, -3.4989, -5.4988, -5.0112, -5.5534, -5.4878, -5.2784, -4.7679, -4.6712, -5.1385, -4.9131, -5.135, -4.3265, -5.4262, -5.2551, -4.9664, -4.6581, -4.1355, -5.1982, -5.0418, -5.0365, -4.7665, -5.1213, -5.1377, -5.1394, -4.0297, -4.0641, -4.4038, -4.5193, -4.7492, -4.8483, -5.0151, -5.1393, -5.2395, -5.3066, -5.351, -5.351, -5.3786, -5.5738, -5.7067, -5.7737, -5.8164, -5.8755, -5.9067, -5.9226, -5.9389, -5.9721, -5.9723, -6.0787, -6.0976, -6.1169, -6.117, -6.117, -6.0983, -6.1369, -3.1261, -4.5823, -5.1999, -5.2311, -5.3147, -5.39, -4.9906, -5.5102, -4.6599, -5.3254, -4.9237, -5.0688, -5.4327, -5.146, -5.1205, -4.62, -4.8262, -4.8835, -4.9377, -5.0796, -5.1105, -4.9109, -5.1785, -5.3192], \"loglift\": [30.0, 29.0, 28.0, 27.0, 26.0, 25.0, 24.0, 23.0, 22.0, 21.0, 20.0, 19.0, 18.0, 17.0, 16.0, 15.0, 14.0, 13.0, 12.0, 11.0, 10.0, 9.0, 8.0, 7.0, 6.0, 5.0, 4.0, 3.0, 2.0, 1.0, 1.0842, 1.084, 1.0838, 1.0836, 1.0835, 1.0831, 1.0825, 1.0824, 1.0822, 1.0817, 1.0813, 1.0812, 1.0807, 1.08, 1.0799, 1.0793, 1.0785, 1.0775, 1.0773, 1.077, 1.0761, 1.0758, 1.0758, 1.0754, 1.0752, 1.0752, 1.0751, 1.075, 1.0748, 1.0743, 1.0737, 1.0683, 1.0694, 1.0685, 1.0635, 1.0642, 1.0623, 1.0354, 0.953, 1.055, 1.0455, 0.8754, 0.6054, 0.8485, 0.8147, 0.8522, 0.7602, 0.6424, 0.5451, 0.6812, 0.4484, 0.2035, 0.0375, 0.64, 0.3506, 0.279, 0.2941, 0.1689, 0.2055, -0.4726, -0.0061, 1.4388, 1.4377, 1.4362, 1.4205, 1.3844, 1.3808, 1.3773, 1.3739, 1.368, 1.3666, 1.339, 1.3054, 1.3026, 1.2993, 1.2967, 1.2914, 1.2813, 1.2813, 1.273, 1.2709, 1.2649, 1.2626, 1.2588, 1.2431, 1.2376, 1.2306, 1.2304, 1.2087, 1.2061, 1.2044, 1.1429, 1.1578, 1.1529, 1.025, 1.0275, 1.1287, 1.1168, 0.8992, 0.9862, 1.0609, 1.1179, 0.8845, 0.9619, 0.7325, 1.047, 0.9621, 0.7991, 0.8007, 0.9569, 0.6924, 0.8192, 0.7729, 0.6213, 0.6854, 0.6221, 0.9099, 0.6649, 0.3723, 0.5993, 0.5663, 0.6147, 0.0171, 0.5801, 0.6151, 1.4662, 1.466, 1.4659, 1.4657, 1.4651, 1.465, 1.4644, 1.4637, 1.4637, 1.4627, 1.4627, 1.4623, 1.4622, 1.4606, 1.4604, 1.4598, 1.4593, 1.4593, 1.4589, 1.4587, 1.4587, 1.4586, 1.4583, 1.458, 1.4574, 1.4574, 1.4558, 1.4557, 1.4556, 1.4551, 1.4364, 1.4269, 1.4485, 1.4376, 1.4485, 1.4422, 1.4335, 1.4097, 1.2401, 1.306, 1.2361, 1.2772, 1.0622, 1.3508, 1.2711, 1.1237, 0.9136, 0.54, 1.2087, 0.9758, 0.9458, 0.4484, 0.8716, 0.6827, 0.5824, 1.6126, 1.6126, 1.6119, 1.6115, 1.6107, 1.6104, 1.6096, 1.609, 1.6084, 1.608, 1.6077, 1.6077, 1.6074, 1.6057, 1.6048, 1.6041, 1.6033, 1.6031, 1.6027, 1.6025, 1.6022, 1.6019, 1.6016, 1.6006, 1.6004, 1.6001, 1.6, 1.6, 1.5997, 1.5995, 1.5895, 1.5929, 1.5933, 1.5698, 1.5662, 1.56, 1.5191, 1.5335, 1.3723, 1.4762, 1.3807, 1.3874, 1.4657, 1.2615, 1.0743, 0.5949, 0.7454, 0.6975, 0.4511, 0.5673, 0.6114, -0.2353, 0.5561, 0.841]}, \"token.table\": {\"Topic\": [3, 1, 2, 3, 1, 2, 3, 3, 3, 1, 4, 1, 1, 3, 4, 1, 2, 3, 1, 1, 2, 4, 1, 1, 2, 3, 1, 2, 3, 2, 3, 2, 3, 4, 1, 1, 1, 1, 1, 1, 2, 3, 4, 1, 3, 3, 3, 1, 2, 3, 4, 1, 4, 1, 2, 4, 1, 2, 3, 4, 2, 3, 2, 1, 3, 4, 4, 1, 4, 4, 3, 4, 3, 1, 3, 3, 1, 2, 4, 1, 2, 1, 3, 1, 3, 1, 2, 3, 4, 1, 2, 3, 1, 4, 1, 1, 2, 3, 4, 1, 2, 3, 4, 1, 2, 1, 2, 4, 1, 1, 1, 1, 3, 2, 4, 1, 2, 3, 4, 4, 2, 3, 4, 3, 3, 2, 4, 1, 3, 1, 2, 3, 4, 2, 4, 1, 3, 1, 2, 3, 4, 3, 4, 3, 2, 2, 3, 1, 2, 3, 3, 1, 2, 3, 4, 1, 2, 3, 4, 2, 3, 1, 2, 4, 1, 3, 4, 1, 3, 4, 2, 3, 4, 1, 3, 4, 3, 3, 1, 1, 1, 1, 1, 3, 4, 4, 1, 2, 3, 4, 1, 4, 1, 4, 1, 2, 4, 1, 2, 3, 1, 2, 4, 1, 2, 4, 1, 2, 3, 4, 1, 2, 3, 4, 2, 3, 1, 3, 4, 1, 2, 3, 4, 3, 4, 1, 2, 4, 1, 4, 1, 2, 3, 4, 1, 2, 3, 1, 2, 3, 4, 1, 2, 3, 1, 2, 4, 2, 4, 1, 4, 1, 2, 3, 4, 2, 4, 1, 1, 1, 1, 2, 3, 1, 1, 2, 3, 4, 4, 3, 4, 1, 2, 3, 4, 1, 2, 3, 4, 2, 3, 1, 2, 4, 4, 4, 4, 3, 4, 4, 3, 4, 4, 3, 1, 2, 3, 4, 3, 2, 4, 4, 1, 2, 3, 1, 2, 3, 4, 3, 1, 2, 4, 1, 2, 3, 4, 2, 3, 4, 4, 3, 1, 1, 4, 4, 1, 2, 1, 1, 1, 3, 4, 1, 3, 4, 1, 2, 3, 4, 4, 4, 4, 3, 4, 1, 3, 4, 3, 1, 2, 3, 1, 2, 3, 4, 3, 4, 1, 3, 4, 3, 4, 4, 1, 3, 4, 3, 4, 4, 1, 2, 4, 2, 3, 1, 2, 4, 2, 4, 1, 2, 4, 1, 2, 3, 4, 1, 2, 3, 1, 2, 3, 4, 1, 2, 3, 4, 3, 2, 3, 4, 4, 1, 2, 3, 4, 1, 2, 3, 4, 1, 2, 3, 4, 3, 1, 2, 3, 4, 4, 1, 2, 3, 4, 1, 4, 3, 1, 2, 3, 4, 1, 3, 4, 4, 4, 1, 1, 3, 4, 3, 1, 2, 3, 1, 2, 3, 4, 1, 2, 3, 4, 3, 4, 1, 2, 3, 4, 1, 2, 3, 4, 1, 2, 3, 4, 1, 2, 4], \"Freq\": [0.9938074697342111, 0.29558825360203356, 0.6650735706045755, 0.04222689337171908, 0.03173146251176802, 0.9307895670118618, 0.03173146251176802, 0.9941793760214266, 0.99234893764796, 0.9964901208725047, 0.9851999251362331, 0.9985574022171156, 0.9968657624022654, 0.7942555361356666, 0.202519339891166, 0.05532600480328883, 0.7930060688471399, 0.12909401120767394, 0.994115805791498, 0.8758475236235127, 0.08468139040558824, 0.03871149275684034, 0.9980875082549042, 0.12683366618975053, 0.8344320144062535, 0.04005273669150017, 0.11261495781234168, 0.27449895966758286, 0.6123438331046079, 0.9205555962150924, 0.06768791148640385, 0.09844122493768122, 0.11250425707163568, 0.7922174768794347, 0.996217908943258, 0.9884197328346662, 0.9976606511251894, 0.9969983250135623, 0.990897815661836, 0.7902407978245258, 0.17999929283780866, 0.004390226654580699, 0.021951133272903493, 0.17231441251732127, 0.8250205205374775, 0.9954681113963185, 0.994179887364441, 0.01038806391321862, 0.09868660717557688, 0.7687167295781778, 0.11946273500201413, 0.9814971123201657, 0.00900456066348776, 0.9604855507367015, 0.009604855507367015, 0.01920971101473403, 0.25328431706715515, 0.6523989985063088, 0.06907754101831504, 0.0249446675899471, 0.8536182701016647, 0.1449540458663204, 0.9909988072259596, 0.006758983667975948, 0.5745136117779556, 0.41905698741450875, 0.9920221971690256, 0.9668349691421635, 0.020792149874025022, 0.9822217592746275, 0.04172110085124981, 0.9512410994084957, 0.9912268195911388, 0.005388316219842703, 0.9914501844510574, 0.9954736039808729, 0.09285041494411721, 0.12141977338846095, 0.7856573572194533, 0.07252415721777639, 0.9186393247585009, 0.029838903743801264, 0.9686167215295487, 0.02818569594212367, 0.9653600860177357, 0.18614304700031006, 0.7830845425530285, 0.012837451517262764, 0.025674903034525527, 0.5288206616508053, 0.41032972501535514, 0.05924546831772508, 0.9830224897635755, 0.015280142327931226, 0.9943851217156459, 0.640121195409095, 0.1882709398262044, 0.06777753833743358, 0.10543172630267447, 0.7870703770449985, 0.08198649760885401, 0.03279459904354161, 0.09838379713062481, 0.9765116686676613, 0.021461794915772776, 0.14745796570694855, 0.7833704428181641, 0.07372898285347428, 0.9941840547972346, 0.9943846045793155, 0.9941820362304936, 0.003657385824338344, 0.9948089442200296, 0.8358069543733356, 0.142265013510355, 0.2744730573488154, 0.29633374333234935, 0.07772688349700967, 0.3497709757365435, 0.9937212735217538, 0.8483947571489178, 0.09221682142923018, 0.055330092857538114, 0.9969640454851415, 0.9958914592918557, 0.8381171132088852, 0.15592876524816468, 0.9949611882678098, 0.997481949101871, 0.40506433384205454, 0.45423399286334437, 0.09365649337388544, 0.04682824668694272, 0.8244248278063291, 0.1717551724596519, 0.9971317721152232, 0.0012734760818840654, 0.3349483772359434, 0.46659475435852815, 0.1499768853295269, 0.048325885272847556, 0.9939194165294262, 0.0034155306409945916, 0.9937120426436339, 0.9941860960664622, 0.9648734755295864, 0.033855209667704785, 0.2451675771988749, 0.7156242793913105, 0.03975690441062836, 0.9957602191328746, 0.121753123106302, 0.2191556215913436, 0.19886343440695994, 0.4626618678039476, 0.042247611831926865, 0.8027046248066105, 0.0633714177478903, 0.0633714177478903, 0.8956036796522397, 0.09951151996135997, 0.18198149375623593, 0.7230075562747752, 0.09344995625320224, 0.004723891613851832, 0.9589499976119219, 0.0366101600073517, 0.21993065142411672, 0.4110608603998372, 0.3665510857068612, 0.05264195443761494, 0.8873929462340805, 0.05264195443761494, 0.07813134316343216, 0.5910805961059651, 0.32951044725447476, 0.9899370945566129, 0.9927955838466179, 0.9854040659776179, 0.9920578002679198, 0.9930736125192061, 0.9988018407407246, 0.9939738419207625, 0.9962865056948302, 0.9814886435002432, 0.9844120121169079, 0.3504428083829872, 0.4857014361799296, 0.1598511055782047, 0.004918495556252452, 0.9954933286379856, 0.9984899241882395, 0.9897635691992093, 0.009381645205679709, 0.7222982916812202, 0.22593216706616367, 0.05134821978776447, 0.21316235129136732, 0.6497071666072497, 0.13578149774039153, 0.24179826150681843, 0.7151054967967609, 0.046301794756624805, 0.15830139150473405, 0.6748638269412347, 0.16663304368919374, 0.17576403879759797, 0.5059154089714645, 0.2921483347581696, 0.02612708684829159, 0.10975031019382342, 0.7368949398728144, 0.15155995217242282, 0.9955440445130455, 0.01752652353480738, 0.9727220561818097, 0.041293824636862174, 0.9414992017204576, 0.012388147391058653, 0.5820376636556971, 0.15702454954740028, 0.20727240540256836, 0.052341516515800095, 0.04470299192937156, 0.9477034289026772, 0.0707654437112308, 0.8491853245347696, 0.0707654437112308, 0.9764531224480938, 0.016007428236854, 0.453767744409095, 0.15625021387671667, 0.2033393194286039, 0.18621600831882673, 0.06657767956950489, 0.9154430940806922, 0.016644419892376222, 0.6412671035403822, 0.2532041782219535, 0.06330104455548838, 0.04403550925599191, 0.337679639289356, 0.6092915230655772, 0.05138603206577157, 0.02895968427702575, 0.8253510018952338, 0.14479842138512874, 0.8382081902258591, 0.15594570980946218, 0.020599655555969994, 0.9805436044641718, 0.08590536466176027, 0.7989198913543705, 0.008590536466176026, 0.10308643759411232, 0.2018910273271682, 0.7966510808045015, 0.9970001234525937, 0.9923247138428383, 0.9939728354269003, 0.2320559705861994, 0.626301598033721, 0.14222785293992865, 0.9971300336866321, 0.6659061679407279, 0.16819279499533848, 0.08924515652813879, 0.07551513244688667, 0.9985742321113132, 0.03851085800001026, 0.9550692784002544, 0.161175967265711, 0.4179647964687082, 0.34966989508493235, 0.07375849349447791, 0.20419409039396721, 0.2625352590779579, 0.18563099126724292, 0.34739514080012607, 0.9186297549856346, 0.04834893447292814, 0.17483746772225506, 0.7692848579779222, 0.03496749354445101, 0.9970619830121321, 0.9882342882521702, 0.9859167915863282, 0.9905387204762838, 0.9825700102010374, 0.9818612309763037, 0.9695176464354608, 0.027081498503783823, 0.9873617404887645, 0.990086927959718, 0.6185558049903856, 0.3391260778900061, 0.04064432394187339, 0.0025402702463670867, 0.9951730910064759, 0.8579335761554769, 0.13370393394630808, 0.9898110807402362, 0.2712228245739645, 0.17852641617526777, 0.5493120497700547, 0.3632482672081664, 0.5183430329824397, 0.10203603011465347, 0.016325764818344555, 0.9902451644977779, 0.16565963297186065, 0.8282981648593032, 0.9929602425890144, 0.14436157579479217, 0.731431984026947, 0.10586515558284759, 0.019248210105972288, 0.020639609275738904, 0.6660964811715737, 0.31334679536803606, 0.9854462855962769, 0.9974817096813614, 0.9935363779052309, 0.9772977917775868, 0.020793570037820994, 0.9844138784236149, 0.39024658181996935, 0.607050238386619, 0.9986405791394649, 0.9959061512742147, 0.09248696995867867, 0.030828989986226223, 0.8709189671108908, 0.09874622068652926, 0.19749244137305852, 0.7016178838253394, 0.351446599617321, 0.6098632169829983, 0.031009994083881266, 0.010336664694627089, 0.9945633276770823, 0.9974874011075915, 0.9818622102320385, 0.06873130400796738, 0.9229632252498478, 0.38232608817871766, 0.0336110846750521, 0.5839925962290302, 0.9968942559689774, 0.5089404612246506, 0.43182827013000663, 0.05860526523192947, 0.07566949701340384, 0.011350424552010576, 0.7075097970753259, 0.20430764193619036, 0.9807747339288359, 0.0178322678896152, 0.02547293449831551, 0.11038271615936722, 0.8575887947766222, 0.9945291763885782, 0.9960550035968293, 0.9822304654694112, 0.003404091438623617, 0.9939947000780962, 0.9920218401876951, 0.02392782492207509, 0.9752981438237807, 0.9924078326504263, 0.07160839700223452, 0.8593007640268143, 0.05967366416852877, 0.9185395815784132, 0.07251628275619051, 0.9499158361615196, 0.0368184432620744, 0.007363688652414881, 0.015286368715434855, 0.9783275977878307, 0.16905027299498535, 0.8076846376427078, 0.03756672733221897, 0.3089785926595625, 0.5813676151357557, 0.04472058577967352, 0.06911363256858635, 0.1653210214890869, 0.7439445967008911, 0.08817121146084635, 0.19396793326683404, 0.08357967856213175, 0.36112729039109753, 0.36112729039109753, 0.4465695188788081, 0.46318605911615907, 0.033233080474702, 0.0581578908307285, 0.9899394032437348, 0.9932143852235946, 0.08634407925471001, 0.9094909681496121, 0.9867797966854046, 0.021571076501805522, 0.11324815163447899, 0.8520575218213181, 0.01617830737635414, 0.414768576275922, 0.5194873752366747, 0.05338605437214838, 0.01231985870126501, 0.413897308583794, 0.5736004501595344, 0.009316016591918191, 0.003992578539393511, 0.9932212138672484, 0.2805769943452046, 0.43389775628247484, 0.1149905714529527, 0.17018604575037, 0.9818625235587443, 0.7607891965516124, 0.16353412636156153, 0.06043652495970752, 0.014220358814048829, 0.9833016997410926, 0.008404288031975151, 0.9964165977888841, 0.21057882694643723, 0.2372460146383441, 0.3954100243972402, 0.15724445156262343, 0.011703673734751497, 0.8192571614326047, 0.1697032691538967, 0.9917740747015354, 0.9849460621297292, 0.9949607672106927, 0.1726114668631121, 0.79080137144263, 0.03211376127685807, 0.9936198794683555, 0.2597659601133254, 0.5302439185818395, 0.2088839679261792, 0.4802890014730517, 0.42487103976462265, 0.057727043446280255, 0.039254389543470575, 0.39871982830261826, 0.43531730046566053, 0.1078662337437035, 0.0577854823626983, 0.9792786796289633, 0.018832282300556988, 0.8083806685650357, 0.021750152517444905, 0.03987527961531566, 0.12687588968509528, 0.12961254921877477, 0.4320418307292492, 0.31203021108223555, 0.12721231682583448, 0.3987128838622906, 0.08667671388310666, 0.45649735978436173, 0.0577844759220711, 0.03411195141076192, 0.5639842633245971, 0.4002468965529398], \"Term\": [\"3d\", \"actually\", \"actually\", \"actually\", \"ago\", \"ago\", \"ago\", \"amiga\", \"animation\", \"argument\", \"astronaut\", \"atheism\", \"atheist\", \"available\", \"available\", \"basically\", \"basically\", \"basically\", \"belief\", \"believe\", \"believe\", \"believe\", \"bible\", \"big\", \"big\", \"big\", \"bit\", \"bit\", \"bit\", \"buy\", \"buy\", \"center\", \"center\", \"center\", \"child\", \"christ\", \"christian\", \"christianity\", \"church\", \"claim\", \"claim\", \"claim\", \"claim\", \"code\", \"code\", \"color\", \"comp\", \"computer\", \"computer\", \"computer\", \"computer\", \"conclusion\", \"conclusion\", \"context\", \"context\", \"context\", \"could\", \"could\", \"could\", \"could\", \"cut\", \"cut\", \"cview\", \"data\", \"data\", \"data\", \"dc\", \"death\", \"death\", \"den\", \"development\", \"development\", \"directory\", \"display\", \"display\", \"driver\", \"earth\", \"earth\", \"earth\", \"eat\", \"eat\", \"edu\", \"edu\", \"email\", \"email\", \"enough\", \"enough\", \"enough\", \"enough\", \"even\", \"even\", \"even\", \"evidence\", \"evidence\", \"evil\", \"example\", \"example\", \"example\", \"example\", \"exist\", \"exist\", \"exist\", \"exist\", \"existence\", \"existence\", \"face\", \"face\", \"face\", \"faith\", \"fallacy\", \"false\", \"file\", \"file\", \"fire\", \"fire\", \"first\", \"first\", \"first\", \"first\", \"flight\", \"forget\", \"forget\", \"forget\", \"format\", \"ftp\", \"gas\", \"gas\", \"gay\", \"gif\", \"give\", \"give\", \"give\", \"give\", \"goal\", \"goal\", \"god\", \"god\", \"good\", \"good\", \"good\", \"good\", \"graphic\", \"graphic\", \"graphics\", \"gun\", \"guy\", \"guy\", \"hear\", \"hear\", \"hear\", \"hi\", \"high\", \"high\", \"high\", \"high\", \"hole\", \"hole\", \"hole\", \"hole\", \"hundred\", \"hundred\", \"idea\", \"idea\", \"idea\", \"image\", \"image\", \"image\", \"include\", \"include\", \"include\", \"info\", \"info\", \"info\", \"information\", \"information\", \"information\", \"input\", \"internet\", \"interpretation\", \"islam\", \"islamic\", \"jesus\", \"jew\", \"jpeg\", \"jupiter\", \"km\", \"know\", \"know\", \"know\", \"know\", \"koresh\", \"launch\", \"law\", \"law\", \"life\", \"life\", \"life\", \"like\", \"like\", \"like\", \"little\", \"little\", \"little\", \"long\", \"long\", \"long\", \"look\", \"look\", \"look\", \"look\", \"lot\", \"lot\", \"lot\", \"lunar\", \"mac\", \"mac\", \"mail\", \"mail\", \"mail\", \"many\", \"many\", \"many\", \"many\", \"mar\", \"mar\", \"mary\", \"mary\", \"mary\", \"matthew\", \"matthew\", \"may\", \"may\", \"may\", \"may\", \"maybe\", \"maybe\", \"maybe\", \"mean\", \"mean\", \"mean\", \"mean\", \"might\", \"might\", \"might\", \"million\", \"million\", \"million\", \"mine\", \"mine\", \"mission\", \"mission\", \"money\", \"money\", \"money\", \"money\", \"moon\", \"moon\", \"moral\", \"morality\", \"mormon\", \"much\", \"much\", \"much\", \"muslim\", \"must\", \"must\", \"must\", \"must\", \"nasa\", \"national\", \"national\", \"need\", \"need\", \"need\", \"need\", \"new\", \"new\", \"new\", \"new\", \"normal\", \"normal\", \"oh\", \"oh\", \"oh\", \"orbit\", \"orbital\", \"orbiter\", \"output\", \"p2\", \"p3\", \"package\", \"package\", \"payload\", \"pc\", \"people\", \"people\", \"people\", \"people\", \"pixel\", \"plane\", \"plane\", \"planetary\", \"please\", \"please\", \"please\", \"point\", \"point\", \"point\", \"point\", \"postscript\", \"pretty\", \"pretty\", \"probe\", \"problem\", \"problem\", \"problem\", \"problem\", \"program\", \"program\", \"program\", \"propulsion\", \"pub\", \"quran\", \"ra\", \"ra\", \"radio\", \"really\", \"really\", \"religion\", \"religious\", \"report\", \"report\", \"report\", \"research\", \"research\", \"research\", \"right\", \"right\", \"right\", \"right\", \"rocket\", \"satellite\", \"saturn\", \"sci\", \"sci\", \"science\", \"science\", \"science\", \"screen\", \"seem\", \"seem\", \"seem\", \"send\", \"send\", \"send\", \"send\", \"server\", \"server\", \"service\", \"service\", \"service\", \"sgi\", \"shuttle\", \"sky\", \"software\", \"software\", \"solar\", \"space\", \"space\", \"spacecraft\", \"spend\", \"spend\", \"spend\", \"sphere\", \"sphere\", \"statement\", \"statement\", \"statement\", \"station\", \"station\", \"stay\", \"stay\", \"stay\", \"still\", \"still\", \"still\", \"still\", \"sure\", \"sure\", \"sure\", \"system\", \"system\", \"system\", \"system\", \"take\", \"take\", \"take\", \"take\", \"tar\", \"tax\", \"technology\", \"technology\", \"telescope\", \"thanks\", \"thanks\", \"thanks\", \"thanks\", \"thing\", \"thing\", \"thing\", \"thing\", \"think\", \"think\", \"think\", \"think\", \"tiff\", \"time\", \"time\", \"time\", \"time\", \"titan\", \"true\", \"true\", \"true\", \"true\", \"truth\", \"truth\", \"unix\", \"use\", \"use\", \"use\", \"use\", \"user\", \"user\", \"user\", \"vehicle\", \"venus\", \"verse\", \"version\", \"version\", \"version\", \"viewer\", \"want\", \"want\", \"want\", \"way\", \"way\", \"way\", \"way\", \"well\", \"well\", \"well\", \"well\", \"window\", \"window\", \"word\", \"word\", \"word\", \"word\", \"work\", \"work\", \"work\", \"work\", \"write\", \"write\", \"write\", \"write\", \"year\", \"year\", \"year\"]}, \"R\": 30, \"lambda.step\": 0.01, \"plot.opts\": {\"xlab\": \"PC1\", \"ylab\": \"PC2\"}, \"topic.order\": [2, 1, 3, 4]};\n",
       "\n",
       "function LDAvis_load_lib(url, callback){\n",
       "  var s = document.createElement('script');\n",
       "  s.src = url;\n",
       "  s.async = true;\n",
       "  s.onreadystatechange = s.onload = callback;\n",
       "  s.onerror = function(){console.warn(\"failed to load library \" + url);};\n",
       "  document.getElementsByTagName(\"head\")[0].appendChild(s);\n",
       "}\n",
       "\n",
       "if(typeof(LDAvis) !== \"undefined\"){\n",
       "   // already loaded: just create the visualization\n",
       "   !function(LDAvis){\n",
       "       new LDAvis(\"#\" + \"ldavis_el1476823741953757925196141033\", ldavis_el1476823741953757925196141033_data);\n",
       "   }(LDAvis);\n",
       "}else if(typeof define === \"function\" && define.amd){\n",
       "   // require.js is available: use it to load d3/LDAvis\n",
       "   require.config({paths: {d3: \"https://d3js.org/d3.v5\"}});\n",
       "   require([\"d3\"], function(d3){\n",
       "      window.d3 = d3;\n",
       "      LDAvis_load_lib(\"https://cdn.jsdelivr.net/gh/bmabey/pyLDAvis@3.3.1/pyLDAvis/js/ldavis.v3.0.0.js\", function(){\n",
       "        new LDAvis(\"#\" + \"ldavis_el1476823741953757925196141033\", ldavis_el1476823741953757925196141033_data);\n",
       "      });\n",
       "    });\n",
       "}else{\n",
       "    // require.js not available: dynamically load d3 & LDAvis\n",
       "    LDAvis_load_lib(\"https://d3js.org/d3.v5.js\", function(){\n",
       "         LDAvis_load_lib(\"https://cdn.jsdelivr.net/gh/bmabey/pyLDAvis@3.3.1/pyLDAvis/js/ldavis.v3.0.0.js\", function(){\n",
       "                 new LDAvis(\"#\" + \"ldavis_el1476823741953757925196141033\", ldavis_el1476823741953757925196141033_data);\n",
       "            })\n",
       "         });\n",
       "}\n",
       "</script>"
      ],
      "text/plain": [
       "PreparedData(topic_coordinates=                x           y  topics  cluster       Freq\n",
       "topic                                                    \n",
       "1      269.562408 -124.803398       1        1  33.753754\n",
       "0        1.782994 -295.079681       2        1  23.328828\n",
       "2      220.811432 -343.832123       3        1  23.018384\n",
       "3       50.533993  -76.050934       4        1  19.899034, topic_info=        Term         Freq        Total Category  logprob  loglift\n",
       "846    space  1044.000000  1044.000000  Default  30.0000  30.0000\n",
       "416    image   846.000000   846.000000  Default  29.0000  29.0000\n",
       "368      god   785.000000   785.000000  Default  28.0000  28.0000\n",
       "329     file   546.000000   546.000000  Default  27.0000  27.0000\n",
       "576     nasa   413.000000   413.000000  Default  26.0000  26.0000\n",
       "..       ...          ...          ...      ...      ...      ...\n",
       "334    first   144.470995   411.697968   Topic4  -5.0796   0.5673\n",
       "421  include   140.072907   381.938577   Topic4  -5.1105   0.6114\n",
       "943      use   171.020037  1087.478752   Topic4  -4.9109  -0.2353\n",
       "589      new   130.857396   377.092206   Topic4  -5.1785   0.5561\n",
       "399     high   113.689486   246.400250   Topic4  -5.3192   0.8410\n",
       "\n",
       "[264 rows x 6 columns], token_table=      Topic      Freq      Term\n",
       "term                           \n",
       "0         3  0.993807        3d\n",
       "11        1  0.295588  actually\n",
       "11        2  0.665074  actually\n",
       "11        3  0.042227  actually\n",
       "21        1  0.031731       ago\n",
       "...     ...       ...       ...\n",
       "993       3  0.456497     write\n",
       "993       4  0.057784     write\n",
       "996       1  0.034112      year\n",
       "996       2  0.563984      year\n",
       "996       4  0.400247      year\n",
       "\n",
       "[470 rows x 3 columns], R=30, lambda_step=0.01, plot_opts={'xlab': 'PC1', 'ylab': 'PC2'}, topic_order=[2, 1, 3, 4])"
      ]
     },
     "execution_count": 21,
     "metadata": {},
     "output_type": "execute_result"
    }
   ],
   "source": [
    "#prepare to display result in the Jupyter notebook\n",
    "pyLDAvis.enable_notebook()\n",
    "\n",
    "#run the visualization [mds is a function to use for visualizing the \"distance\" between topics]\n",
    "pyLDAvis.sklearn.prepare(lda_news, bow_news_corpus, bow_vectorizer_news, mds='tsne')"
   ]
  },
  {
   "cell_type": "markdown",
   "metadata": {},
   "source": [
    "### **<font color=green>EXERCISE 2:</font>**\n",
    "    \n",
    "**<font color=green>2.1. Fit a topic model with 3 topics (n_components = 3). The script is provided below. Important! Note that the model with three topics is called lda_news_3_topics.</font>**\n",
    "\n",
    "**<font color=green>2.2. Use the visualization tool to answer the following question: Which topic is the most common / largest topic in the corpus? Can you give a name to that topic? List 5 most relevant and exclusive terms for that topic (with lambda = 0.2).</font>**\n",
    "\n",
    "**<font color=green>2.3. You fit the model with 3 topics, but you know that the dataset has four classes (topics). Which 2 of the 4 classes ('atheism', 'religion','computer graphics', 'space science') were grouped together into one topic by the topic model when you fit it with 3 topics? Why?</font>**\n",
    "\n",
    "Your answer (need to add lines of code related to visualization):\n",
    "\n",
    "**Answer 2.1**:"
   ]
  },
  {
   "cell_type": "markdown",
   "metadata": {},
   "source": [
    "Code:"
   ]
  },
  {
   "cell_type": "code",
   "execution_count": 20,
   "metadata": {},
   "outputs": [],
   "source": [
    "#fit the LDA model with 3 topics\n",
    "lda_news_3_topics = LatentDirichletAllocation(n_components=3, max_iter=100,\n",
    "                                     doc_topic_prior = 0.25,\n",
    "                                     topic_word_prior = 0.25).fit(bow_news_corpus)\n"
   ]
  },
  {
   "cell_type": "markdown",
   "metadata": {},
   "source": [
    "Discussion: fit topic model with 3 topic"
   ]
  },
  {
   "cell_type": "markdown",
   "metadata": {},
   "source": []
  },
  {
   "cell_type": "markdown",
   "metadata": {},
   "source": [
    "**Answer 2.2:**"
   ]
  },
  {
   "cell_type": "markdown",
   "metadata": {},
   "source": [
    "Code:"
   ]
  },
  {
   "cell_type": "code",
   "execution_count": 22,
   "metadata": {},
   "outputs": [
    {
     "data": {
      "text/html": [
       "\n",
       "<link rel=\"stylesheet\" type=\"text/css\" href=\"https://cdn.jsdelivr.net/gh/bmabey/pyLDAvis@3.3.1/pyLDAvis/js/ldavis.v1.0.0.css\">\n",
       "\n",
       "\n",
       "<div id=\"ldavis_el1476823741953736649080569613\"></div>\n",
       "<script type=\"text/javascript\">\n",
       "\n",
       "var ldavis_el1476823741953736649080569613_data = {\"mdsDat\": {\"x\": [-1015.7005615234375, -387.9960021972656, -2184.74560546875], \"y\": [1338.981201171875, -373.316162109375, -60.565799713134766], \"topics\": [1, 2, 3], \"cluster\": [1, 1, 1], \"Freq\": [38.78768318228331, 32.09519287514438, 29.11712394257232]}, \"tinfo\": {\"Term\": [\"god\", \"image\", \"space\", \"file\", \"jesus\", \"christian\", \"data\", \"program\", \"launch\", \"think\", \"religion\", \"year\", \"bible\", \"edu\", \"people\", \"atheist\", \"argument\", \"available\", \"like\", \"believe\", \"software\", \"satellite\", \"format\", \"graphic\", \"jpeg\", \"nasa\", \"could\", \"law\", \"ftp\", \"orbit\", \"launch\", \"format\", \"satellite\", \"jpeg\", \"ftp\", \"color\", \"orbit\", \"pub\", \"gif\", \"shuttle\", \"package\", \"lunar\", \"technology\", \"rocket\", \"graphics\", \"3d\", \"email\", \"contact\", \"commercial\", \"directory\", \"probe\", \"gov\", \"pc\", \"spacecraft\", \"mac\", \"university\", \"server\", \"solar\", \"dc\", \"processing\", \"file\", \"data\", \"software\", \"image\", \"available\", \"graphic\", \"display\", \"user\", \"program\", \"edu\", \"mission\", \"space\", \"nasa\", \"mail\", \"information\", \"send\", \"system\", \"use\", \"include\", \"version\", \"jesus\", \"christian\", \"religion\", \"bible\", \"atheist\", \"god\", \"argument\", \"belief\", \"law\", \"atheism\", \"moral\", \"religious\", \"faith\", \"morality\", \"islam\", \"truth\", \"church\", \"conclusion\", \"christ\", \"existence\", \"muslim\", \"christianity\", \"interpretation\", \"verse\", \"fallacy\", \"false\", \"evil\", \"mormon\", \"jew\", \"quran\", \"meaning\", \"matthew\", \"ra\", \"context\", \"evidence\", \"believe\", \"statement\", \"word\", \"true\", \"exist\", \"people\", \"claim\", \"objective\", \"many\", \"life\", \"mean\", \"must\", \"think\", \"even\", \"fact\", \"know\", \"way\", \"example\", \"take\", \"may\", \"thing\", \"use\", \"well\", \"point\", \"good\", \"billion\", \"saw\", \"sex\", \"goal\", \"gun\", \"homosexuality\", \"tax\", \"fbi\", \"cview\", \"eat\", \"western\", \"spend\", \"guy\", \"ago\", \"fire\", \"figure\", \"buy\", \"pay\", \"home\", \"sign\", \"gas\", \"plane\", \"fund\", \"maybe\", \"mary\", \"allen\", \"hundred\", \"face\", \"money\", \"sphere\", \"military\", \"year\", \"pretty\", \"big\", \"long\", \"enough\", \"problem\", \"like\", \"could\", \"sure\", \"little\", \"lot\", \"think\", \"idea\", \"much\", \"know\", \"time\", \"right\", \"good\", \"thing\", \"really\", \"around\", \"point\", \"want\", \"might\", \"take\", \"well\", \"give\", \"people\", \"look\", \"still\", \"first\", \"work\", \"use\", \"way\", \"even\", \"us\", \"since\", \"seem\"], \"Freq\": [788.0, 848.0, 1039.0, 547.0, 410.0, 367.0, 443.0, 532.0, 397.0, 754.0, 302.0, 439.0, 286.0, 436.0, 790.0, 256.0, 248.0, 316.0, 687.0, 414.0, 294.0, 283.0, 282.0, 293.0, 265.0, 411.0, 523.0, 213.0, 256.0, 252.0, 397.2099017180343, 281.8192458806058, 282.8034123394752, 264.90430931630044, 255.9517999361047, 246.98220963174498, 251.94269167643535, 197.24813042098506, 197.2465202658653, 200.22293715094625, 184.3124841952349, 181.30543100180108, 172.35048081549428, 153.44236057575762, 143.5185755977175, 144.50610610504754, 141.4889051704102, 136.529885499145, 134.54661815486247, 121.63018380037175, 122.61995789434819, 127.56927501354859, 113.66902571795116, 114.64971599165108, 113.65808116519027, 122.56692540667672, 111.66641322148688, 109.67051335541852, 109.63515324213088, 92.77775251373791, 544.8540532406997, 440.39753614013676, 292.6393783443874, 833.906453834158, 312.87380136705906, 289.5816565657451, 184.2323498336426, 169.01963675811888, 510.4556085140729, 415.47543514148026, 232.6382242430058, 905.942590682486, 369.56874139717183, 227.26362955087876, 268.5725357904862, 236.8186604565677, 436.398277199604, 578.2760871485318, 275.42703169023315, 203.42484367482092, 409.523193360543, 366.6991851676258, 301.9710864293495, 286.04223321155087, 256.16677792690814, 786.887225729682, 248.1794737809815, 207.3690557262881, 213.32432514366346, 199.40215614460885, 172.51332201507057, 157.57961795244591, 138.66285477657192, 122.72849830712552, 120.73924492918543, 118.7333362389945, 112.75647866694598, 110.76443381899682, 98.83113425415739, 92.83978546614199, 86.8798464238479, 85.88132412100508, 85.86630660353163, 72.93812401413926, 69.95399055813587, 68.95411595618877, 69.94078655808384, 67.96101785370419, 67.95348177868834, 65.96853807135342, 67.93075981841974, 122.68516855962966, 94.65772110139599, 101.38747557276608, 180.1197217660869, 351.4852317447625, 127.25159517016493, 218.09656422197935, 217.41528574213936, 189.7383323154806, 451.3733589036403, 175.81433259653787, 119.05303777447668, 266.6475293201574, 194.0475313287319, 220.69716490641613, 188.5023733960188, 308.5257492360723, 234.28735715803285, 156.04495229638212, 266.1192867385083, 204.09039519465082, 165.87122109256416, 206.93134586102877, 204.10898605742622, 197.8348443452494, 221.15560085559352, 188.7505389811262, 185.3330422480731, 187.05237740181815, 71.47108823866046, 67.49213784605332, 61.552416696487754, 57.612079483178604, 45.746484202661016, 48.67491056103495, 43.76419136435685, 39.811548811316236, 39.81009163830743, 40.78514231239229, 39.77702938115334, 81.1321104358768, 57.132183861375765, 90.65010007738758, 53.34484282160502, 61.14102737198409, 69.31537699911772, 68.69654126815446, 40.0243397939669, 39.0262293896876, 47.14894679862049, 82.45155953100819, 80.26837441616874, 109.49756486296185, 37.75463189727502, 35.81594240654516, 44.48911606198617, 95.35783832790786, 102.27938234090252, 36.028921553508795, 59.978003127904834, 354.1212132926355, 82.92827678301548, 124.38109678025864, 188.49834166664465, 126.70895034612782, 234.7054005079389, 462.4969076057685, 360.5764088643453, 140.14905148725907, 147.4199084322596, 145.53586188336948, 438.20927833090013, 151.3343449717651, 253.20400287410777, 434.2586091476037, 342.2392677057077, 186.54358959452105, 309.40432792509995, 264.3130154622471, 165.4036303397003, 131.84389605067446, 258.47479435333975, 212.36752511045043, 170.02833142513916, 243.47077498249664, 255.21926560984323, 217.75472228651205, 313.29133874804967, 212.69988595880187, 155.41582254046617, 195.3799860052971, 196.66683135870247, 290.35463506470745, 195.18123005973965, 196.05737923560667, 169.04211717335124, 153.5976590109811, 151.61174933051862], \"Total\": [788.0, 848.0, 1039.0, 547.0, 410.0, 367.0, 443.0, 532.0, 397.0, 754.0, 302.0, 439.0, 286.0, 436.0, 790.0, 256.0, 248.0, 316.0, 687.0, 414.0, 294.0, 283.0, 282.0, 293.0, 265.0, 411.0, 523.0, 213.0, 256.0, 252.0, 397.73441107649865, 282.3190252885813, 283.3139279093033, 265.40468381050493, 256.450045479378, 247.4953633719993, 252.47005016098925, 197.74734494432255, 197.74732531113517, 200.73216114326425, 184.81283300057873, 181.82782646118324, 172.87319806179894, 153.96889675873337, 144.01942513329325, 145.0143479252686, 142.0294920923777, 137.0546876998168, 135.06468190666948, 122.13028474687545, 123.12521571704993, 128.10000641349944, 114.17058887169634, 115.16547096190425, 114.17053746626354, 123.12509888658658, 112.18066359795644, 110.19064033950748, 110.19044536822108, 93.27641877563958, 547.9758289349579, 443.504883026497, 294.25946802372914, 848.4638516296045, 316.1500119691657, 293.2662478138554, 185.80866797896448, 170.8845274462722, 532.9262201152583, 436.5554829042888, 241.50419386264724, 1039.7330958114921, 411.43236726135405, 242.53313206895615, 294.28000603619887, 264.37554403836236, 634.1852108973866, 1089.7863230688329, 381.712703897773, 249.5241152301743, 410.022929291672, 367.2030848559821, 302.4754237681769, 286.54248934220874, 256.66818565931175, 788.4298115320017, 248.70164245430075, 207.87348296814253, 213.84826085743597, 199.9070201260321, 173.02011240442746, 158.08298197528848, 139.16261552154046, 123.22964508803837, 121.23804023679529, 119.24637118907268, 113.27147929223823, 111.27989449891797, 99.33021826527386, 93.35527347890736, 87.38048798977539, 86.38466349975506, 86.38463074874505, 73.43914936830258, 70.45173681917899, 69.45590163588469, 70.45166131409121, 68.46010903972623, 68.46005986614634, 66.46848357656432, 68.46002636402893, 125.21951090777053, 96.3417917163466, 104.30712642708473, 196.8150451048774, 414.65580184895566, 136.12121003152387, 276.4610428020951, 282.21603812330466, 244.4930532589773, 790.3708428776674, 228.48336299759418, 135.16599868040413, 479.0294107141911, 292.8969497913693, 364.4584206084664, 292.0806046354708, 754.7259725715259, 457.5302523792515, 220.49873989512747, 816.3995340626219, 434.62531145239785, 266.17629332312396, 483.11043676735665, 468.01404552785976, 488.95574577060063, 1089.7863230688329, 520.837676960241, 491.962662445385, 602.1196386017588, 71.98344284117333, 68.02589846697016, 62.08940043460114, 58.13159860412476, 46.258503278518226, 49.227025082321276, 44.27967280766864, 40.32196841134683, 40.32196620537766, 41.311490482853806, 40.32216903279071, 83.86890071323526, 59.12924383914077, 94.7601695721235, 56.16556928835082, 65.07658634165784, 73.98544779912626, 73.99113304725658, 43.30566629549764, 42.31629193686166, 51.22544893357506, 89.83126560982552, 87.85355903438614, 120.5312007294671, 42.32575604372463, 40.344339440205616, 50.24539189639474, 108.67416197642879, 116.59204124760704, 41.34003349942174, 69.0629257489674, 439.5339223965318, 96.8047041706844, 150.30468965494188, 240.49478560967236, 156.26831971334104, 312.8819859236162, 687.7785388422845, 523.1793930735708, 182.0632356058358, 194.97345316032172, 191.9760002970254, 754.7259725715259, 203.89569342404076, 402.3614489860922, 816.3995340626219, 653.650783548541, 291.3084083681418, 602.1196386017588, 488.95574577060063, 254.60592832199745, 185.08882203852755, 491.962662445385, 374.73507176846863, 273.4840473276963, 483.11043676735665, 520.837676960241, 428.49656899353874, 790.3708428776674, 422.476404947707, 246.68683128615808, 411.6455836302266, 417.57180105464744, 1089.7863230688329, 434.62531145239785, 457.5302523792515, 363.10669412683603, 275.56664695392806, 325.3852096019847], \"Category\": [\"Default\", \"Default\", \"Default\", \"Default\", \"Default\", \"Default\", \"Default\", \"Default\", \"Default\", \"Default\", \"Default\", \"Default\", \"Default\", \"Default\", \"Default\", \"Default\", \"Default\", \"Default\", \"Default\", \"Default\", \"Default\", \"Default\", \"Default\", \"Default\", \"Default\", \"Default\", \"Default\", \"Default\", \"Default\", \"Default\", \"Topic1\", \"Topic1\", \"Topic1\", \"Topic1\", \"Topic1\", \"Topic1\", \"Topic1\", \"Topic1\", \"Topic1\", \"Topic1\", \"Topic1\", \"Topic1\", \"Topic1\", \"Topic1\", \"Topic1\", \"Topic1\", \"Topic1\", \"Topic1\", \"Topic1\", \"Topic1\", \"Topic1\", \"Topic1\", \"Topic1\", \"Topic1\", \"Topic1\", \"Topic1\", \"Topic1\", \"Topic1\", \"Topic1\", \"Topic1\", \"Topic1\", \"Topic1\", \"Topic1\", \"Topic1\", \"Topic1\", \"Topic1\", \"Topic1\", \"Topic1\", \"Topic1\", \"Topic1\", \"Topic1\", \"Topic1\", \"Topic1\", \"Topic1\", \"Topic1\", \"Topic1\", \"Topic1\", \"Topic1\", \"Topic1\", \"Topic1\", \"Topic2\", \"Topic2\", \"Topic2\", \"Topic2\", \"Topic2\", \"Topic2\", \"Topic2\", \"Topic2\", \"Topic2\", \"Topic2\", \"Topic2\", \"Topic2\", \"Topic2\", \"Topic2\", \"Topic2\", \"Topic2\", \"Topic2\", \"Topic2\", \"Topic2\", \"Topic2\", \"Topic2\", \"Topic2\", \"Topic2\", \"Topic2\", \"Topic2\", \"Topic2\", \"Topic2\", \"Topic2\", \"Topic2\", \"Topic2\", \"Topic2\", \"Topic2\", \"Topic2\", \"Topic2\", \"Topic2\", \"Topic2\", \"Topic2\", \"Topic2\", \"Topic2\", \"Topic2\", \"Topic2\", \"Topic2\", \"Topic2\", \"Topic2\", \"Topic2\", \"Topic2\", \"Topic2\", \"Topic2\", \"Topic2\", \"Topic2\", \"Topic2\", \"Topic2\", \"Topic2\", \"Topic2\", \"Topic2\", \"Topic2\", \"Topic2\", \"Topic2\", \"Topic2\", \"Topic2\", \"Topic3\", \"Topic3\", \"Topic3\", \"Topic3\", \"Topic3\", \"Topic3\", \"Topic3\", \"Topic3\", \"Topic3\", \"Topic3\", \"Topic3\", \"Topic3\", \"Topic3\", \"Topic3\", \"Topic3\", \"Topic3\", \"Topic3\", \"Topic3\", \"Topic3\", \"Topic3\", \"Topic3\", \"Topic3\", \"Topic3\", \"Topic3\", \"Topic3\", \"Topic3\", \"Topic3\", \"Topic3\", \"Topic3\", \"Topic3\", \"Topic3\", \"Topic3\", \"Topic3\", \"Topic3\", \"Topic3\", \"Topic3\", \"Topic3\", \"Topic3\", \"Topic3\", \"Topic3\", \"Topic3\", \"Topic3\", \"Topic3\", \"Topic3\", \"Topic3\", \"Topic3\", \"Topic3\", \"Topic3\", \"Topic3\", \"Topic3\", \"Topic3\", \"Topic3\", \"Topic3\", \"Topic3\", \"Topic3\", \"Topic3\", \"Topic3\", \"Topic3\", \"Topic3\", \"Topic3\", \"Topic3\", \"Topic3\", \"Topic3\", \"Topic3\", \"Topic3\", \"Topic3\", \"Topic3\", \"Topic3\", \"Topic3\"], \"logprob\": [30.0, 29.0, 28.0, 27.0, 26.0, 25.0, 24.0, 23.0, 22.0, 21.0, 20.0, 19.0, 18.0, 17.0, 16.0, 15.0, 14.0, 13.0, 12.0, 11.0, 10.0, 9.0, 8.0, 7.0, 6.0, 5.0, 4.0, 3.0, 2.0, 1.0, -4.7356, -5.0788, -5.0753, -5.1407, -5.1751, -5.2108, -5.1909, -5.4356, -5.4356, -5.4207, -5.5035, -5.5199, -5.5706, -5.6868, -5.7536, -5.7468, -5.7679, -5.8035, -5.8182, -5.9191, -5.911, -5.8714, -5.9868, -5.9782, -5.9869, -5.9114, -6.0046, -6.0226, -6.0229, -6.1899, -4.4196, -4.6324, -5.0411, -3.994, -4.9743, -5.0517, -5.5039, -5.5901, -4.4848, -4.6907, -5.2706, -3.9111, -4.8078, -5.294, -5.127, -5.2528, -4.6415, -4.36, -5.1018, -5.4048, -4.5157, -4.6262, -4.8204, -4.8746, -4.9849, -3.8626, -5.0165, -5.1962, -5.1679, -5.2354, -5.3802, -5.4708, -5.5986, -5.7207, -5.7371, -5.7538, -5.8055, -5.8233, -5.9373, -5.9998, -6.0662, -6.0777, -6.0779, -6.2411, -6.2829, -6.2973, -6.283, -6.3118, -6.3119, -6.3415, -6.3122, -5.7211, -5.9804, -5.9117, -5.3371, -4.6685, -5.6845, -5.1458, -5.1489, -5.285, -4.4184, -5.3613, -5.7511, -4.9448, -5.2626, -5.1339, -5.2916, -4.7989, -5.0741, -5.4805, -4.9467, -5.2121, -5.4195, -5.1983, -5.212, -5.2433, -5.1318, -5.2903, -5.3085, -5.2993, -6.164, -6.2213, -6.3134, -6.3796, -6.6102, -6.5481, -6.6545, -6.7492, -6.7492, -6.725, -6.75, -6.0372, -6.3879, -5.9263, -6.4565, -6.3201, -6.1946, -6.2036, -6.7438, -6.7691, -6.58, -6.0211, -6.0479, -5.7374, -6.8022, -6.8549, -6.6381, -5.8757, -5.8056, -6.849, -6.3393, -4.5637, -6.0153, -5.61, -5.1942, -5.5914, -4.975, -4.2967, -4.5456, -5.4906, -5.44, -5.4529, -4.3506, -5.4138, -4.8991, -4.3597, -4.5978, -5.2046, -4.6987, -4.8562, -5.3249, -5.5517, -4.8785, -5.075, -5.2973, -4.9383, -4.8912, -5.0499, -4.6862, -5.0734, -5.3872, -5.1584, -5.1518, -4.7622, -5.1594, -5.1549, -5.3032, -5.399, -5.412], \"loglift\": [30.0, 29.0, 28.0, 27.0, 26.0, 25.0, 24.0, 23.0, 22.0, 21.0, 20.0, 19.0, 18.0, 17.0, 16.0, 15.0, 14.0, 13.0, 12.0, 11.0, 10.0, 9.0, 8.0, 7.0, 6.0, 5.0, 4.0, 3.0, 2.0, 1.0, 0.9457, 0.9453, 0.9453, 0.9452, 0.9451, 0.945, 0.945, 0.9445, 0.9445, 0.9445, 0.9444, 0.9442, 0.944, 0.9436, 0.9436, 0.9436, 0.9433, 0.9432, 0.9432, 0.943, 0.943, 0.9429, 0.9427, 0.9426, 0.9426, 0.9425, 0.9425, 0.9423, 0.942, 0.9417, 0.9414, 0.94, 0.9415, 0.9298, 0.9367, 0.9344, 0.9385, 0.9361, 0.904, 0.8976, 0.9097, 0.8093, 0.8398, 0.882, 0.8557, 0.837, 0.5733, 0.3134, 0.6207, 0.7428, 1.1352, 1.1351, 1.1348, 1.1347, 1.1345, 1.1345, 1.1344, 1.134, 1.134, 1.1339, 1.1335, 1.1333, 1.1329, 1.1324, 1.1323, 1.1322, 1.1319, 1.1318, 1.1314, 1.1309, 1.1307, 1.1306, 1.1304, 1.1296, 1.1294, 1.1292, 1.1292, 1.1291, 1.129, 1.1289, 1.1287, 1.116, 1.1188, 1.1081, 1.0478, 0.9712, 1.0691, 0.8993, 0.8756, 0.8829, 0.5763, 0.8744, 1.0095, 0.5506, 0.7247, 0.6348, 0.6985, 0.2419, 0.4672, 0.7907, 0.0155, 0.3805, 0.6635, 0.2886, 0.3066, 0.2316, -0.4584, 0.1215, 0.1602, -0.0326, 1.2267, 1.226, 1.2252, 1.2249, 1.2227, 1.2226, 1.2221, 1.2211, 1.2211, 1.221, 1.2202, 1.2007, 1.1995, 1.1895, 1.1823, 1.1715, 1.1686, 1.1596, 1.155, 1.1529, 1.1509, 1.1481, 1.1435, 1.1378, 1.1196, 1.1148, 1.1122, 1.1031, 1.1029, 1.0963, 1.0928, 1.0178, 1.0791, 1.0445, 0.9902, 1.0242, 0.9463, 0.837, 0.8616, 0.9722, 0.9543, 0.9569, 0.6902, 0.9357, 0.7707, 0.6026, 0.5868, 0.7881, 0.568, 0.6187, 0.8025, 0.8946, 0.5902, 0.6659, 0.7586, 0.5486, 0.5205, 0.5569, 0.3085, 0.5476, 0.7718, 0.4886, 0.4809, -0.0888, 0.4333, 0.3864, 0.4693, 0.6494, 0.4702]}, \"token.table\": {\"Topic\": [1, 1, 3, 1, 3, 2, 1, 2, 3, 2, 2, 1, 2, 2, 1, 2, 3, 2, 1, 2, 3, 3, 1, 3, 2, 2, 2, 2, 1, 2, 3, 1, 1, 2, 1, 1, 2, 1, 2, 3, 3, 1, 2, 1, 1, 1, 2, 3, 1, 2, 1, 1, 2, 3, 1, 2, 3, 2, 3, 2, 1, 2, 3, 1, 2, 3, 2, 2, 3, 1, 2, 3, 2, 2, 2, 3, 1, 3, 1, 2, 1, 3, 1, 2, 3, 1, 1, 1, 3, 1, 3, 1, 1, 2, 3, 3, 1, 2, 1, 2, 3, 1, 1, 2, 1, 3, 1, 3, 1, 3, 3, 1, 3, 1, 2, 3, 1, 2, 1, 2, 3, 1, 2, 2, 2, 2, 2, 1, 1, 2, 3, 1, 2, 1, 2, 3, 1, 2, 3, 2, 3, 1, 2, 3, 1, 2, 3, 1, 2, 3, 1, 1, 1, 2, 1, 2, 3, 1, 2, 3, 1, 2, 1, 2, 3, 1, 2, 3, 1, 2, 3, 2, 1, 2, 3, 1, 3, 1, 2, 3, 1, 2, 3, 2, 2, 2, 1, 2, 3, 2, 1, 2, 3, 1, 3, 1, 2, 1, 1, 1, 2, 3, 1, 1, 2, 3, 1, 3, 1, 2, 3, 2, 3, 1, 1, 2, 3, 1, 1, 3, 1, 2, 1, 2, 2, 3, 2, 2, 1, 2, 3, 1, 1, 3, 1, 2, 3, 1, 2, 3, 1, 3, 1, 1, 3, 1, 2, 3, 1, 2, 1, 1, 3, 1, 1, 3, 1, 2, 3, 2, 3, 1, 2, 3, 1, 2, 3, 1, 2, 3, 1, 2, 3, 3, 1, 1, 2, 3, 1, 2, 3, 1, 2, 3, 1, 2, 3, 2, 1, 1, 2, 3, 1, 2, 3, 1, 2, 2, 1, 2, 1, 2, 3, 1, 2, 3, 1, 2, 3, 3, 1, 2, 3, 1, 2, 3, 1, 2, 3], \"Freq\": [0.999901058581624, 0.04221182821919219, 0.9603190919866224, 0.0991464987530259, 0.8923184887772332, 0.9971787783652065, 0.17288996519378666, 0.1134590396584225, 0.71317110642437, 0.9954627900237807, 0.9973966946561945, 0.9900363376564638, 0.00948916617562106, 0.9957980067699332, 0.0265280262592513, 0.8464852015452006, 0.12540521504373342, 0.9981067752169875, 0.046572066487546526, 0.126409894751912, 0.8249908920651099, 0.9863379299133659, 0.05406468594824452, 0.9326158326072179, 0.9966755507936974, 0.9994469413129746, 0.9955470857421798, 0.9976032864236035, 0.026260117678954056, 0.770296785249319, 0.20132756887198108, 0.9979984943343979, 0.9995211042164659, 0.9974847702706917, 0.9996009789906888, 0.028761217979647175, 0.9682943386481215, 0.06881004962467546, 0.24083517368636412, 0.6900118865141067, 0.9920151164321267, 0.992097306792702, 0.00676429981904115, 0.9982716707643329, 0.9989332314491408, 0.9902659655298254, 0.005381880247444703, 0.9924599553486677, 0.9506237265401276, 0.048103851222512484, 0.9927515611214881, 0.019197749137529647, 0.17277974223776682, 0.8127047134887551, 0.05901249121690739, 0.5114415905465307, 0.4283869732782907, 0.914564229091749, 0.08129459814148879, 0.993589060844462, 0.13149180027656276, 0.6236468241688405, 0.24419905765647368, 0.09407220243446932, 0.7771181940238769, 0.13088306425665294, 0.9961943930356796, 0.1196236507700853, 0.8741728325506233, 0.07709794626529592, 0.7074870363168332, 0.2176883188667179, 0.9988314712185379, 0.9935879959874032, 0.9934360993789311, 0.9920150621601046, 0.06146603909122777, 0.9373570961412234, 0.9945694156971454, 0.005474694031360434, 0.05341350649537926, 0.9436386147517002, 0.2988007278379757, 0.22592250153603038, 0.4737084709626444, 0.9988699830333602, 0.998245094951975, 0.07967804693330842, 0.9106062506663819, 0.07808618730090332, 0.917512700785614, 0.9962208069820447, 0.10501834380073777, 0.38740100157605484, 0.5087555321902407, 0.9977361949905946, 0.001268343719851099, 0.9981865075228149, 0.17604474792775904, 0.31056950813670703, 0.5131870482045051, 0.9992193098478338, 0.9888625171215456, 0.010229612246084954, 0.9998651214357003, 0.9944117673466043, 0.033824210663693524, 0.9639900039152655, 0.06927499924673601, 0.9236666566231468, 0.9953882022742259, 0.09951161313081061, 0.8757021955511334, 0.08828043249822594, 0.1716563965243282, 0.7405747392906731, 0.9829528958696067, 0.016500408323950232, 0.7204371172138094, 0.1991026214845437, 0.0785931400596883, 0.914095400578831, 0.08495310414301403, 0.9955474631840034, 0.9980365878866867, 0.999944078025803, 0.9932798792895324, 0.9984752197862722, 0.14208729324323968, 0.3258208620922565, 0.5316024592031553, 0.9981535138624016, 0.9960333516202805, 0.013656680285845253, 0.6623489938634948, 0.3243461567888247, 0.13376398768542652, 0.1948301559765995, 0.6717278512029028, 0.2410584581550858, 0.7539487946552684, 0.09979426347709866, 0.11642664072328178, 0.7817217305706062, 0.3219114686815083, 0.17515771090023247, 0.50417016786148, 0.13543359565660698, 0.10417968896662076, 0.7605117294563315, 0.9954471959694247, 0.9985062918153124, 0.9359545974752026, 0.061847220097480345, 0.24841898501092316, 0.5573770504026596, 0.1941425681177803, 0.047252552274173194, 0.07087882841125978, 0.8977984932092906, 0.015971951858788882, 0.9822750393155162, 0.35896358582682614, 0.43588435421828886, 0.20512204904390063, 0.016593213938762712, 0.07466946272443221, 0.9043301596625679, 0.08505771371188307, 0.6063791848492309, 0.3100490854658964, 0.9932803653685028, 0.054847806102659345, 0.3254303162091121, 0.6216084691634726, 0.13031593872396238, 0.8687729248264159, 0.9647865582513077, 0.01656285936912116, 0.02070357421140145, 0.04288457382250884, 0.07719223288051591, 0.8748453059791803, 0.9998837568410518, 0.9981364460810197, 0.9932791658356951, 0.1565756365545289, 0.21622349809911134, 0.6287878737824733, 0.9956456183922902, 0.14037221009991324, 0.6470816514361853, 0.2122701713706005, 0.8992972586548229, 0.1020823915229799, 0.11837296477075948, 0.8803989254825236, 0.998138194369235, 0.9956018584457488, 0.02703026589311238, 0.040545398839668574, 0.9325441733123772, 0.9985058422367599, 0.032895950343178645, 0.5706182155682142, 0.3960166329774968, 0.07792387152156918, 0.9128224949669532, 0.09756838000958802, 0.3760447979536205, 0.5244300425515356, 0.14462107105162408, 0.8573963498060572, 0.9989830213387184, 0.11186326338565411, 0.14062810254196517, 0.7510819113036776, 0.9970365631606799, 0.9569804988947628, 0.04128151171702898, 0.9962207080730567, 0.9929517938223357, 0.010379711464617976, 0.9860725891387077, 0.34955981027842614, 0.6480603224262957, 0.9984282234825754, 0.999475073317497, 0.02402951579466162, 0.33298043315459674, 0.6419313505145319, 0.9937071916527946, 0.9988919432531259, 0.9849190015848407, 0.04609920659377293, 0.4886515898939931, 0.46713862681689905, 0.8964520559647907, 0.06808496627580689, 0.034042483137903444, 0.9983895299585326, 0.9985601337108206, 0.9963525469008342, 0.07089468057541932, 0.9216308474804513, 0.11975324432320456, 0.3229708710534911, 0.5588484735082879, 0.9957198725594529, 0.003398361339793355, 0.9982699044227341, 0.8713774752864667, 0.12887922923662973, 0.9985631894653652, 0.02384674155725976, 0.9657930330690202, 0.07256888168806064, 0.07256888168806064, 0.8708265802567277, 0.9329920000754363, 0.0661175433124325, 0.08107445336958376, 0.28781430946202236, 0.6283270136142741, 0.07689635940728742, 0.15379271881457485, 0.7689635940728743, 0.6874963220650478, 0.18448869193029954, 0.12772294056713046, 0.06830736305515017, 0.42847345916412377, 0.5029905824970149, 0.9936839459296952, 0.994948910116843, 0.05521972128059902, 0.4049446227243928, 0.5399261636325238, 0.010599873716737415, 0.40942012230898267, 0.5803430859913734, 0.23101020269608005, 0.24477902272432323, 0.523215161073241, 0.04606400148782506, 0.7689144863736953, 0.18425600595130023, 0.9979339313505646, 0.9989839692498292, 0.06334226378092032, 0.4736899726225346, 0.4654279382163276, 0.5303792016515264, 0.2027920476902895, 0.2661072119012849, 0.9889719246415407, 0.011703809759071489, 0.9940202280108091, 0.8135486215941173, 0.18435091917896257, 0.18946718721824787, 0.24283822587127546, 0.5657330097220923, 0.08052913412483884, 0.4693698103276321, 0.4486623186955307, 0.14783876705962254, 0.3628769736918008, 0.489595916885763, 0.9920101264262665, 0.16277157730397945, 0.7885378633837228, 0.04702290011003851, 0.407115613579836, 0.1221346840739508, 0.4717751522072217, 0.18656125459645986, 0.0068254117535290195, 0.8053985869164243], \"Term\": [\"3d\", \"ago\", \"ago\", \"allen\", \"allen\", \"argument\", \"around\", \"around\", \"around\", \"atheism\", \"atheist\", \"available\", \"available\", \"belief\", \"believe\", \"believe\", \"believe\", \"bible\", \"big\", \"big\", \"big\", \"billion\", \"buy\", \"buy\", \"christ\", \"christian\", \"christianity\", \"church\", \"claim\", \"claim\", \"claim\", \"color\", \"commercial\", \"conclusion\", \"contact\", \"context\", \"context\", \"could\", \"could\", \"could\", \"cview\", \"data\", \"data\", \"dc\", \"directory\", \"display\", \"display\", \"eat\", \"edu\", \"edu\", \"email\", \"enough\", \"enough\", \"enough\", \"even\", \"even\", \"even\", \"evidence\", \"evidence\", \"evil\", \"example\", \"example\", \"example\", \"exist\", \"exist\", \"exist\", \"existence\", \"face\", \"face\", \"fact\", \"fact\", \"fact\", \"faith\", \"fallacy\", \"false\", \"fbi\", \"figure\", \"figure\", \"file\", \"file\", \"fire\", \"fire\", \"first\", \"first\", \"first\", \"format\", \"ftp\", \"fund\", \"fund\", \"gas\", \"gas\", \"gif\", \"give\", \"give\", \"give\", \"goal\", \"god\", \"god\", \"good\", \"good\", \"good\", \"gov\", \"graphic\", \"graphic\", \"graphics\", \"gun\", \"guy\", \"guy\", \"home\", \"home\", \"homosexuality\", \"hundred\", \"hundred\", \"idea\", \"idea\", \"idea\", \"image\", \"image\", \"include\", \"include\", \"include\", \"information\", \"information\", \"interpretation\", \"islam\", \"jesus\", \"jew\", \"jpeg\", \"know\", \"know\", \"know\", \"launch\", \"law\", \"life\", \"life\", \"life\", \"like\", \"like\", \"like\", \"little\", \"little\", \"long\", \"long\", \"long\", \"look\", \"look\", \"look\", \"lot\", \"lot\", \"lot\", \"lunar\", \"mac\", \"mail\", \"mail\", \"many\", \"many\", \"many\", \"mary\", \"mary\", \"mary\", \"matthew\", \"matthew\", \"may\", \"may\", \"may\", \"maybe\", \"maybe\", \"maybe\", \"mean\", \"mean\", \"mean\", \"meaning\", \"might\", \"might\", \"might\", \"military\", \"military\", \"mission\", \"mission\", \"mission\", \"money\", \"money\", \"money\", \"moral\", \"morality\", \"mormon\", \"much\", \"much\", \"much\", \"muslim\", \"must\", \"must\", \"must\", \"nasa\", \"nasa\", \"objective\", \"objective\", \"orbit\", \"package\", \"pay\", \"pay\", \"pay\", \"pc\", \"people\", \"people\", \"people\", \"plane\", \"plane\", \"point\", \"point\", \"point\", \"pretty\", \"pretty\", \"probe\", \"problem\", \"problem\", \"problem\", \"processing\", \"program\", \"program\", \"pub\", \"quran\", \"ra\", \"ra\", \"really\", \"really\", \"religion\", \"religious\", \"right\", \"right\", \"right\", \"rocket\", \"satellite\", \"saw\", \"seem\", \"seem\", \"seem\", \"send\", \"send\", \"send\", \"server\", \"sex\", \"shuttle\", \"sign\", \"sign\", \"since\", \"since\", \"since\", \"software\", \"software\", \"solar\", \"space\", \"space\", \"spacecraft\", \"spend\", \"spend\", \"sphere\", \"sphere\", \"sphere\", \"statement\", \"statement\", \"still\", \"still\", \"still\", \"sure\", \"sure\", \"sure\", \"system\", \"system\", \"system\", \"take\", \"take\", \"take\", \"tax\", \"technology\", \"thing\", \"thing\", \"thing\", \"think\", \"think\", \"think\", \"time\", \"time\", \"time\", \"true\", \"true\", \"true\", \"truth\", \"university\", \"us\", \"us\", \"us\", \"use\", \"use\", \"use\", \"user\", \"user\", \"verse\", \"version\", \"version\", \"want\", \"want\", \"want\", \"way\", \"way\", \"way\", \"well\", \"well\", \"well\", \"western\", \"word\", \"word\", \"word\", \"work\", \"work\", \"work\", \"year\", \"year\", \"year\"]}, \"R\": 30, \"lambda.step\": 0.01, \"plot.opts\": {\"xlab\": \"PC1\", \"ylab\": \"PC2\"}, \"topic.order\": [1, 2, 3]};\n",
       "\n",
       "function LDAvis_load_lib(url, callback){\n",
       "  var s = document.createElement('script');\n",
       "  s.src = url;\n",
       "  s.async = true;\n",
       "  s.onreadystatechange = s.onload = callback;\n",
       "  s.onerror = function(){console.warn(\"failed to load library \" + url);};\n",
       "  document.getElementsByTagName(\"head\")[0].appendChild(s);\n",
       "}\n",
       "\n",
       "if(typeof(LDAvis) !== \"undefined\"){\n",
       "   // already loaded: just create the visualization\n",
       "   !function(LDAvis){\n",
       "       new LDAvis(\"#\" + \"ldavis_el1476823741953736649080569613\", ldavis_el1476823741953736649080569613_data);\n",
       "   }(LDAvis);\n",
       "}else if(typeof define === \"function\" && define.amd){\n",
       "   // require.js is available: use it to load d3/LDAvis\n",
       "   require.config({paths: {d3: \"https://d3js.org/d3.v5\"}});\n",
       "   require([\"d3\"], function(d3){\n",
       "      window.d3 = d3;\n",
       "      LDAvis_load_lib(\"https://cdn.jsdelivr.net/gh/bmabey/pyLDAvis@3.3.1/pyLDAvis/js/ldavis.v3.0.0.js\", function(){\n",
       "        new LDAvis(\"#\" + \"ldavis_el1476823741953736649080569613\", ldavis_el1476823741953736649080569613_data);\n",
       "      });\n",
       "    });\n",
       "}else{\n",
       "    // require.js not available: dynamically load d3 & LDAvis\n",
       "    LDAvis_load_lib(\"https://d3js.org/d3.v5.js\", function(){\n",
       "         LDAvis_load_lib(\"https://cdn.jsdelivr.net/gh/bmabey/pyLDAvis@3.3.1/pyLDAvis/js/ldavis.v3.0.0.js\", function(){\n",
       "                 new LDAvis(\"#\" + \"ldavis_el1476823741953736649080569613\", ldavis_el1476823741953736649080569613_data);\n",
       "            })\n",
       "         });\n",
       "}\n",
       "</script>"
      ],
      "text/plain": [
       "PreparedData(topic_coordinates=                 x            y  topics  cluster       Freq\n",
       "topic                                                      \n",
       "0     -1015.700562  1338.981201       1        1  38.787683\n",
       "1      -387.996002  -373.316162       2        1  32.095193\n",
       "2     -2184.745605   -60.565800       3        1  29.117124, topic_info=      Term         Freq        Total Category  logprob  loglift\n",
       "368    god   788.000000   788.000000  Default  30.0000  30.0000\n",
       "416  image   848.000000   848.000000  Default  29.0000  29.0000\n",
       "846  space  1039.000000  1039.000000  Default  28.0000  28.0000\n",
       "329   file   547.000000   547.000000  Default  27.0000  27.0000\n",
       "450  jesus   410.000000   410.000000  Default  26.0000  26.0000\n",
       "..     ...          ...          ...      ...      ...      ...\n",
       "972    way   195.181230   434.625311   Topic3  -5.1594   0.4333\n",
       "290   even   196.057379   457.530252   Topic3  -5.1549   0.3864\n",
       "941     us   169.042117   363.106694   Topic3  -5.3032   0.4693\n",
       "824  since   153.597659   275.566647   Topic3  -5.3990   0.6494\n",
       "796   seem   151.611749   325.385210   Topic3  -5.4120   0.4702\n",
       "\n",
       "[209 rows x 6 columns], token_table=      Topic      Freq   Term\n",
       "term                        \n",
       "0         1  0.999901     3d\n",
       "21        1  0.042212    ago\n",
       "21        3  0.960319    ago\n",
       "26        1  0.099146  allen\n",
       "26        3  0.892318  allen\n",
       "...     ...       ...    ...\n",
       "989       2  0.122135   work\n",
       "989       3  0.471775   work\n",
       "996       1  0.186561   year\n",
       "996       2  0.006825   year\n",
       "996       3  0.805399   year\n",
       "\n",
       "[319 rows x 3 columns], R=30, lambda_step=0.01, plot_opts={'xlab': 'PC1', 'ylab': 'PC2'}, topic_order=[1, 2, 3])"
      ]
     },
     "execution_count": 22,
     "metadata": {},
     "output_type": "execute_result"
    }
   ],
   "source": [
    "#run the visualization [mds is a function to use for visualizing the \"distance\" between topics]\n",
    "pyLDAvis.sklearn.prepare(lda_news_3_topics, bow_news_corpus, bow_vectorizer_news, mds='tsne')"
   ]
  },
  {
   "cell_type": "markdown",
   "metadata": {},
   "source": [
    "Discussion: "
   ]
  },
  {
   "cell_type": "markdown",
   "metadata": {},
   "source": []
  },
  {
   "cell_type": "markdown",
   "metadata": {},
   "source": [
    "**Answer 2.3:**"
   ]
  },
  {
   "cell_type": "markdown",
   "metadata": {},
   "source": [
    "computer and space are grouped together"
   ]
  },
  {
   "cell_type": "markdown",
   "metadata": {},
   "source": []
  },
  {
   "cell_type": "markdown",
   "metadata": {},
   "source": [
    "### How To Find Dominant Topic in a Document\n",
    "\n",
    "Each document typically contains several topics. One of the topics is **dominant**, i.e. it is the largest topic in the document. That topic gives you an answer to the question: **What is this document about?** In other words, the document's dominant topic **summarizes** the document. \n",
    "\n",
    "Let's assign a dominant topic to **each document** in our corpus. Weights in a word vector for a topic provide a measure of association for the word with the topic. If you sum weights for a particular topic across all words in a document, you'll get the weight of that topic in the document.\n",
    "\n",
    "The attribute **.transform** to our function **lda_news** computes the weights of each topic in documents: "
   ]
  },
  {
   "cell_type": "code",
   "execution_count": 26,
   "metadata": {},
   "outputs": [],
   "source": [
    "lda_news_topic_weights = lda_news.transform(bow_news_corpus)"
   ]
  },
  {
   "cell_type": "markdown",
   "metadata": {},
   "source": [
    "Let's convert lda_news_topic_weights into a nice-looking dataframe and have a look at the computed topic weights in documents:"
   ]
  },
  {
   "cell_type": "code",
   "execution_count": 27,
   "metadata": {},
   "outputs": [
    {
     "data": {
      "text/html": [
       "<div>\n",
       "<style scoped>\n",
       "    .dataframe tbody tr th:only-of-type {\n",
       "        vertical-align: middle;\n",
       "    }\n",
       "\n",
       "    .dataframe tbody tr th {\n",
       "        vertical-align: top;\n",
       "    }\n",
       "\n",
       "    .dataframe thead th {\n",
       "        text-align: right;\n",
       "    }\n",
       "</style>\n",
       "<table border=\"1\" class=\"dataframe\">\n",
       "  <thead>\n",
       "    <tr style=\"text-align: right;\">\n",
       "      <th></th>\n",
       "      <th>Topic_0</th>\n",
       "      <th>Topic_1</th>\n",
       "      <th>Topic_2</th>\n",
       "      <th>Topic_3</th>\n",
       "    </tr>\n",
       "  </thead>\n",
       "  <tbody>\n",
       "    <tr>\n",
       "      <th>Doc_0</th>\n",
       "      <td>0.0005</td>\n",
       "      <td>0.9986</td>\n",
       "      <td>0.0004</td>\n",
       "      <td>0.0005</td>\n",
       "    </tr>\n",
       "    <tr>\n",
       "      <th>Doc_1</th>\n",
       "      <td>0.5664</td>\n",
       "      <td>0.0026</td>\n",
       "      <td>0.4284</td>\n",
       "      <td>0.0026</td>\n",
       "    </tr>\n",
       "    <tr>\n",
       "      <th>Doc_2</th>\n",
       "      <td>0.0110</td>\n",
       "      <td>0.9678</td>\n",
       "      <td>0.0107</td>\n",
       "      <td>0.0106</td>\n",
       "    </tr>\n",
       "    <tr>\n",
       "      <th>Doc_3</th>\n",
       "      <td>0.0107</td>\n",
       "      <td>0.0108</td>\n",
       "      <td>0.7662</td>\n",
       "      <td>0.2124</td>\n",
       "    </tr>\n",
       "    <tr>\n",
       "      <th>Doc_4</th>\n",
       "      <td>0.0439</td>\n",
       "      <td>0.0417</td>\n",
       "      <td>0.8718</td>\n",
       "      <td>0.0426</td>\n",
       "    </tr>\n",
       "  </tbody>\n",
       "</table>\n",
       "</div>"
      ],
      "text/plain": [
       "       Topic_0  Topic_1  Topic_2  Topic_3\n",
       "Doc_0   0.0005   0.9986   0.0004   0.0005\n",
       "Doc_1   0.5664   0.0026   0.4284   0.0026\n",
       "Doc_2   0.0110   0.9678   0.0107   0.0106\n",
       "Doc_3   0.0107   0.0108   0.7662   0.2124\n",
       "Doc_4   0.0439   0.0417   0.8718   0.0426"
      ]
     },
     "execution_count": 27,
     "metadata": {},
     "output_type": "execute_result"
    }
   ],
   "source": [
    "#array of document \"names\" and topic \"names\" (\"names\" are just indecies)\n",
    "doc_names = [\"Doc_\" + str(i) for i in range(len(normalized_corpus_news))]\n",
    "topic_names = [\"Topic_\" + str(i) for i in range(4)]\n",
    "\n",
    "#convert to dataframe\n",
    "df_document_topic = pd.DataFrame(np.round(lda_news_topic_weights, 4), columns=topic_names, index=doc_names)\n",
    "df_document_topic.head(5)"
   ]
  },
  {
   "cell_type": "markdown",
   "metadata": {},
   "source": [
    "You can see that in document Doc_0 the **dominant topic** is Topic_2 as it has the weight of 0.9986. The weights across the 4 topics sum up to 1. Let's add a column that shows dominant topic for each document:"
   ]
  },
  {
   "cell_type": "code",
   "execution_count": 28,
   "metadata": {},
   "outputs": [
    {
     "data": {
      "text/html": [
       "<div>\n",
       "<style scoped>\n",
       "    .dataframe tbody tr th:only-of-type {\n",
       "        vertical-align: middle;\n",
       "    }\n",
       "\n",
       "    .dataframe tbody tr th {\n",
       "        vertical-align: top;\n",
       "    }\n",
       "\n",
       "    .dataframe thead th {\n",
       "        text-align: right;\n",
       "    }\n",
       "</style>\n",
       "<table border=\"1\" class=\"dataframe\">\n",
       "  <thead>\n",
       "    <tr style=\"text-align: right;\">\n",
       "      <th></th>\n",
       "      <th>Topic_0</th>\n",
       "      <th>Topic_1</th>\n",
       "      <th>Topic_2</th>\n",
       "      <th>Topic_3</th>\n",
       "      <th>dominant_topic</th>\n",
       "    </tr>\n",
       "  </thead>\n",
       "  <tbody>\n",
       "    <tr>\n",
       "      <th>Doc_0</th>\n",
       "      <td>0.0005</td>\n",
       "      <td>0.9986</td>\n",
       "      <td>0.0004</td>\n",
       "      <td>0.0005</td>\n",
       "      <td>1</td>\n",
       "    </tr>\n",
       "    <tr>\n",
       "      <th>Doc_1</th>\n",
       "      <td>0.5664</td>\n",
       "      <td>0.0026</td>\n",
       "      <td>0.4284</td>\n",
       "      <td>0.0026</td>\n",
       "      <td>0</td>\n",
       "    </tr>\n",
       "    <tr>\n",
       "      <th>Doc_2</th>\n",
       "      <td>0.0110</td>\n",
       "      <td>0.9678</td>\n",
       "      <td>0.0107</td>\n",
       "      <td>0.0106</td>\n",
       "      <td>1</td>\n",
       "    </tr>\n",
       "    <tr>\n",
       "      <th>Doc_3</th>\n",
       "      <td>0.0107</td>\n",
       "      <td>0.0108</td>\n",
       "      <td>0.7662</td>\n",
       "      <td>0.2124</td>\n",
       "      <td>2</td>\n",
       "    </tr>\n",
       "    <tr>\n",
       "      <th>Doc_4</th>\n",
       "      <td>0.0439</td>\n",
       "      <td>0.0417</td>\n",
       "      <td>0.8718</td>\n",
       "      <td>0.0426</td>\n",
       "      <td>2</td>\n",
       "    </tr>\n",
       "  </tbody>\n",
       "</table>\n",
       "</div>"
      ],
      "text/plain": [
       "       Topic_0  Topic_1  Topic_2  Topic_3  dominant_topic\n",
       "Doc_0   0.0005   0.9986   0.0004   0.0005               1\n",
       "Doc_1   0.5664   0.0026   0.4284   0.0026               0\n",
       "Doc_2   0.0110   0.9678   0.0107   0.0106               1\n",
       "Doc_3   0.0107   0.0108   0.7662   0.2124               2\n",
       "Doc_4   0.0439   0.0417   0.8718   0.0426               2"
      ]
     },
     "execution_count": 28,
     "metadata": {},
     "output_type": "execute_result"
    }
   ],
   "source": [
    "#vector of indecies for columns with the highest value by each row in df_document_topic\n",
    "dominant_topic = np.argmax(df_document_topic.values, axis=1)\n",
    "\n",
    "#add dominant_topic as a column to df_document_topic\n",
    "df_document_topic['dominant_topic'] = dominant_topic\n",
    "df_document_topic.head(5)"
   ]
  },
  {
   "cell_type": "markdown",
   "metadata": {},
   "source": [
    "### Topic Model Evaluation: Log-likelihood, Perplexity and Coherence Scores\n",
    "\n",
    "Log-likelihood, Perplexity and Coherence Score are **measures of performance** for a topic model. They are used for comparing and discriminating between topic models estimated on the same data. Log-likelihood, perplexity and coherence scores **do not have** a baseline or a threshold values and therefore are useful only for comparing models. \n",
    "\n",
    "How do you specify different models? You can set **different number of topics** and also play with the **parameters of the Dirichlet distributions**. \n",
    "\n",
    "#### Coherence Score\n",
    "\n",
    "We will use a function **CoherenceModel()** from the **gensim** module (you can also explore that package as it can be used to estimate an LDA model). The sklearn module does not have the functionality to compute the coherence score. Let's install the gensim package and the functions needed:"
   ]
  },
  {
   "cell_type": "code",
   "execution_count": 29,
   "metadata": {},
   "outputs": [
    {
     "name": "stderr",
     "output_type": "stream",
     "text": [
      "WARNING: Value for scheme.headers does not match. Please report this to <https://github.com/pypa/pip/issues/9617>\n",
      "distutils: c:\\users\\willi\\appdata\\local\\programs\\python\\python38\\Include\\UNKNOWN\n",
      "sysconfig: c:\\users\\willi\\appdata\\local\\programs\\python\\python38\\Include\n",
      "WARNING: Additional context:\n",
      "user = False\n",
      "home = None\n",
      "root = None\n",
      "prefix = None\n",
      "WARNING: Value for scheme.headers does not match. Please report this to <https://github.com/pypa/pip/issues/9617>\n",
      "distutils: c:\\users\\willi\\appdata\\local\\programs\\python\\python38\\Include\\UNKNOWN\n",
      "sysconfig: c:\\users\\willi\\appdata\\local\\programs\\python\\python38\\Include\n",
      "WARNING: Additional context:\n",
      "user = False\n",
      "home = None\n",
      "root = None\n",
      "prefix = None\n",
      "WARNING: You are using pip version 21.1; however, version 21.3.1 is available.\n",
      "You should consider upgrading via the 'c:\\users\\willi\\appdata\\local\\programs\\python\\python38\\python.exe -m pip install --upgrade pip' command.\n"
     ]
    },
    {
     "name": "stdout",
     "output_type": "stream",
     "text": [
      "Requirement already satisfied: gensim in c:\\users\\willi\\appdata\\local\\programs\\python\\python38\\lib\\site-packages (4.1.2)\n",
      "Requirement already satisfied: Cython==0.29.23 in c:\\users\\willi\\appdata\\local\\programs\\python\\python38\\lib\\site-packages (from gensim) (0.29.23)\n",
      "Requirement already satisfied: numpy>=1.17.0 in c:\\users\\willi\\appdata\\local\\programs\\python\\python38\\lib\\site-packages (from gensim) (1.20.2)\n",
      "Requirement already satisfied: scipy>=0.18.1 in c:\\users\\willi\\appdata\\local\\programs\\python\\python38\\lib\\site-packages (from gensim) (1.6.3)\n",
      "Requirement already satisfied: smart-open>=1.8.1 in c:\\users\\willi\\appdata\\local\\programs\\python\\python38\\lib\\site-packages (from gensim) (5.2.1)\n"
     ]
    }
   ],
   "source": [
    "!{sys.executable} -m pip install gensim\n",
    "import gensim\n",
    "\n",
    "from gensim.models.coherencemodel import CoherenceModel\n",
    "from gensim.corpora.dictionary import Dictionary"
   ]
  },
  {
   "cell_type": "markdown",
   "metadata": {},
   "source": [
    "The function CoherenceModel() needs as **inputs**:\n",
    "\n",
    "**1. Dictionary of the corpus**<br>\n",
    "**2. Corpus with each document represented as Bag-of-Words**<br>\n",
    "**3. An array of top words for each topic: we'll have top 20 words for each topic** \n",
    "  \n",
    "We will now create those objects:"
   ]
  },
  {
   "cell_type": "code",
   "execution_count": 30,
   "metadata": {},
   "outputs": [],
   "source": [
    "#tokenizing the corpus\n",
    "news_corpus_tokenized = [tokenize_text(normalized_corpus_news[doc_id]) for doc_id in range(len(normalized_corpus_news))]\n",
    "\n",
    "#Dictionary of the corpus:\n",
    "news_dictionary = Dictionary(news_corpus_tokenized)\n",
    "\n",
    "#Bag-of-words representation for each document of the corpus:\n",
    "news_corpus_bow = [news_dictionary.doc2bow(doc) for doc in news_corpus_tokenized]\n",
    "\n",
    "#top 20 words for each topic (using the function defined in session prep)\n",
    "topic_topwords = get_topic_words(vectorizer = bow_vectorizer_news, lda_model = lda_news, n_words=20)"
   ]
  },
  {
   "cell_type": "markdown",
   "metadata": {},
   "source": [
    "Now let's compute **the coherence score for the model overall**. We use one of the coherence metrics \"u-mass\" which measures semantic similarity of words in a topic, but there are other metrics as well.\n",
    "\n",
    "*Note: You can check out different coherence metrics here if you are interested: https://dl.acm.org/doi/abs/10.1145/2684822.2685324*"
   ]
  },
  {
   "cell_type": "code",
   "execution_count": 32,
   "metadata": {},
   "outputs": [
    {
     "name": "stdout",
     "output_type": "stream",
     "text": [
      "Coherence score for the model:  -1.4393\n"
     ]
    }
   ],
   "source": [
    "cm = CoherenceModel(topics=topic_topwords, \n",
    "                    corpus = news_corpus_bow , \n",
    "                    dictionary = news_dictionary, coherence='u_mass')\n",
    "print(\"Coherence score for the model: \", np.round(cm.get_coherence(), 4))  # get coherence value"
   ]
  },
  {
   "cell_type": "markdown",
   "metadata": {},
   "source": [
    "You can also see **coherence scores by topic**:"
   ]
  },
  {
   "cell_type": "code",
   "execution_count": 33,
   "metadata": {},
   "outputs": [
    {
     "name": "stdout",
     "output_type": "stream",
     "text": [
      "Coherence score by topic (higher values are better):  [-1.3025 -1.344  -1.7904 -1.3202]\n"
     ]
    }
   ],
   "source": [
    "print(\"Coherence score by topic (higher values are better): \", np.round(cm.get_coherence_per_topic(),4))"
   ]
  },
  {
   "cell_type": "markdown",
   "metadata": {},
   "source": [
    "#### Log-Likelihood Score\n",
    "\n",
    "To compute the log-likelihood score we use the **.score** attribute of our defined and fitted LDA function:"
   ]
  },
  {
   "cell_type": "code",
   "execution_count": 34,
   "metadata": {},
   "outputs": [
    {
     "name": "stdout",
     "output_type": "stream",
     "text": [
      "Log-Likelihood (higher values are better):  -740894.0975086405\n"
     ]
    }
   ],
   "source": [
    "print(\"Log-Likelihood (higher values are better): \", lda_news.score(bow_news_corpus))"
   ]
  },
  {
   "cell_type": "markdown",
   "metadata": {},
   "source": [
    "#### Perplexity Score\n",
    "\n",
    "To compute the Perplexity score we use the **.perplexity** attribute of our defined and fitted LDA function:"
   ]
  },
  {
   "cell_type": "code",
   "execution_count": 35,
   "metadata": {},
   "outputs": [
    {
     "name": "stdout",
     "output_type": "stream",
     "text": [
      "Perplexity (lower values are better):  572.5000568682434\n"
     ]
    }
   ],
   "source": [
    "print(\"Perplexity (lower values are better): \", lda_news.perplexity(bow_news_corpus))"
   ]
  },
  {
   "cell_type": "markdown",
   "metadata": {},
   "source": [
    "### **<font color=green>EXERCISE 3</font>**\n",
    "\n",
    "**<font color=green>Compare the coherence score, perplexity score and the log-likelihood for models with 2, 3, and 4 topics with your human-judgment-based evaluation of those models. What do you find? </font>**\n",
    "\n",
    "**<font color=green>What you need to do:</font>**\n",
    "\n",
    "**<font color=green>3.1. For model with 4 topics - All code work is done: The model and evaluation metrics are already computed above. You just need to look up the values for the coherence, perplexity and log-likelihood for the model with 4 topics above and discuss what you observe. You might be interested in looking at coherence score by topic as well;</font>**\n",
    "\n",
    "**<font color=green>3.2. For model with 3 topics - The model is computed in Exercise 2. You need to compute the perplexity, log-likelihood and coherence scores for the model with 3 topics (the lines for the coherence score are provided below) and dicuss your results;</font>**\n",
    "\n",
    "**<font color=green>3.3. For model with 2 topics - You need to fit the model with 2 topics and compute all 3 evaluation metrics; dicuss your results.</font>**"
   ]
  },
  {
   "cell_type": "markdown",
   "metadata": {},
   "source": [
    "**Answer 3.1:**"
   ]
  },
  {
   "cell_type": "markdown",
   "metadata": {},
   "source": [
    "Discussion: \n",
    "* Coherence score for the model:  -1.4393; Log-Likelihood (higher values are better):  -740894.0975086405; Perplexity (lower values are better):  572.5000568682434\n",
    "* The performance is not good. Coherence score and Log-Likelihood are better with high value and Log-Likelihood low value better.\n",
    "It have negative for former but positive for later.\n"
   ]
  },
  {
   "cell_type": "markdown",
   "metadata": {},
   "source": []
  },
  {
   "cell_type": "markdown",
   "metadata": {},
   "source": [
    "**Answer 3.2:**"
   ]
  },
  {
   "cell_type": "markdown",
   "metadata": {},
   "source": [
    "Code (complete the lines):"
   ]
  },
  {
   "cell_type": "code",
   "execution_count": 36,
   "metadata": {},
   "outputs": [
    {
     "name": "stdout",
     "output_type": "stream",
     "text": [
      "Log-Likelihood (higher values are better):  -748977.2254952707\n",
      "Perplexity (lower values are better):  613.5680915475423\n",
      "Coherence score for the model: (higher values are better) -1.54\n"
     ]
    }
   ],
   "source": [
    "#Log-Likelihood (add code):\n",
    "print(\"Log-Likelihood (higher values are better): \", lda_news_3_topics.score(bow_news_corpus))\n",
    "\n",
    "#Perplexity score (add code):\n",
    "print(\"Perplexity (lower values are better): \", lda_news_3_topics.perplexity(bow_news_corpus))\n",
    "\n",
    "#Coherence score for 3 topics:\n",
    "topic_topwords_3_topics = get_topic_words(vectorizer = bow_vectorizer_news, lda_model = lda_news_3_topics, n_words=20)\n",
    "cm_3_topics = CoherenceModel(topics=topic_topwords_3_topics, \n",
    "                             corpus = news_corpus_bow, \n",
    "                             dictionary = news_dictionary, coherence='u_mass')\n",
    "\n",
    "#Overall coherence score for the model:\n",
    "print(\"Coherence score for the model: (higher values are better)\", np.round(cm_3_topics.get_coherence(), 3))  "
   ]
  },
  {
   "cell_type": "markdown",
   "metadata": {},
   "source": [
    "Discussion:\n",
    "The performance is worse. log-like higher and perplexity lower; coherence is lower."
   ]
  },
  {
   "cell_type": "markdown",
   "metadata": {},
   "source": []
  },
  {
   "cell_type": "markdown",
   "metadata": {},
   "source": [
    "**Answer 3.3:**"
   ]
  },
  {
   "cell_type": "markdown",
   "metadata": {},
   "source": [
    "Code:"
   ]
  },
  {
   "cell_type": "code",
   "execution_count": 38,
   "metadata": {},
   "outputs": [
    {
     "name": "stdout",
     "output_type": "stream",
     "text": [
      "Log-Likelihood (higher values are better):  -751913.2430523264\n",
      "Perplexity (lower values are better):  629.2037293689478\n",
      "Coherence score for the model: (higher values are better) -1.51\n"
     ]
    }
   ],
   "source": [
    "#Fit LDA with 2 topics:\n",
    "lda_news_2_topics = LatentDirichletAllocation(n_components=2, max_iter=100,\n",
    "                                     doc_topic_prior = 0.25,\n",
    "                                     topic_word_prior = 0.25).fit(bow_news_corpus)\n",
    "\n",
    "\n",
    "#Log-Likelihood:\n",
    "print(\"Log-Likelihood (higher values are better): \", lda_news_2_topics.score(bow_news_corpus))\n",
    "\n",
    "#Perplexity score:\n",
    "print(\"Perplexity (lower values are better): \", lda_news_2_topics.perplexity(bow_news_corpus))\n",
    "\n",
    "#Coherence score for 3 topics:\n",
    "topic_topwords_2_topics = get_topic_words(vectorizer = bow_vectorizer_news, lda_model = lda_news_2_topics, n_words=20)\n",
    "cm_2_topics = CoherenceModel(topics=topic_topwords_2_topics, \n",
    "                             corpus = news_corpus_bow, \n",
    "                             dictionary = news_dictionary, coherence='u_mass')\n",
    "\n",
    "#Overall coherence score for the model:\n",
    "\n",
    "print(\"Coherence score for the model: (higher values are better)\", np.round(cm_2_topics.get_coherence(), 2))  "
   ]
  },
  {
   "cell_type": "markdown",
   "metadata": {},
   "source": [
    "Discussion:\n",
    "*log-like lower, perplexity higher, coherence lower than 3-topic"
   ]
  },
  {
   "cell_type": "markdown",
   "metadata": {},
   "source": []
  },
  {
   "cell_type": "markdown",
   "metadata": {},
   "source": [
    "**Overall discussion for EXERCISE 3**:\n",
    "* 4-topic did better job than 3 topic, 3 topic better than 2 topic. It is consistant with the truth we know that:\n",
    "* The newspaper blog posts have 4 topics: atheism, religion, computer graphics, and space science\n",
    "* It make sense that 4 topic has the best result."
   ]
  },
  {
   "cell_type": "markdown",
   "metadata": {},
   "source": []
  },
  {
   "cell_type": "markdown",
   "metadata": {},
   "source": [
    "<br>**NOTE:** Generally, you can write a simple script that selects the best topic model **automatically** based on a criterion for \"best model\" (log-likelihood, perplexity, or coherence score). The script can vary both parameters of the Dirichlet distributions and the number of topics, or just the number of topics."
   ]
  }
 ],
 "metadata": {
  "kernelspec": {
   "display_name": "Python 3",
   "language": "python",
   "name": "python3"
  },
  "language_info": {
   "codemirror_mode": {
    "name": "ipython",
    "version": 3
   },
   "file_extension": ".py",
   "mimetype": "text/x-python",
   "name": "python",
   "nbconvert_exporter": "python",
   "pygments_lexer": "ipython3",
   "version": "3.8.6rc1"
  }
 },
 "nbformat": 4,
 "nbformat_minor": 4
}
