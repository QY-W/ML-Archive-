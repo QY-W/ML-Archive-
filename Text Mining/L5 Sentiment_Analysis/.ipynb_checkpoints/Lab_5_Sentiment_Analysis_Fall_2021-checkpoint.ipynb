{
 "cells": [
  {
   "cell_type": "markdown",
   "metadata": {},
   "source": [
    "## LAB 5: SENTIMENT ANALYSIS \n",
    "\n",
    "**<font color=green>INSTRUCTIONS:</font>** <br> <br>\n",
    "    **<font color=green>1. Look for EXERCISES and QUESTIONS in this script. </font>** <br> <br>\n",
    "    **<font color=green>2. Each student INDIVIDUALLY uploads this script with their answers embedded to Canvas.</font>** <br>\n",
    "\n",
    "### Objectives\n",
    "\n",
    "1. Learn how to perform lexicon-based (unsupervised machine learning) sentiment analysis.\n",
    "2. Fine-tune a lexicon-based sentiment analyzer.\n",
    "2. Train your own sentiment classifier."
   ]
  },
  {
   "cell_type": "markdown",
   "metadata": {},
   "source": [
    "### Session Prep"
   ]
  },
  {
   "cell_type": "code",
   "execution_count": 1,
   "metadata": {},
   "outputs": [
    {
     "name": "stdout",
     "output_type": "stream",
     "text": [
      "Requirement already satisfied: numpy in c:\\users\\willi\\appdata\\local\\programs\\python\\python38\\lib\\site-packages (1.20.2)\n"
     ]
    },
    {
     "name": "stderr",
     "output_type": "stream",
     "text": [
      "WARNING: Value for scheme.headers does not match. Please report this to <https://github.com/pypa/pip/issues/9617>\n",
      "distutils: c:\\users\\willi\\appdata\\local\\programs\\python\\python38\\Include\\UNKNOWN\n",
      "sysconfig: c:\\users\\willi\\appdata\\local\\programs\\python\\python38\\Include\n",
      "WARNING: Additional context:\n",
      "user = False\n",
      "home = None\n",
      "root = None\n",
      "prefix = None\n",
      "WARNING: Value for scheme.headers does not match. Please report this to <https://github.com/pypa/pip/issues/9617>\n",
      "distutils: c:\\users\\willi\\appdata\\local\\programs\\python\\python38\\Include\\UNKNOWN\n",
      "sysconfig: c:\\users\\willi\\appdata\\local\\programs\\python\\python38\\Include\n",
      "WARNING: Additional context:\n",
      "user = False\n",
      "home = None\n",
      "root = None\n",
      "prefix = None\n",
      "WARNING: You are using pip version 21.1; however, version 21.3.1 is available.\n",
      "You should consider upgrading via the 'c:\\users\\willi\\appdata\\local\\programs\\python\\python38\\python.exe -m pip install --upgrade pip' command.\n"
     ]
    },
    {
     "name": "stdout",
     "output_type": "stream",
     "text": [
      "Requirement already satisfied: pandas in c:\\users\\willi\\appdata\\local\\programs\\python\\python38\\lib\\site-packages (1.2.4)\n",
      "Requirement already satisfied: python-dateutil>=2.7.3 in c:\\users\\willi\\appdata\\local\\programs\\python\\python38\\lib\\site-packages (from pandas) (2.8.1)\n",
      "Requirement already satisfied: numpy>=1.16.5 in c:\\users\\willi\\appdata\\local\\programs\\python\\python38\\lib\\site-packages (from pandas) (1.20.2)\n",
      "Requirement already satisfied: pytz>=2017.3 in c:\\users\\willi\\appdata\\local\\programs\\python\\python38\\lib\\site-packages (from pandas) (2021.1)\n",
      "Requirement already satisfied: six>=1.5 in c:\\users\\willi\\appdata\\local\\programs\\python\\python38\\lib\\site-packages (from python-dateutil>=2.7.3->pandas) (1.15.0)\n"
     ]
    },
    {
     "name": "stderr",
     "output_type": "stream",
     "text": [
      "WARNING: Value for scheme.headers does not match. Please report this to <https://github.com/pypa/pip/issues/9617>\n",
      "distutils: c:\\users\\willi\\appdata\\local\\programs\\python\\python38\\Include\\UNKNOWN\n",
      "sysconfig: c:\\users\\willi\\appdata\\local\\programs\\python\\python38\\Include\n",
      "WARNING: Additional context:\n",
      "user = False\n",
      "home = None\n",
      "root = None\n",
      "prefix = None\n",
      "WARNING: Value for scheme.headers does not match. Please report this to <https://github.com/pypa/pip/issues/9617>\n",
      "distutils: c:\\users\\willi\\appdata\\local\\programs\\python\\python38\\Include\\UNKNOWN\n",
      "sysconfig: c:\\users\\willi\\appdata\\local\\programs\\python\\python38\\Include\n",
      "WARNING: Additional context:\n",
      "user = False\n",
      "home = None\n",
      "root = None\n",
      "prefix = None\n",
      "WARNING: You are using pip version 21.1; however, version 21.3.1 is available.\n",
      "You should consider upgrading via the 'c:\\users\\willi\\appdata\\local\\programs\\python\\python38\\python.exe -m pip install --upgrade pip' command.\n"
     ]
    },
    {
     "name": "stdout",
     "output_type": "stream",
     "text": [
      "Requirement already satisfied: nltk in c:\\users\\willi\\appdata\\local\\programs\\python\\python38\\lib\\site-packages (3.6.5)\n",
      "Requirement already satisfied: joblib in c:\\users\\willi\\appdata\\local\\programs\\python\\python38\\lib\\site-packages (from nltk) (1.1.0)\n",
      "Requirement already satisfied: regex>=2021.8.3 in c:\\users\\willi\\appdata\\local\\programs\\python\\python38\\lib\\site-packages (from nltk) (2021.11.2)\n",
      "Requirement already satisfied: click in c:\\users\\willi\\appdata\\local\\programs\\python\\python38\\lib\\site-packages (from nltk) (8.0.1)\n",
      "Requirement already satisfied: tqdm in c:\\users\\willi\\appdata\\local\\programs\\python\\python38\\lib\\site-packages (from nltk) (4.62.2)\n",
      "Requirement already satisfied: colorama in c:\\users\\willi\\appdata\\local\\programs\\python\\python38\\lib\\site-packages (from click->nltk) (0.4.4)\n"
     ]
    },
    {
     "name": "stderr",
     "output_type": "stream",
     "text": [
      "WARNING: Value for scheme.headers does not match. Please report this to <https://github.com/pypa/pip/issues/9617>\n",
      "distutils: c:\\users\\willi\\appdata\\local\\programs\\python\\python38\\Include\\UNKNOWN\n",
      "sysconfig: c:\\users\\willi\\appdata\\local\\programs\\python\\python38\\Include\n",
      "WARNING: Additional context:\n",
      "user = False\n",
      "home = None\n",
      "root = None\n",
      "prefix = None\n",
      "WARNING: Value for scheme.headers does not match. Please report this to <https://github.com/pypa/pip/issues/9617>\n",
      "distutils: c:\\users\\willi\\appdata\\local\\programs\\python\\python38\\Include\\UNKNOWN\n",
      "sysconfig: c:\\users\\willi\\appdata\\local\\programs\\python\\python38\\Include\n",
      "WARNING: Additional context:\n",
      "user = False\n",
      "home = None\n",
      "root = None\n",
      "prefix = None\n",
      "WARNING: You are using pip version 21.1; however, version 21.3.1 is available.\n",
      "You should consider upgrading via the 'c:\\users\\willi\\appdata\\local\\programs\\python\\python38\\python.exe -m pip install --upgrade pip' command.\n"
     ]
    },
    {
     "name": "stdout",
     "output_type": "stream",
     "text": [
      "Requirement already satisfied: html.parser in c:\\users\\willi\\appdata\\local\\programs\\python\\python38\\lib\\site-packages (0.2)\n",
      "Requirement already satisfied: ply in c:\\users\\willi\\appdata\\local\\programs\\python\\python38\\lib\\site-packages (from html.parser) (3.11)\n"
     ]
    },
    {
     "name": "stderr",
     "output_type": "stream",
     "text": [
      "WARNING: Value for scheme.headers does not match. Please report this to <https://github.com/pypa/pip/issues/9617>\n",
      "distutils: c:\\users\\willi\\appdata\\local\\programs\\python\\python38\\Include\\UNKNOWN\n",
      "sysconfig: c:\\users\\willi\\appdata\\local\\programs\\python\\python38\\Include\n",
      "WARNING: Additional context:\n",
      "user = False\n",
      "home = None\n",
      "root = None\n",
      "prefix = None\n",
      "WARNING: Value for scheme.headers does not match. Please report this to <https://github.com/pypa/pip/issues/9617>\n",
      "distutils: c:\\users\\willi\\appdata\\local\\programs\\python\\python38\\Include\\UNKNOWN\n",
      "sysconfig: c:\\users\\willi\\appdata\\local\\programs\\python\\python38\\Include\n",
      "WARNING: Additional context:\n",
      "user = False\n",
      "home = None\n",
      "root = None\n",
      "prefix = None\n",
      "WARNING: You are using pip version 21.1; however, version 21.3.1 is available.\n",
      "You should consider upgrading via the 'c:\\users\\willi\\appdata\\local\\programs\\python\\python38\\python.exe -m pip install --upgrade pip' command.\n"
     ]
    },
    {
     "name": "stdout",
     "output_type": "stream",
     "text": [
      "Requirement already satisfied: pattern3 in c:\\users\\willi\\appdata\\local\\programs\\python\\python38\\lib\\site-packages (3.0.0)\n",
      "Requirement already satisfied: beautifulsoup4 in c:\\users\\willi\\appdata\\local\\programs\\python\\python38\\lib\\site-packages (from pattern3) (4.10.0)\n",
      "Requirement already satisfied: cherrypy in c:\\users\\willi\\appdata\\local\\programs\\python\\python38\\lib\\site-packages (from pattern3) (18.6.1)\n",
      "Requirement already satisfied: docx in c:\\users\\willi\\appdata\\local\\programs\\python\\python38\\lib\\site-packages (from pattern3) (0.2.4)\n",
      "Requirement already satisfied: feedparser in c:\\users\\willi\\appdata\\local\\programs\\python\\python38\\lib\\site-packages (from pattern3) (6.0.8)\n",
      "Requirement already satisfied: pdfminer3k in c:\\users\\willi\\appdata\\local\\programs\\python\\python38\\lib\\site-packages (from pattern3) (1.3.4)\n",
      "Requirement already satisfied: simplejson in c:\\users\\willi\\appdata\\local\\programs\\python\\python38\\lib\\site-packages (from pattern3) (3.17.5)\n",
      "Requirement already satisfied: pdfminer.six in c:\\users\\willi\\appdata\\local\\programs\\python\\python38\\lib\\site-packages (from pattern3) (20211012)\n",
      "Requirement already satisfied: soupsieve>1.2 in c:\\users\\willi\\appdata\\local\\programs\\python\\python38\\lib\\site-packages (from beautifulsoup4->pattern3) (2.2.1)\n",
      "Requirement already satisfied: more-itertools in c:\\users\\willi\\appdata\\local\\programs\\python\\python38\\lib\\site-packages (from cherrypy->pattern3) (8.10.0)\n",
      "Requirement already satisfied: cheroot>=8.2.1 in c:\\users\\willi\\appdata\\local\\programs\\python\\python38\\lib\\site-packages (from cherrypy->pattern3) (8.5.2)\n",
      "Requirement already satisfied: pywin32>=227 in c:\\users\\willi\\appdata\\local\\programs\\python\\python38\\lib\\site-packages (from cherrypy->pattern3) (300)\n",
      "Requirement already satisfied: jaraco.collections in c:\\users\\willi\\appdata\\local\\programs\\python\\python38\\lib\\site-packages (from cherrypy->pattern3) (3.4.0)\n",
      "Requirement already satisfied: zc.lockfile in c:\\users\\willi\\appdata\\local\\programs\\python\\python38\\lib\\site-packages (from cherrypy->pattern3) (2.0)\n",
      "Requirement already satisfied: portend>=2.1.1 in c:\\users\\willi\\appdata\\local\\programs\\python\\python38\\lib\\site-packages (from cherrypy->pattern3) (3.0.0)\n",
      "Requirement already satisfied: jaraco.functools in c:\\users\\willi\\appdata\\local\\programs\\python\\python38\\lib\\site-packages (from cheroot>=8.2.1->cherrypy->pattern3) (3.4.0)\n",
      "Requirement already satisfied: six>=1.11.0 in c:\\users\\willi\\appdata\\local\\programs\\python\\python38\\lib\\site-packages (from cheroot>=8.2.1->cherrypy->pattern3) (1.15.0)\n",
      "Requirement already satisfied: tempora>=1.8 in c:\\users\\willi\\appdata\\local\\programs\\python\\python38\\lib\\site-packages (from portend>=2.1.1->cherrypy->pattern3) (4.1.2)\n",
      "Requirement already satisfied: pytz in c:\\users\\willi\\appdata\\local\\programs\\python\\python38\\lib\\site-packages (from tempora>=1.8->portend>=2.1.1->cherrypy->pattern3) (2021.1)\n",
      "Requirement already satisfied: lxml in c:\\users\\willi\\appdata\\local\\programs\\python\\python38\\lib\\site-packages (from docx->pattern3) (4.6.4)\n",
      "Requirement already satisfied: Pillow>=2.0 in c:\\users\\willi\\appdata\\local\\programs\\python\\python38\\lib\\site-packages (from docx->pattern3) (8.3.2)\n",
      "Requirement already satisfied: sgmllib3k in c:\\users\\willi\\appdata\\local\\programs\\python\\python38\\lib\\site-packages (from feedparser->pattern3) (1.0.0)\n",
      "Requirement already satisfied: jaraco.classes in c:\\users\\willi\\appdata\\local\\programs\\python\\python38\\lib\\site-packages (from jaraco.collections->cherrypy->pattern3) (3.2.1)\n",
      "Requirement already satisfied: jaraco.text in c:\\users\\willi\\appdata\\local\\programs\\python\\python38\\lib\\site-packages (from jaraco.collections->cherrypy->pattern3) (3.6.0)\n",
      "Requirement already satisfied: importlib-resources in c:\\users\\willi\\appdata\\local\\programs\\python\\python38\\lib\\site-packages (from jaraco.text->jaraco.collections->cherrypy->pattern3) (5.4.0)\n",
      "Requirement already satisfied: zipp>=3.1.0 in c:\\users\\willi\\appdata\\local\\programs\\python\\python38\\lib\\site-packages (from importlib-resources->jaraco.text->jaraco.collections->cherrypy->pattern3) (3.6.0)\n",
      "Requirement already satisfied: cryptography in c:\\users\\willi\\appdata\\local\\programs\\python\\python38\\lib\\site-packages (from pdfminer.six->pattern3) (35.0.0)\n",
      "Requirement already satisfied: chardet in c:\\users\\willi\\appdata\\local\\programs\\python\\python38\\lib\\site-packages (from pdfminer.six->pattern3) (4.0.0)\n",
      "Requirement already satisfied: cffi>=1.12 in c:\\users\\willi\\appdata\\local\\programs\\python\\python38\\lib\\site-packages (from cryptography->pdfminer.six->pattern3) (1.14.5)\n",
      "Requirement already satisfied: pycparser in c:\\users\\willi\\appdata\\local\\programs\\python\\python38\\lib\\site-packages (from cffi>=1.12->cryptography->pdfminer.six->pattern3) (2.20)\n",
      "Requirement already satisfied: ply in c:\\users\\willi\\appdata\\local\\programs\\python\\python38\\lib\\site-packages (from pdfminer3k->pattern3) (3.11)\n",
      "Requirement already satisfied: setuptools in c:\\users\\willi\\appdata\\local\\programs\\python\\python38\\lib\\site-packages (from zc.lockfile->cherrypy->pattern3) (49.2.1)\n"
     ]
    },
    {
     "name": "stderr",
     "output_type": "stream",
     "text": [
      "WARNING: Value for scheme.headers does not match. Please report this to <https://github.com/pypa/pip/issues/9617>\n",
      "distutils: c:\\users\\willi\\appdata\\local\\programs\\python\\python38\\Include\\UNKNOWN\n",
      "sysconfig: c:\\users\\willi\\appdata\\local\\programs\\python\\python38\\Include\n",
      "WARNING: Additional context:\n",
      "user = False\n",
      "home = None\n",
      "root = None\n",
      "prefix = None\n",
      "WARNING: Value for scheme.headers does not match. Please report this to <https://github.com/pypa/pip/issues/9617>\n",
      "distutils: c:\\users\\willi\\appdata\\local\\programs\\python\\python38\\Include\\UNKNOWN\n",
      "sysconfig: c:\\users\\willi\\appdata\\local\\programs\\python\\python38\\Include\n",
      "WARNING: Additional context:\n",
      "user = False\n",
      "home = None\n",
      "root = None\n",
      "prefix = None\n",
      "WARNING: You are using pip version 21.1; however, version 21.3.1 is available.\n",
      "You should consider upgrading via the 'c:\\users\\willi\\appdata\\local\\programs\\python\\python38\\python.exe -m pip install --upgrade pip' command.\n"
     ]
    },
    {
     "name": "stdout",
     "output_type": "stream",
     "text": [
      "Requirement already satisfied: pyLDAvis in c:\\users\\willi\\appdata\\local\\programs\\python\\python38\\lib\\site-packages (3.3.1)\n",
      "Requirement already satisfied: pandas>=1.2.0 in c:\\users\\willi\\appdata\\local\\programs\\python\\python38\\lib\\site-packages (from pyLDAvis) (1.2.4)\n",
      "Requirement already satisfied: jinja2 in c:\\users\\willi\\appdata\\local\\programs\\python\\python38\\lib\\site-packages (from pyLDAvis) (2.11.3)\n",
      "Requirement already satisfied: gensim in c:\\users\\willi\\appdata\\local\\programs\\python\\python38\\lib\\site-packages (from pyLDAvis) (4.1.2)\n",
      "Requirement already satisfied: joblib in c:\\users\\willi\\appdata\\local\\programs\\python\\python38\\lib\\site-packages (from pyLDAvis) (1.1.0)\n",
      "Requirement already satisfied: funcy in c:\\users\\willi\\appdata\\local\\programs\\python\\python38\\lib\\site-packages (from pyLDAvis) (1.16)\n",
      "Requirement already satisfied: scipy in c:\\users\\willi\\appdata\\local\\programs\\python\\python38\\lib\\site-packages (from pyLDAvis) (1.6.3)\n",
      "Requirement already satisfied: scikit-learn in c:\\users\\willi\\appdata\\local\\programs\\python\\python38\\lib\\site-packages (from pyLDAvis) (1.0.1)\n",
      "Requirement already satisfied: future in c:\\users\\willi\\appdata\\local\\programs\\python\\python38\\lib\\site-packages (from pyLDAvis) (0.18.2)\n",
      "Requirement already satisfied: numexpr in c:\\users\\willi\\appdata\\local\\programs\\python\\python38\\lib\\site-packages (from pyLDAvis) (2.7.3)\n",
      "Requirement already satisfied: numpy>=1.20.0 in c:\\users\\willi\\appdata\\local\\programs\\python\\python38\\lib\\site-packages (from pyLDAvis) (1.20.2)\n",
      "Requirement already satisfied: sklearn in c:\\users\\willi\\appdata\\local\\programs\\python\\python38\\lib\\site-packages (from pyLDAvis) (0.0)\n",
      "Requirement already satisfied: setuptools in c:\\users\\willi\\appdata\\local\\programs\\python\\python38\\lib\\site-packages (from pyLDAvis) (49.2.1)\n",
      "Requirement already satisfied: pytz>=2017.3 in c:\\users\\willi\\appdata\\local\\programs\\python\\python38\\lib\\site-packages (from pandas>=1.2.0->pyLDAvis) (2021.1)\n",
      "Requirement already satisfied: python-dateutil>=2.7.3 in c:\\users\\willi\\appdata\\local\\programs\\python\\python38\\lib\\site-packages (from pandas>=1.2.0->pyLDAvis) (2.8.1)\n",
      "Requirement already satisfied: six>=1.5 in c:\\users\\willi\\appdata\\local\\programs\\python\\python38\\lib\\site-packages (from python-dateutil>=2.7.3->pandas>=1.2.0->pyLDAvis) (1.15.0)\n",
      "Requirement already satisfied: Cython==0.29.23 in c:\\users\\willi\\appdata\\local\\programs\\python\\python38\\lib\\site-packages (from gensim->pyLDAvis) (0.29.23)\n",
      "Requirement already satisfied: smart-open>=1.8.1 in c:\\users\\willi\\appdata\\local\\programs\\python\\python38\\lib\\site-packages (from gensim->pyLDAvis) (5.2.1)\n",
      "Requirement already satisfied: MarkupSafe>=0.23 in c:\\users\\willi\\appdata\\local\\programs\\python\\python38\\lib\\site-packages (from jinja2->pyLDAvis) (1.1.1)\n",
      "Requirement already satisfied: threadpoolctl>=2.0.0 in c:\\users\\willi\\appdata\\local\\programs\\python\\python38\\lib\\site-packages (from scikit-learn->pyLDAvis) (3.0.0)\n"
     ]
    },
    {
     "name": "stderr",
     "output_type": "stream",
     "text": [
      "WARNING: Value for scheme.headers does not match. Please report this to <https://github.com/pypa/pip/issues/9617>\n",
      "distutils: c:\\users\\willi\\appdata\\local\\programs\\python\\python38\\Include\\UNKNOWN\n",
      "sysconfig: c:\\users\\willi\\appdata\\local\\programs\\python\\python38\\Include\n",
      "WARNING: Additional context:\n",
      "user = False\n",
      "home = None\n",
      "root = None\n",
      "prefix = None\n",
      "WARNING: Value for scheme.headers does not match. Please report this to <https://github.com/pypa/pip/issues/9617>\n",
      "distutils: c:\\users\\willi\\appdata\\local\\programs\\python\\python38\\Include\\UNKNOWN\n",
      "sysconfig: c:\\users\\willi\\appdata\\local\\programs\\python\\python38\\Include\n",
      "WARNING: Additional context:\n",
      "user = False\n",
      "home = None\n",
      "root = None\n",
      "prefix = None\n",
      "WARNING: You are using pip version 21.1; however, version 21.3.1 is available.\n",
      "You should consider upgrading via the 'c:\\users\\willi\\appdata\\local\\programs\\python\\python38\\python.exe -m pip install --upgrade pip' command.\n",
      "[nltk_data] Downloading package stopwords to\n",
      "[nltk_data]     C:\\Users\\Willi\\AppData\\Roaming\\nltk_data...\n",
      "[nltk_data]   Package stopwords is already up-to-date!\n",
      "[nltk_data] Downloading package punkt to\n",
      "[nltk_data]     C:\\Users\\Willi\\AppData\\Roaming\\nltk_data...\n",
      "[nltk_data]   Package punkt is already up-to-date!\n",
      "[nltk_data] Downloading package averaged_perceptron_tagger to\n",
      "[nltk_data]     C:\\Users\\Willi\\AppData\\Roaming\\nltk_data...\n",
      "[nltk_data]   Package averaged_perceptron_tagger is already up-to-\n",
      "[nltk_data]       date!\n",
      "[nltk_data] Downloading package wordnet to\n",
      "[nltk_data]     C:\\Users\\Willi\\AppData\\Roaming\\nltk_data...\n",
      "[nltk_data]   Package wordnet is already up-to-date!\n"
     ]
    },
    {
     "name": "stdout",
     "output_type": "stream",
     "text": [
      "Original:   <p>The circus dog in a plissé skirt jumped over Python who wasn't that large, just 3 feet long.</p>\n",
      "Processed:  ['<', 'p', '>', 'The', 'circus', 'dog', 'in', 'a', 'plissé', 'skirt', 'jumped', 'over', 'Python', 'who', 'was', \"n't\", 'that', 'large', ',', 'just', '3', 'feet', 'long.', '<', '/p', '>']\n",
      "Original:   <p>The circus dog in a plissé skirt jumped over Python who wasn't that large, just 3 feet long.</p>\n",
      "Processed:  <p>The circus dog in a plissé skirt jumped over Python who was not that large, just 3 feet long.</p>\n",
      "Original:   <p>The circus dog in a plissé skirt jumped over Python who wasn't that large, just 3 feet long.</p>\n",
      "Processed:  [('<', 'a'), ('p', 'n'), ('>', 'v'), ('the', None), ('circus', 'n'), ('dog', 'n'), ('in', None), ('a', None), ('plissé', 'n'), ('skirt', 'n'), ('jumped', 'v'), ('over', None), ('python', 'n'), ('who', None), ('was', 'v'), (\"n't\", 'r'), ('that', None), ('large', 'a'), (',', None), ('just', 'r'), ('3', None), ('feet', 'n'), ('long.', 'a'), ('<', 'n'), ('/p', 'n'), ('>', 'n')]\n",
      "Original:   <p>The circus dog in a plissé skirt jumped over Python who wasn't that large, just 3 feet long.</p>\n",
      "Processed:  < p > the circus dog in a plissé skirt jump over python who be n't that large , just 3 foot long. < /p >\n",
      "Original:   <p>The circus dog in a plissé skirt jumped over Python who wasn't that large, just 3 feet long.</p>\n",
      "Processed:    p   The circus dog in a plissé skirt jumped over Python who was n t that large   just 3 feet long     p  \n",
      "Original:   <p>The circus dog in a plissé skirt jumped over Python who wasn't that large, just 3 feet long.</p>\n",
      "Processed:  < p > The circus dog plissé skirt jumped Python n't large , 3 feet long. < /p >\n",
      "Original:   <p>The circus dog in a plissé skirt jumped over Python who wasn't that large, just 3 feet long.</p>\n",
      "Processed:  p The circus dog in a plissé skirt jumped over Python who was n't that large just feet long. /p\n",
      "Original:   <p>The circus dog in a plissé skirt jumped over Python who wasn't that large, just 3 feet long.</p>\n",
      "Processed:  The circus dog in a plissé skirt jumped over Python who wasn't that large, just 3 feet long.\n",
      "Original:   <p>The circus dog in a plissé skirt jumped over Python who wasn't that large, just 3 feet long.</p>\n",
      "Processed:  <p>The circus dog in a plisse skirt jumped over Python who wasn't that large, just 3 feet long.</p>\n"
     ]
    }
   ],
   "source": [
    "#packages needed\n",
    "\n",
    "#ignore warnings about future changes in functions as they take too much space\n",
    "import warnings\n",
    "warnings.simplefilter(action='ignore', category=FutureWarning)\n",
    "warnings.filterwarnings(\"ignore\", category=DeprecationWarning)\n",
    "\n",
    "#the module 'sys' allows istalling module from inside Jupyter\n",
    "import sys\n",
    "\n",
    "!{sys.executable} -m pip install numpy\n",
    "import numpy as np \n",
    "\n",
    "!{sys.executable} -m pip install pandas\n",
    "import pandas as pd\n",
    "\n",
    "#Natrual Language ToolKit (NLTK)\n",
    "!{sys.executable} -m pip install nltk\n",
    "import nltk\n",
    "\n",
    "#text normalization function\n",
    "%run ./Text_Normalization_Function.ipynb\n",
    "\n",
    "#ignore warnings about future changes in functions as they take too much space\n",
    "warnings.simplefilter(action='ignore', category=FutureWarning)\n",
    "warnings.filterwarnings(\"ignore\", category=DeprecationWarning)"
   ]
  },
  {
   "cell_type": "markdown",
   "metadata": {},
   "source": [
    "### Dataset\n",
    "\n",
    "We will use movie reviews data. The movie reviews' polarity are labeled by humans into **positive** or **negative**. The data are divided into **training** (1,000 reviews) and **test** datasets (1,000 reviews). \n",
    "\n",
    "The data are stored in two **\"pickled\"** pandas dataframes, one for training data and one for test data. *Pickling* allows you to save a Python data object as a file on your hard drive. After you pickle your object, you can close your python session, restart your computer if you want, and load your object into a Python session. It's a very convenient approach for many situations. For example, you can use **pickling** if your raw data needed extensive cleaning and you do not want to repeat the cleaning operations every time you load the raw data. Check out the **pickling** package here: https://bit.ly/3cuEvBd.\n",
    "\n",
    "**To get the data**:\n",
    "\n",
    "1. Download the two files (mreviews_train.pkl and mreviews_test.pkl) to your machine from the Assignment on Canvas.\n",
    "\n",
    "2. Set the path below to the folder on your machine where you put the data files (change the path shown).\n",
    "\n",
    "**Important:** If you work on Jupyter.org/try then set the path as follows: path = ''. Also, remember to upload the text normalization function and data files to the cloud."
   ]
  },
  {
   "cell_type": "code",
   "execution_count": 7,
   "metadata": {},
   "outputs": [],
   "source": [
    "path = 'E:/WashU/2021 FALL/DAT 562/lab5/'"
   ]
  },
  {
   "cell_type": "markdown",
   "metadata": {},
   "source": [
    "Load the movie reviews data:"
   ]
  },
  {
   "cell_type": "code",
   "execution_count": 8,
   "metadata": {},
   "outputs": [
    {
     "name": "stdout",
     "output_type": "stream",
     "text": [
      "Dimensions for test data: (1000, 3)\n",
      "Dimensions for training data: (1000, 3) \n",
      "\n",
      "First 5 rows in test dataset: \n",
      "     file_name                                        review_text  polarity\n",
      "0    0_10.txt  I went and saw this movie last night after bei...  positive\n",
      "0  100_10.txt  The finest short I've ever seen. Some commenta...  positive\n",
      "0   101_9.txt  This is a very, very odd film...one that is so...  positive\n",
      "0   102_8.txt  Although Bullet In The Brain is, without quest...  positive\n",
      "0  103_10.txt  ...means \"take up and read\", which is precisel...  positive \n",
      "\n",
      "First 5 rows in  training dataset: \n",
      "     file_name                                        review_text  polarity\n",
      "0     0_9.txt  Bromwell High is a cartoon comedy. It ran at t...  positive\n",
      "0   100_7.txt  Scott Bartlett's 'OffOn' is nine minutes of pu...  positive\n",
      "0   101_8.txt  IMDb lists this as 1972 for some reason, but t...  positive\n",
      "0  102_10.txt  I first heard about this film about 20 years a...  positive\n",
      "0   103_7.txt  when i read other comment,i decided to watch t...  positive\n"
     ]
    }
   ],
   "source": [
    "import pickle \n",
    "\n",
    "test_data = pd.read_pickle(path + 'mreviews_test.pkl')\n",
    "train_data = pd.read_pickle(path + 'mreviews_train.pkl')\n",
    "\n",
    "print(\"Dimensions for test data:\", test_data.shape)\n",
    "print(\"Dimensions for training data:\", train_data.shape,\"\\n\")\n",
    "print(\"First 5 rows in test dataset: \\n\", test_data.head(),\"\\n\")\n",
    "print(\"First 5 rows in  training dataset: \\n\", train_data.head())"
   ]
  },
  {
   "cell_type": "markdown",
   "metadata": {},
   "source": [
    "Each dataframe consists of **3 columns**: \n",
    "\n",
    "- **file_name** (the name of the file with review text), \n",
    "- **review_text** (the text of the review), \n",
    "- **polarity** (label for binary sentiment polarity created by a human: positive or negative). \n",
    "\n",
    "Let's split the training and testing dataframes into two dataframes each **..._reviews** and **..._polarity**, consisting of the respective columns:"
   ]
  },
  {
   "cell_type": "code",
   "execution_count": 9,
   "metadata": {},
   "outputs": [],
   "source": [
    "test_reviews = np.array(test_data['review_text'])\n",
    "test_polarity = np.array(test_data['polarity'])\n",
    "\n",
    "train_reviews = np.array(train_data['review_text'])\n",
    "train_polarity = np.array(train_data['polarity'])"
   ]
  },
  {
   "cell_type": "markdown",
   "metadata": {},
   "source": [
    "Normalize the text for reviews and name the normalized corpora of review texts **normalized_test_reviews** and **normalized_train_reviews**:"
   ]
  },
  {
   "cell_type": "code",
   "execution_count": 10,
   "metadata": {},
   "outputs": [],
   "source": [
    "normalized_test_reviews = normalize_corpus(test_reviews)\n",
    "normalized_train_reviews = normalize_corpus(train_reviews)"
   ]
  },
  {
   "cell_type": "markdown",
   "metadata": {},
   "source": [
    "## Lexicon-Based Sentiment Analysis (Unsupervised Machine Learning)\n",
    "\n",
    "### VADER Lexicon\n",
    "\n",
    "We will use the **VADER lexicon** available through the NLTK module. VADER stands for **Valence Aware Dictionary and sEntiment Reasoner**. The lexicon informs both about the **polarity** (positive /negative) and **intensity** of the sentiment.\n",
    "\n",
    "You can read on how VADER was created here (it's a pretty exciting and accessible read): http://comp.social.gatech.edu/papers/icwsm14.vader.hutto.pdf.\n",
    "\n",
    "Let's **download** the VADER lexicon: "
   ]
  },
  {
   "cell_type": "code",
   "execution_count": 11,
   "metadata": {},
   "outputs": [
    {
     "name": "stderr",
     "output_type": "stream",
     "text": [
      "[nltk_data] Downloading package vader_lexicon to\n",
      "[nltk_data]     C:\\Users\\Willi\\AppData\\Roaming\\nltk_data...\n"
     ]
    },
    {
     "data": {
      "text/plain": [
       "True"
      ]
     },
     "execution_count": 11,
     "metadata": {},
     "output_type": "execute_result"
    }
   ],
   "source": [
    "nltk.download('vader_lexicon')"
   ]
  },
  {
   "cell_type": "markdown",
   "metadata": {},
   "source": [
    "Import the **sentiment analysis function** SentimentIntensityAnalyzer() that uses the VADER lexicon from the NLTK package. Let's refer to that function as **analyzer** for short:"
   ]
  },
  {
   "cell_type": "code",
   "execution_count": 12,
   "metadata": {},
   "outputs": [],
   "source": [
    "from nltk.sentiment.vader import SentimentIntensityAnalyzer\n",
    "analyzer = SentimentIntensityAnalyzer()"
   ]
  },
  {
   "cell_type": "markdown",
   "metadata": {},
   "source": [
    "The function assigns sentiment **scores** to each word in text according to the VADER lexicon.\n",
    "\n",
    "First, **explore how VADER assigns sentiment** to text using sentences below. Feel free to **change** the sentences and observe the changes in the results:"
   ]
  },
  {
   "cell_type": "code",
   "execution_count": 13,
   "metadata": {},
   "outputs": [],
   "source": [
    "text_1a = 'I liked the plot of this movie'\n",
    "text_1b = 'I loved the plot of this movie'\n",
    "text_2a = 'I hated the plot of this movie'\n",
    "text_2b = 'I hated the plot of this movie :('"
   ]
  },
  {
   "cell_type": "markdown",
   "metadata": {},
   "source": [
    "The function attribute **.polarity_scores** does the sentiment scoring:"
   ]
  },
  {
   "cell_type": "code",
   "execution_count": 14,
   "metadata": {},
   "outputs": [
    {
     "name": "stdout",
     "output_type": "stream",
     "text": [
      "I liked the plot of this movie \n",
      "Scores: {'neg': 0.0, 'neu': 0.641, 'pos': 0.359, 'compound': 0.4215} \n",
      "\n",
      "I loved the plot of this movie \n",
      "Scores: {'neg': 0.0, 'neu': 0.562, 'pos': 0.438, 'compound': 0.5994} \n",
      "\n",
      "I hated the plot of this movie \n",
      "Scores: {'neg': 0.457, 'neu': 0.543, 'pos': 0.0, 'compound': -0.6369} \n",
      "\n",
      "I hated the plot of this movie :( \n",
      "Scores: {'neg': 0.587, 'neu': 0.413, 'pos': 0.0, 'compound': -0.7964} \n",
      "\n"
     ]
    }
   ],
   "source": [
    "print(text_1a, \"\\nScores:\", analyzer.polarity_scores(text_1a),\"\\n\")\n",
    "print(text_1b, \"\\nScores:\", analyzer.polarity_scores(text_1b),\"\\n\")\n",
    "print(text_2a, \"\\nScores:\", analyzer.polarity_scores(text_2a),\"\\n\")\n",
    "print(text_2b, \"\\nScores:\", analyzer.polarity_scores(text_2b),\"\\n\")"
   ]
  },
  {
   "cell_type": "markdown",
   "metadata": {},
   "source": [
    "**How do you interpret the results?** \n",
    "\n",
    "The function reports the shares of the review text that is negative ('neg'), neutral ('neu') and positive ('pos'), which sum up to 1.  \n",
    "\n",
    "The **'compound'** score is a sum of sentiment scores across all words in the text, normalized to be between -1 to 1. The values below -0.05 stand for **negative polarity**, values above 0.05 correspond to **positive polarity**. The values between -0.05 and 0.05 are considered **neutral**. The score magnitude speaks about **sentiment intensity**. \n",
    "\n",
    "### VADER Lexicon-Based Sentiment Analysis of Movie Reviews\n",
    "\n",
    "We'll use the **test** dataset for the sentiment scoring of movie reviews. Using the test portion of the dataset will allow us to **compare the performance** of the trained classifier (we'll train it later) on the test dataset to this lexicon-based method.\n",
    "\n",
    "Have a look at a couple of **sample reviews** and the sentiment polarity labels created by humans for two sample documents:"
   ]
  },
  {
   "cell_type": "code",
   "execution_count": 15,
   "metadata": {},
   "outputs": [
    {
     "name": "stdout",
     "output_type": "stream",
     "text": [
      "Review:-\n",
      "The entire movie, an artful adaptation of one of Joyce's \"Dubliners\" stories, takes place on the night of January 6 (Epiphany), 1906. Most of the film takes place at an annual party given by three spinsters (two sisters and their niece), where a group of upper-class Dubliners gather for an evening of music, recitations and dinner. While there is very little plot per se, the interaction and conversation among the group reveals much about Dublin in the early 20th century when the stirrings for independence were just beginning. The cast, all talented Irish stage actors with the exception of Anjelica Huston, are universally wonderful, and one actually feels he is a guest at the gathering himself. The poignant final scene, between Ms. Huston and the amazing Donal McCann, reveals much about the marriage of the characters. There is poignancy mixed with humor and insight, and for those who like quiet, thoughtful movies, \"The Dead\" is highly recommended. My wife is from Dublin, we make a ritual of watching this wonderful movie every January 6th. After many viewings it never fails to move me, and each time I glean something that I've missed before.\n",
      "Actual Labeled Sentiment: positive\n",
      "\n",
      "Review:-\n",
      "Oh dear! Oh dear! Oh dear!<br /><br />To think that films such as this were made, and probably enjoyed by thousands at drive-ins really boggles the mind. How innocent we were in those days.<br /><br />To put it bluntly, this film is crap. The hero is so wet you can hear his squishy damp footsteps in every scene. My Lord, but he's just one of a whole slew of awful, awful actors that appear in this turkey. No wonder MST3K picked it. The story, such as it is, centres around a stock car driver (who is so incompetent, you really believe it is the actor driving the car) that he gives up and \"gets in with the wrong crowd\" Oooooh! Scary stuff. However, the wrong crowd turn out to be the biker equivalent of The Three Stooges and their \"hand-me round\" slut of a biker chick. As an example of how lame this whole thing is, the writers obviously wracked their brains to come up with a frightening name for the biker gang - if four people can be called a gang, that is. The result? The gang is called Satan's Angels! I kid you not.<br /><br />Such dire acting and dialogue, along with ridiculous scenes, make for a wonderful beer and chips movie. But otherwise its just the worst kind of rubbish.<br /><br />As I said. Once, this may have been considered good. But today it just makes you laugh (and cringe) with every minute that goes by. Avoid it except for a good laugh. And make sure you're more than half-drunk too!\n",
      "Actual Labeled Sentiment: negative\n",
      "\n"
     ]
    }
   ],
   "source": [
    "sample_docs = [100, 700] #indecies for 2 sample documnets \n",
    "\n",
    "for doc_index in sample_docs:\n",
    "    print('Review:-')\n",
    "    print(test_reviews[doc_index])\n",
    "    print('Actual Labeled Sentiment:', test_polarity[doc_index])\n",
    "    print()"
   ]
  },
  {
   "cell_type": "markdown",
   "metadata": {},
   "source": [
    "Let's create a **function that scores text using VADER lexicon and prints the actual and scored sentiment**. \n",
    "\n",
    "Our function called **analyze_sentiment_vader_lexicon** will take the review text as an input. It will return the **VADER sentiment score** and the **binary sentiment polarity** (positive/negative) based on it. \n",
    "\n",
    "The function will use the following rule for assigning binary sentiment polarity: if \"compound\" score > **0.1** then the review is **positive**, otherwise it's negative. In other words, the **0.1** VADER score is the **threshold** for defining a positive review. The threshold is *arbitrary*, to some extent, and we'll be chaning it later. \n",
    "\n",
    "The function we define:"
   ]
  },
  {
   "cell_type": "code",
   "execution_count": 16,
   "metadata": {},
   "outputs": [],
   "source": [
    "def analyze_sentiment_vader_lexicon(review, threshold = 0.1, verbose = False):\n",
    "    scores = analyzer.polarity_scores(review)  \n",
    "    binary_sentiment = 'positive' if scores['compound'] >= threshold else 'negative'\n",
    "    if verbose:                             \n",
    "        print('VADER Polarity (Binary):', binary_sentiment)\n",
    "        print('VADER Score:', round(scores['compound'], 2))\n",
    "    return binary_sentiment,scores['compound']  "
   ]
  },
  {
   "cell_type": "markdown",
   "metadata": {},
   "source": [
    "Now we can apply the function to score sentiment in the sample documents and get a sense of what the function does:"
   ]
  },
  {
   "cell_type": "code",
   "execution_count": 17,
   "metadata": {},
   "outputs": [
    {
     "name": "stdout",
     "output_type": "stream",
     "text": [
      "\n",
      "Review text:\n",
      "\n",
      "The entire movie, an artful adaptation of one of Joyce's \"Dubliners\" stories, takes place on the night of January 6 (Epiphany), 1906. Most of the film takes place at an annual party given by three spinsters (two sisters and their niece), where a group of upper-class Dubliners gather for an evening of music, recitations and dinner. While there is very little plot per se, the interaction and conversation among the group reveals much about Dublin in the early 20th century when the stirrings for independence were just beginning. The cast, all talented Irish stage actors with the exception of Anjelica Huston, are universally wonderful, and one actually feels he is a guest at the gathering himself. The poignant final scene, between Ms. Huston and the amazing Donal McCann, reveals much about the marriage of the characters. There is poignancy mixed with humor and insight, and for those who like quiet, thoughtful movies, \"The Dead\" is highly recommended. My wife is from Dublin, we make a ritual of watching this wonderful movie every January 6th. After many viewings it never fails to move me, and each time I glean something that I've missed before. \n",
      "\n",
      "ACTUAL Polarity (Labeled by Human): positive \n",
      "\n",
      "VADER Polarity (Binary): positive\n",
      "VADER Score: 0.97\n",
      "------------------------------------------------------------\n",
      "\n",
      "Review text:\n",
      "\n",
      "Oh dear! Oh dear! Oh dear!<br /><br />To think that films such as this were made, and probably enjoyed by thousands at drive-ins really boggles the mind. How innocent we were in those days.<br /><br />To put it bluntly, this film is crap. The hero is so wet you can hear his squishy damp footsteps in every scene. My Lord, but he's just one of a whole slew of awful, awful actors that appear in this turkey. No wonder MST3K picked it. The story, such as it is, centres around a stock car driver (who is so incompetent, you really believe it is the actor driving the car) that he gives up and \"gets in with the wrong crowd\" Oooooh! Scary stuff. However, the wrong crowd turn out to be the biker equivalent of The Three Stooges and their \"hand-me round\" slut of a biker chick. As an example of how lame this whole thing is, the writers obviously wracked their brains to come up with a frightening name for the biker gang - if four people can be called a gang, that is. The result? The gang is called Satan's Angels! I kid you not.<br /><br />Such dire acting and dialogue, along with ridiculous scenes, make for a wonderful beer and chips movie. But otherwise its just the worst kind of rubbish.<br /><br />As I said. Once, this may have been considered good. But today it just makes you laugh (and cringe) with every minute that goes by. Avoid it except for a good laugh. And make sure you're more than half-drunk too! \n",
      "\n",
      "ACTUAL Polarity (Labeled by Human): negative \n",
      "\n",
      "VADER Polarity (Binary): negative\n",
      "VADER Score: -0.16\n",
      "------------------------------------------------------------\n"
     ]
    }
   ],
   "source": [
    "for doc_index in sample_docs:\n",
    "    print('\\nReview text:\\n')\n",
    "    print(test_reviews[doc_index],\"\\n\")\n",
    "    print('ACTUAL Polarity (Labeled by Human):', test_polarity[doc_index],\"\\n\")    \n",
    "    final_sentiment = analyze_sentiment_vader_lexicon(normalized_test_reviews[doc_index],\n",
    "                                                        threshold=0.1,\n",
    "                                                        verbose=True)\n",
    "    print('-'*60)                                                      "
   ]
  },
  {
   "cell_type": "markdown",
   "metadata": {},
   "source": [
    "Let's score now all movie reviews in the **test** dataset:"
   ]
  },
  {
   "cell_type": "code",
   "execution_count": 18,
   "metadata": {},
   "outputs": [
    {
     "data": {
      "text/html": [
       "<div>\n",
       "<style scoped>\n",
       "    .dataframe tbody tr th:only-of-type {\n",
       "        vertical-align: middle;\n",
       "    }\n",
       "\n",
       "    .dataframe tbody tr th {\n",
       "        vertical-align: top;\n",
       "    }\n",
       "\n",
       "    .dataframe thead th {\n",
       "        text-align: right;\n",
       "    }\n",
       "</style>\n",
       "<table border=\"1\" class=\"dataframe\">\n",
       "  <thead>\n",
       "    <tr style=\"text-align: right;\">\n",
       "      <th></th>\n",
       "      <th>VADER Polarity</th>\n",
       "      <th>VADER Score</th>\n",
       "    </tr>\n",
       "  </thead>\n",
       "  <tbody>\n",
       "    <tr>\n",
       "      <th>0</th>\n",
       "      <td>positive</td>\n",
       "      <td>0.7956</td>\n",
       "    </tr>\n",
       "    <tr>\n",
       "      <th>1</th>\n",
       "      <td>positive</td>\n",
       "      <td>0.9818</td>\n",
       "    </tr>\n",
       "    <tr>\n",
       "      <th>2</th>\n",
       "      <td>positive</td>\n",
       "      <td>0.8265</td>\n",
       "    </tr>\n",
       "    <tr>\n",
       "      <th>3</th>\n",
       "      <td>positive</td>\n",
       "      <td>0.7199</td>\n",
       "    </tr>\n",
       "    <tr>\n",
       "      <th>4</th>\n",
       "      <td>positive</td>\n",
       "      <td>0.9850</td>\n",
       "    </tr>\n",
       "  </tbody>\n",
       "</table>\n",
       "</div>"
      ],
      "text/plain": [
       "  VADER Polarity  VADER Score\n",
       "0       positive       0.7956\n",
       "1       positive       0.9818\n",
       "2       positive       0.8265\n",
       "3       positive       0.7199\n",
       "4       positive       0.9850"
      ]
     },
     "execution_count": 18,
     "metadata": {},
     "output_type": "execute_result"
    }
   ],
   "source": [
    "VADER_polarity_test = [analyze_sentiment_vader_lexicon(review, threshold=0.1) for review in test_reviews]\n",
    "VADER_polarity_test_df = pd.DataFrame(VADER_polarity_test, columns = ['VADER Polarity','VADER Score'])\n",
    "VADER_polarity_test_df.head()"
   ]
  },
  {
   "cell_type": "markdown",
   "metadata": {},
   "source": [
    "Since we have **human-created labels** for sentiment polarity in our data (positive/negative), we can compute the **accuracy rate** for the binary sentiment prediction that we computed using the VADER lexicon, conditional on the threshold value of 0.1 (for classifying sentiment as just positive or negative; no neutral). The accuracy rate: "
   ]
  },
  {
   "cell_type": "code",
   "execution_count": 19,
   "metadata": {},
   "outputs": [
    {
     "name": "stdout",
     "output_type": "stream",
     "text": [
      "Accuracy Rate: 0.693 \n",
      "\n"
     ]
    }
   ],
   "source": [
    "from sklearn import metrics\n",
    "print('Accuracy Rate:', np.round(metrics.accuracy_score(test_polarity, \n",
    "                                 VADER_polarity_test_df['VADER Polarity']), 3),\"\\n\")"
   ]
  },
  {
   "cell_type": "markdown",
   "metadata": {},
   "source": [
    "Confusion matrix:"
   ]
  },
  {
   "cell_type": "code",
   "execution_count": 20,
   "metadata": {},
   "outputs": [
    {
     "data": {
      "text/html": [
       "<div>\n",
       "<style scoped>\n",
       "    .dataframe tbody tr th:only-of-type {\n",
       "        vertical-align: middle;\n",
       "    }\n",
       "\n",
       "    .dataframe tbody tr th {\n",
       "        vertical-align: top;\n",
       "    }\n",
       "\n",
       "    .dataframe thead th {\n",
       "        text-align: right;\n",
       "    }\n",
       "</style>\n",
       "<table border=\"1\" class=\"dataframe\">\n",
       "  <thead>\n",
       "    <tr style=\"text-align: right;\">\n",
       "      <th>Predicted:</th>\n",
       "      <th>negative</th>\n",
       "      <th>positive</th>\n",
       "      <th>All</th>\n",
       "    </tr>\n",
       "    <tr>\n",
       "      <th>True:</th>\n",
       "      <th></th>\n",
       "      <th></th>\n",
       "      <th></th>\n",
       "    </tr>\n",
       "  </thead>\n",
       "  <tbody>\n",
       "    <tr>\n",
       "      <th>negative</th>\n",
       "      <td>265</td>\n",
       "      <td>235</td>\n",
       "      <td>500</td>\n",
       "    </tr>\n",
       "    <tr>\n",
       "      <th>positive</th>\n",
       "      <td>72</td>\n",
       "      <td>428</td>\n",
       "      <td>500</td>\n",
       "    </tr>\n",
       "    <tr>\n",
       "      <th>All</th>\n",
       "      <td>337</td>\n",
       "      <td>663</td>\n",
       "      <td>1000</td>\n",
       "    </tr>\n",
       "  </tbody>\n",
       "</table>\n",
       "</div>"
      ],
      "text/plain": [
       "Predicted:  negative  positive   All\n",
       "True:                               \n",
       "negative         265       235   500\n",
       "positive          72       428   500\n",
       "All              337       663  1000"
      ]
     },
     "execution_count": 20,
     "metadata": {},
     "output_type": "execute_result"
    }
   ],
   "source": [
    "pd.crosstab(pd.Series(test_polarity), \n",
    "            pd.Series(VADER_polarity_test_df['VADER Polarity']), \n",
    "            rownames = ['True:'], \n",
    "            colnames = ['Predicted:'], \n",
    "            margins = True)"
   ]
  },
  {
   "cell_type": "markdown",
   "metadata": {},
   "source": [
    "### **<font color=green>EXERCISE 1:</font>**\n",
    "\n",
    "**<font color=green>1.1. What is the precision for this VADER lexicon-based sentiment analysis tool we created? The formula for the precision statistic: Precision = true positives / (true positives + false positives) Interpretation: what share of reviews identified as positive by the algorithm are truely positive?  </font>**\n",
    "\n",
    "**<font color=green>1.2. What is its recall rate (sensitivity)? The formula for the recall statistic: Recall (Sensitivity) = true positives / (true positives + false negatives) Interpretation: what share of truely positive reviews in the data was identified as positive by the algorithm? </font>**"
   ]
  },
  {
   "cell_type": "markdown",
   "metadata": {},
   "source": [
    "**Your answer to 1.1:**"
   ]
  },
  {
   "cell_type": "markdown",
   "metadata": {},
   "source": [
    "Accuracy Rate: 0.693 "
   ]
  },
  {
   "cell_type": "markdown",
   "metadata": {},
   "source": [
    "**Your answer to 1.2:**"
   ]
  },
  {
   "cell_type": "markdown",
   "metadata": {},
   "source": [
    "sensitivity = (TP)/(TP+FN) = 428/(500) = 85.6%"
   ]
  },
  {
   "cell_type": "markdown",
   "metadata": {},
   "source": [
    "Have a look at raw VADER scores assigned to actual positive reviews:"
   ]
  },
  {
   "cell_type": "code",
   "execution_count": 21,
   "metadata": {},
   "outputs": [
    {
     "data": {
      "image/png": "[encoded data removed]",
      "text/plain": [
       "<Figure size 432x288 with 1 Axes>"
      ]
     },
     "metadata": {
      "needs_background": "light"
     },
     "output_type": "display_data"
    }
   ],
   "source": [
    "import matplotlib.pyplot as plt\n",
    "\n",
    "pos_reviews_scored = VADER_polarity_test_df[:500]['VADER Score']\n",
    "plt.bar(range(0, 500), pos_reviews_scored.sort_values(ascending=False))\n",
    "plt.xlabel(\"Reviews with positive ACTUAL polarity\")\n",
    "plt.ylabel(\"VADER Score\")\n",
    "plt.title(\"VADER Scores for ACTUAL Positive Reviews \\n (in decreasing order of VADER scores)\")\n",
    "plt.show()"
   ]
  },
  {
   "cell_type": "markdown",
   "metadata": {},
   "source": [
    "Now, have a look at VADER scores assigned to actual negative reviews:"
   ]
  },
  {
   "cell_type": "code",
   "execution_count": 22,
   "metadata": {},
   "outputs": [
    {
     "data": {
      "image/png": "[encoded data removed]",
      "text/plain": [
       "<Figure size 432x288 with 1 Axes>"
      ]
     },
     "metadata": {
      "needs_background": "light"
     },
     "output_type": "display_data"
    }
   ],
   "source": [
    "neg_reviews_scored = VADER_polarity_test_df[500:1000]['VADER Score']\n",
    "plt.bar(range(0, 500), neg_reviews_scored.sort_values(ascending=True))\n",
    "plt.xlabel(\"Reviews with negative ACTUAL polarity\")\n",
    "plt.ylabel(\"VADER score\")\n",
    "plt.title(\"VADER Scores for ACTUAL Negative Reviews \\n (in ascending order of VADER scores)\")\n",
    "plt.show()"
   ]
  },
  {
   "cell_type": "markdown",
   "metadata": {},
   "source": [
    "### **<font color=green>EXERCISE 2:</font>**\n",
    "\n",
    "**<font color=green>2.1. Given the information in the confusion matrix, the computed precision and recall rates, as well as the plots above, is the VADER lexicon-based tool good at identifying positive reviews? What about negative reviews? Support your answer using information provided by plot and the statistics computed earlier. </font>**\n",
    "\n",
    "Your answer:"
   ]
  },
  {
   "cell_type": "markdown",
   "metadata": {},
   "source": [
    "Yes, it did a good job on positive reviews but not so good on negative, the thrishold is not set correctlyy, thus more likly to lean towards positive labels."
   ]
  },
  {
   "cell_type": "markdown",
   "metadata": {},
   "source": [
    "Can we **increase the accuracy rate** of our VADER lexicon-based tool? \n",
    "\n",
    "We can fine-tune it by **adjusting the threshold parameter** for defining positive polarity that we earlier set to 0.1. We'll be looking for the threshold value that gives us the **highest accuracy rate**.\n",
    "\n",
    "Define a **function** that computes accuracy rate for different value of the threshold and call that function **try_threshold_for_accuracy**. The function will take the VADER score and the threshold parameter as inputs and return the accuracy rate, associated with the inputs:"
   ]
  },
  {
   "cell_type": "code",
   "execution_count": 23,
   "metadata": {},
   "outputs": [],
   "source": [
    "def try_threshold_for_accuracy(sentiment_scores, threshold_for_pos):\n",
    "    VADER_binary_polarity = ['positive' if s >= threshold_for_pos else 'negative' for s in list(sentiment_scores)]\n",
    "    accuracy = metrics.accuracy_score(test_polarity, VADER_binary_polarity)\n",
    "    return(accuracy) "
   ]
  },
  {
   "cell_type": "markdown",
   "metadata": {},
   "source": [
    "Let's apply this function to score the movie reviews using the threshold value = 0.5:"
   ]
  },
  {
   "cell_type": "code",
   "execution_count": 24,
   "metadata": {},
   "outputs": [
    {
     "name": "stdout",
     "output_type": "stream",
     "text": [
      "Accuracy rate:  0.707\n"
     ]
    }
   ],
   "source": [
    "threshold = 0.5\n",
    "print(\"Accuracy rate: \", try_threshold_for_accuracy(VADER_polarity_test_df['VADER Score'],threshold))"
   ]
  },
  {
   "cell_type": "markdown",
   "metadata": {},
   "source": [
    "Now, let's explore the changes in accuracy rate for a range of thresholds from -1 to 1 (that is VADER score's range):"
   ]
  },
  {
   "cell_type": "code",
   "execution_count": 25,
   "metadata": {},
   "outputs": [
    {
     "data": {
      "image/png": "[encoded data removed]",
      "text/plain": [
       "<Figure size 432x288 with 1 Axes>"
      ]
     },
     "metadata": {
      "needs_background": "light"
     },
     "output_type": "display_data"
    }
   ],
   "source": [
    "thresholds = np.linspace(-1,1,1000)\n",
    "acc_rates = [try_threshold_for_accuracy(VADER_polarity_test_df['VADER Score'],threshold) for threshold in thresholds]\n",
    "\n",
    "plt.plot(thresholds, acc_rates)\n",
    "plt.xlabel(\"Threshold score for positive (binary) sentiment polarity\")\n",
    "plt.ylabel(\"Accuracy rate\")\n",
    "plt.title(\"Accuracy Rate of Sentiment Polarity Prediction \\n as a Function of Threshold for VADER Scores \\n\")\n",
    "plt.show()"
   ]
  },
  {
   "cell_type": "markdown",
   "metadata": {},
   "source": [
    "### **<font color=green>EXERCISE 3:</font>**\n",
    "\n",
    "**<font color=green>3.1. What is the threshold value that maximizes the prediction accuracy rate? Use the plot above to give an approximate value or use the Python line: thresholds[acc_rates.index(max(acc_rates))] to provide your answer. Why is this threshold value relatively high? </font>**\n",
    "\n",
    "**<font color=green>3.2. What is the threshold value that maximizes the precision of the prediction? What about the recall? (HINT: You do not need to code up anything to answer this question)</font>**"
   ]
  },
  {
   "cell_type": "markdown",
   "metadata": {},
   "source": [
    "**Your answer for 3.1:**"
   ]
  },
  {
   "cell_type": "markdown",
   "metadata": {},
   "source": [
    "Around 0.82, because people are more likly to talk about the movies thety like rather they the movie they hate. It makes more positive samples in the universal sample space."
   ]
  },
  {
   "cell_type": "code",
   "execution_count": 30,
   "metadata": {},
   "outputs": [
    {
     "data": {
      "text/plain": [
       "0.8218218218218218"
      ]
     },
     "execution_count": 30,
     "metadata": {},
     "output_type": "execute_result"
    }
   ],
   "source": [
    "thresholds[acc_rates.index(max(acc_rates))] "
   ]
  },
  {
   "cell_type": "markdown",
   "metadata": {},
   "source": [
    "Discussion:"
   ]
  },
  {
   "cell_type": "markdown",
   "metadata": {},
   "source": []
  },
  {
   "cell_type": "markdown",
   "metadata": {},
   "source": [
    "**Your answer for 3.2:**"
   ]
  },
  {
   "cell_type": "markdown",
   "metadata": {},
   "source": [
    "Discussion:"
   ]
  },
  {
   "cell_type": "markdown",
   "metadata": {},
   "source": [
    "1, if set threhold to 1, everything will be classifed as positive, and precision would be 100%."
   ]
  },
  {
   "cell_type": "markdown",
   "metadata": {},
   "source": [
    "### Training your Own Sentiment Classifier (Supervised Machine Learning)\n",
    "\n",
    "Given that we have **labels** in the data, we can take advantage of them and train our own **sentiment classifier**. Let's do it and see if the performance of the custom classifier would be better than of the lexicon-based model above.\n",
    "\n",
    "Start by vectorizing the normalized training dataset. Let's use TF-IDF approach and use a mix of **uni-grams** and **bi-grams** as features:"
   ]
  },
  {
   "cell_type": "code",
   "execution_count": 31,
   "metadata": {},
   "outputs": [],
   "source": [
    "from sklearn.feature_extraction.text import TfidfVectorizer\n",
    "\n",
    "vectorizer = TfidfVectorizer(ngram_range = (1,2)) \n",
    "feature_matrix_TRAIN = vectorizer.fit_transform(normalized_train_reviews).astype(float)"
   ]
  },
  {
   "cell_type": "markdown",
   "metadata": {},
   "source": [
    "Have a look at the feature matrix with unigrams and bi-grams for the training data and note the n-grams:"
   ]
  },
  {
   "cell_type": "code",
   "execution_count": 32,
   "metadata": {},
   "outputs": [
    {
     "data": {
      "text/html": [
       "<div>\n",
       "<style scoped>\n",
       "    .dataframe tbody tr th:only-of-type {\n",
       "        vertical-align: middle;\n",
       "    }\n",
       "\n",
       "    .dataframe tbody tr th {\n",
       "        vertical-align: top;\n",
       "    }\n",
       "\n",
       "    .dataframe thead th {\n",
       "        text-align: right;\n",
       "    }\n",
       "</style>\n",
       "<table border=\"1\" class=\"dataframe\">\n",
       "  <thead>\n",
       "    <tr style=\"text-align: right;\">\n",
       "      <th></th>\n",
       "      <th>00pm</th>\n",
       "      <th>00pm castro</th>\n",
       "      <th>00pm us</th>\n",
       "      <th>100m</th>\n",
       "      <th>100m budget</th>\n",
       "      <th>100th</th>\n",
       "      <th>100th grade</th>\n",
       "      <th>13th</th>\n",
       "      <th>13th film</th>\n",
       "      <th>13th part</th>\n",
       "      <th>...</th>\n",
       "      <th>zorro</th>\n",
       "      <th>zorro hell</th>\n",
       "      <th>zsigmond</th>\n",
       "      <th>zsigmond future</th>\n",
       "      <th>zu</th>\n",
       "      <th>zu neuen</th>\n",
       "      <th>zu warrior</th>\n",
       "      <th>zu xian</th>\n",
       "      <th>zumhofe</th>\n",
       "      <th>zumhofe look</th>\n",
       "    </tr>\n",
       "  </thead>\n",
       "  <tbody>\n",
       "    <tr>\n",
       "      <th>0</th>\n",
       "      <td>0.0</td>\n",
       "      <td>0.0</td>\n",
       "      <td>0.0</td>\n",
       "      <td>0.0</td>\n",
       "      <td>0.0</td>\n",
       "      <td>0.0</td>\n",
       "      <td>0.0</td>\n",
       "      <td>0.0</td>\n",
       "      <td>0.0</td>\n",
       "      <td>0.0</td>\n",
       "      <td>...</td>\n",
       "      <td>0.0</td>\n",
       "      <td>0.0</td>\n",
       "      <td>0.0</td>\n",
       "      <td>0.0</td>\n",
       "      <td>0.0</td>\n",
       "      <td>0.0</td>\n",
       "      <td>0.0</td>\n",
       "      <td>0.0</td>\n",
       "      <td>0.0</td>\n",
       "      <td>0.0</td>\n",
       "    </tr>\n",
       "    <tr>\n",
       "      <th>1</th>\n",
       "      <td>0.0</td>\n",
       "      <td>0.0</td>\n",
       "      <td>0.0</td>\n",
       "      <td>0.0</td>\n",
       "      <td>0.0</td>\n",
       "      <td>0.0</td>\n",
       "      <td>0.0</td>\n",
       "      <td>0.0</td>\n",
       "      <td>0.0</td>\n",
       "      <td>0.0</td>\n",
       "      <td>...</td>\n",
       "      <td>0.0</td>\n",
       "      <td>0.0</td>\n",
       "      <td>0.0</td>\n",
       "      <td>0.0</td>\n",
       "      <td>0.0</td>\n",
       "      <td>0.0</td>\n",
       "      <td>0.0</td>\n",
       "      <td>0.0</td>\n",
       "      <td>0.0</td>\n",
       "      <td>0.0</td>\n",
       "    </tr>\n",
       "    <tr>\n",
       "      <th>2</th>\n",
       "      <td>0.0</td>\n",
       "      <td>0.0</td>\n",
       "      <td>0.0</td>\n",
       "      <td>0.0</td>\n",
       "      <td>0.0</td>\n",
       "      <td>0.0</td>\n",
       "      <td>0.0</td>\n",
       "      <td>0.0</td>\n",
       "      <td>0.0</td>\n",
       "      <td>0.0</td>\n",
       "      <td>...</td>\n",
       "      <td>0.0</td>\n",
       "      <td>0.0</td>\n",
       "      <td>0.0</td>\n",
       "      <td>0.0</td>\n",
       "      <td>0.0</td>\n",
       "      <td>0.0</td>\n",
       "      <td>0.0</td>\n",
       "      <td>0.0</td>\n",
       "      <td>0.0</td>\n",
       "      <td>0.0</td>\n",
       "    </tr>\n",
       "    <tr>\n",
       "      <th>3</th>\n",
       "      <td>0.0</td>\n",
       "      <td>0.0</td>\n",
       "      <td>0.0</td>\n",
       "      <td>0.0</td>\n",
       "      <td>0.0</td>\n",
       "      <td>0.0</td>\n",
       "      <td>0.0</td>\n",
       "      <td>0.0</td>\n",
       "      <td>0.0</td>\n",
       "      <td>0.0</td>\n",
       "      <td>...</td>\n",
       "      <td>0.0</td>\n",
       "      <td>0.0</td>\n",
       "      <td>0.0</td>\n",
       "      <td>0.0</td>\n",
       "      <td>0.0</td>\n",
       "      <td>0.0</td>\n",
       "      <td>0.0</td>\n",
       "      <td>0.0</td>\n",
       "      <td>0.0</td>\n",
       "      <td>0.0</td>\n",
       "    </tr>\n",
       "    <tr>\n",
       "      <th>4</th>\n",
       "      <td>0.0</td>\n",
       "      <td>0.0</td>\n",
       "      <td>0.0</td>\n",
       "      <td>0.0</td>\n",
       "      <td>0.0</td>\n",
       "      <td>0.0</td>\n",
       "      <td>0.0</td>\n",
       "      <td>0.0</td>\n",
       "      <td>0.0</td>\n",
       "      <td>0.0</td>\n",
       "      <td>...</td>\n",
       "      <td>0.0</td>\n",
       "      <td>0.0</td>\n",
       "      <td>0.0</td>\n",
       "      <td>0.0</td>\n",
       "      <td>0.0</td>\n",
       "      <td>0.0</td>\n",
       "      <td>0.0</td>\n",
       "      <td>0.0</td>\n",
       "      <td>0.0</td>\n",
       "      <td>0.0</td>\n",
       "    </tr>\n",
       "  </tbody>\n",
       "</table>\n",
       "<p>5 rows × 100229 columns</p>\n",
       "</div>"
      ],
      "text/plain": [
       "   00pm  00pm castro  00pm us  100m  100m budget  100th  100th grade  13th  \\\n",
       "0   0.0          0.0      0.0   0.0          0.0    0.0          0.0   0.0   \n",
       "1   0.0          0.0      0.0   0.0          0.0    0.0          0.0   0.0   \n",
       "2   0.0          0.0      0.0   0.0          0.0    0.0          0.0   0.0   \n",
       "3   0.0          0.0      0.0   0.0          0.0    0.0          0.0   0.0   \n",
       "4   0.0          0.0      0.0   0.0          0.0    0.0          0.0   0.0   \n",
       "\n",
       "   13th film  13th part  ...  zorro  zorro hell  zsigmond  zsigmond future  \\\n",
       "0        0.0        0.0  ...    0.0         0.0       0.0              0.0   \n",
       "1        0.0        0.0  ...    0.0         0.0       0.0              0.0   \n",
       "2        0.0        0.0  ...    0.0         0.0       0.0              0.0   \n",
       "3        0.0        0.0  ...    0.0         0.0       0.0              0.0   \n",
       "4        0.0        0.0  ...    0.0         0.0       0.0              0.0   \n",
       "\n",
       "    zu  zu neuen  zu warrior  zu xian  zumhofe  zumhofe look  \n",
       "0  0.0       0.0         0.0      0.0      0.0           0.0  \n",
       "1  0.0       0.0         0.0      0.0      0.0           0.0  \n",
       "2  0.0       0.0         0.0      0.0      0.0           0.0  \n",
       "3  0.0       0.0         0.0      0.0      0.0           0.0  \n",
       "4  0.0       0.0         0.0      0.0      0.0           0.0  \n",
       "\n",
       "[5 rows x 100229 columns]"
      ]
     },
     "execution_count": 32,
     "metadata": {},
     "output_type": "execute_result"
    }
   ],
   "source": [
    "feature_matrix_TRAIN_names = vectorizer.get_feature_names() \n",
    "feature_matrix_TRAIN_table = pd.DataFrame(data = feature_matrix_TRAIN.todense(), \n",
    "                                          columns = feature_matrix_TRAIN_names)\n",
    "feature_matrix_TRAIN_table.head()"
   ]
  },
  {
   "cell_type": "markdown",
   "metadata": {},
   "source": [
    "Vectorize **test data** using the features created based on the training data:"
   ]
  },
  {
   "cell_type": "code",
   "execution_count": 33,
   "metadata": {},
   "outputs": [],
   "source": [
    "feature_matrix_TEST = vectorizer.transform(normalized_test_reviews)"
   ]
  },
  {
   "cell_type": "markdown",
   "metadata": {},
   "source": [
    "Let's use Support Vector Machines (SVM) to train our custom sentiment classifier:"
   ]
  },
  {
   "cell_type": "code",
   "execution_count": 34,
   "metadata": {},
   "outputs": [],
   "source": [
    "from sklearn import linear_model\n",
    "\n",
    "svm = linear_model.SGDClassifier(loss='hinge', random_state = 0) \n",
    "svm.fit(feature_matrix_TRAIN, train_polarity)\n",
    "predicted_svm = svm.predict(feature_matrix_TEST) "
   ]
  },
  {
   "cell_type": "markdown",
   "metadata": {},
   "source": [
    "Compute the accuracy rate for the classifier:"
   ]
  },
  {
   "cell_type": "code",
   "execution_count": 35,
   "metadata": {},
   "outputs": [
    {
     "name": "stdout",
     "output_type": "stream",
     "text": [
      "Accuracy rate: 0.798\n"
     ]
    }
   ],
   "source": [
    "print('Accuracy rate:', np.round(metrics.accuracy_score(test_polarity, predicted_svm), 3))"
   ]
  },
  {
   "cell_type": "markdown",
   "metadata": {},
   "source": [
    "Have a look at a sample of reviews and their predicted and actual sentiment:"
   ]
  },
  {
   "cell_type": "code",
   "execution_count": 36,
   "metadata": {},
   "outputs": [
    {
     "name": "stdout",
     "output_type": "stream",
     "text": [
      "Review:-\n",
      "I went and saw this movie last night after being coaxed to by a few friends of mine. I'll admit that I was reluctant to see it because from what I knew of Ashton Kutcher he was only able to do comedy. I was wrong. Kutcher played the character of Jake Fischer very well, and Kevin Costner played Ben Randall with such professionalism. The sign of a good movie is that it can toy with our emotions. This one did exactly that. The entire theater (which was sold out) was overcome by laughter during the first half of the movie, and were moved to tears during the second half. While exiting the theater I not only saw many women in tears, but many full grown men as well, trying desperately not to let anyone see them crying. This movie was great, and I suggest that you go see it before you judge.\n",
      "\n",
      "Actual Labeled Sentiment: positive\n",
      "Predicted Sentiment: positive\n",
      "------------------------------------------------------------\n",
      "Review:-\n",
      "If you have not seen this late 80s film about the the Washington Bureau of a Network News station than I highly recommend it. It is a sad commentary on the direction of news reporting in this country but tells the story with wit. The characters are well developed and Albert Brooks performance is fabulous. He delivers all his lines with entertaining understated comedy. I am not an Albert Brooks fan at all so this was a welcome surprise. I have a friend who works as a producer for a local news station and he advised that this is close to reality so kudos to the films writer and director for doing their research.<br /><br />Fun movie with a lot of insight into the World of Network News. It is not nearly as dark as another movie I also recommend in the same genre 'Network'.\n",
      "\n",
      "Actual Labeled Sentiment: positive\n",
      "Predicted Sentiment: positive\n",
      "------------------------------------------------------------\n",
      "Review:-\n",
      "This movie is not the scariest of all time, but it is a great example of a campy eighties horror flick -- low budget, no stars, lots of inventive death scenes, and enough nudity to keep the teenagers in their seats. The premise is interesting and fun and the three evil kids play their parts well. A nice starting point for \"Just Say\" Julie Brown exposing her talents early in her career. This film won't be seen by many, but for fans of 80's horror it's a must.\n",
      "\n",
      "Actual Labeled Sentiment: positive\n",
      "Predicted Sentiment: positive\n",
      "------------------------------------------------------------\n",
      "Review:-\n",
      "I should start off by saying I have something of a love-hate relationship with musicals. Some of them are fantastic, some are downright crap. So I expected Hair to fall into one of those categories. However, it didn't, falling instead in the middle.<br /><br />The songs aren't brilliant, though the \"Sodomy\" song did make me smile a lot, and everything is rather dated looking. But the movie didn't draw me in as others have, such as Rocky Horror. Although that's a bad example, since for years I hated Rocky Horror, then all of a sudden I got it and have loved it ever since. Maybe Hair will be the same. Although I doubt it will get as much exposure as Rocky Horror due to the language and nudity content, so I doubt I will get the chance to have it grow on me. Gettit? Hair....grow...oh suit yourself.<br /><br />Anyhow, I didn't get to see the last fifteen minutes or so due to a technical glitch, which was a shame, since I would have liked to see how it ended, especially after reading some of the reviews here.<br /><br />Not a film for the casual cinema-goer, but definitely one for musical lovers. I really hope they don't re-make it, though, since I think any such re-make would end up a shallow, pale, PC version of the original.<br /><br />Worth a look for lovers of the genre.\n",
      "\n",
      "Actual Labeled Sentiment: negative\n",
      "Predicted Sentiment: positive\n",
      "------------------------------------------------------------\n",
      "Review:-\n",
      "This show should be titled, \"When Bad Writing Happens To Good Actors\" considering most of the players have demonstrated immense talent in other venues, e.g. Andre Braugher in Homicide: Life on the Street and David Morse in St. Elsewhere. I'm hoping that the frenetic pacing of the show is adjusted as the series develops along with the obvious cliches and dialogue so absurd I wondered just how stupid the writers imagined the core audience to be. We're beat over the head with the main points of this show instead of being left to gradually figure it out, almost as if the writers feel that they must spell out that the main character is some sort of avenging angel, sentenced to redeem himself from sins, both venial and mortal, via butting into his cab fares many affairs. Watching the premiere required much suspension of disbelief, that Mike Olshanskey's fares would so rapidly spill their guts and he would feel driven to intervene in the lives of utter strangers. That he possesses those \"Super-Cop\" abilities, to be all things to all people, weapons expert, martial arts master, psychologist, father-confessor, locksmith, and so on, ad infinitum. Pure drivelesque fantasy. What is it about recent televisions shows based in Philidelphia that they all seem to be imbued with a nasty ex-wife and a very disrepectfully bratty child? Overdone. I wanted to like this show, really I did, because it had the virtue of having a premise slightly different than many of the clones appearing in this season's fare and it stars some of my preferred actors. But I'm afraid this is just another possibly good idea ruined by careless execution.\n",
      "\n",
      "Actual Labeled Sentiment: negative\n",
      "Predicted Sentiment: negative\n",
      "------------------------------------------------------------\n",
      "Review:-\n",
      "Seriously, I can't imagine how anyone could find a single flattering thing to say about this movie, much less find it in themselves to write the glowing compliments contained in this comment section. How many methamphetamines was Bogdonovitch on during the filming of this movie? Was he giving a bonus to the actor that spat his lines out with the most speed and least inflection or thought? The dialogue is bad, the plot atrocious, even for a \"screwball\" comedy, and claims that the movie is an homage to classic film comedy is about the most inane thing I've ever heard. The cinematography is below the quality and innovation of that exhibited by the worst made-for-TV movies, the acting is awful (although I get the feeling that the fault for that lies squarely in the lap of the director), and speaking of which, did I mention the direction is so haphazard and inscrutable that it defies the definition of the word? The whole thing is a terribly unfunny (even in the much-beleaguered world of so-bad-it's-funny clunkers), soul-sucking, waste of two hours of your life that you'll never get back. Be afraid, be very afraid...\n",
      "\n",
      "Actual Labeled Sentiment: negative\n",
      "Predicted Sentiment: negative\n",
      "------------------------------------------------------------\n"
     ]
    }
   ],
   "source": [
    "sample_ids = [0, 30, 330, 855, 951, 995] \n",
    "for doc_index in sample_ids:\n",
    "    print('Review:-')\n",
    "    print(test_reviews[doc_index])\n",
    "    print('\\nActual Labeled Sentiment:', test_polarity[doc_index])\n",
    "    print('Predicted Sentiment:', predicted_svm[doc_index])   \n",
    "    print('-'*60)"
   ]
  },
  {
   "cell_type": "markdown",
   "metadata": {},
   "source": [
    "### **<font color=green>EXERCISE 4:</font>**\n",
    "\n",
    "**<font color=green>4.1. What explains the difference in the performance of the lexicon-based and the the SVM-based sentiment classifier, in your opinion?</font>**\n",
    "\n",
    "**<font color=green>4.2. Suggest another sentiment classifier (you can consider a different approach to feature engineering or model training, or both) and compare its performance to the SVM-based sentiment classifier.</font>**"
   ]
  },
  {
   "cell_type": "markdown",
   "metadata": {},
   "source": [
    "**Your answer for 4.1:**"
   ]
  },
  {
   "cell_type": "markdown",
   "metadata": {},
   "source": [
    "The custom SVM can pick up relationship of subtle connections (director); However, a general model is not capable of doing it."
   ]
  },
  {
   "cell_type": "markdown",
   "metadata": {},
   "source": [
    "**Your answer for 4.2:**"
   ]
  },
  {
   "cell_type": "markdown",
   "metadata": {},
   "source": [
    "Code:"
   ]
  },
  {
   "cell_type": "markdown",
   "metadata": {},
   "source": [
    "Random Forest. It select subtrees and makes decsion based on result from each subtree."
   ]
  },
  {
   "cell_type": "markdown",
   "metadata": {},
   "source": [
    "Discussion:"
   ]
  },
  {
   "cell_type": "markdown",
   "metadata": {},
   "source": []
  }
 ],
 "metadata": {
  "kernelspec": {
   "display_name": "Python 3",
   "language": "python",
   "name": "python3"
  },
  "language_info": {
   "codemirror_mode": {
    "name": "ipython",
    "version": 3
   },
   "file_extension": ".py",
   "mimetype": "text/x-python",
   "name": "python",
   "nbconvert_exporter": "python",
   "pygments_lexer": "ipython3",
   "version": "3.8.6rc1"
  }
 },
 "nbformat": 4,
 "nbformat_minor": 4
}
